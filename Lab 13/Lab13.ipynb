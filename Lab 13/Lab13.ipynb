{
 "cells": [
  {
   "cell_type": "markdown",
   "id": "d50f2767-9c51-4849-804c-e73e60e05115",
   "metadata": {},
   "source": [
    "# 1. Policz odległość pomiędzy punktami, sprawdź czy dany punkt geograficzny znajduje się w poligonie.\n",
    "Jeśli dane nie mają poligonu to możesz go stworzyć.  \n",
    "Jeżeli dane z wybranego źródła nie mają wystarczająco danych żeby wykonać wszystkie funkcje, użyj innego źródła. \n",
    "Użyj jednej z wybranych bibliotek GeoMesa lub Mosaic lub Sedona. \n",
    "- ST_Area \n",
    "- ST_Distance \n",
    "- ST_Contains \n",
    "- ST_Intersects \n",
    "- ST_Within "
   ]
  },
  {
   "cell_type": "markdown",
   "id": "e251b404-1310-4c91-add3-f3848cf74c58",
   "metadata": {},
   "source": [
    "Z powodu problemów z instalacją ww. bibliotek w DataBricks Community skorzystam tutaj z pythonowej biblioteki geopandas, aby wykonać to zadanie."
   ]
  },
  {
   "cell_type": "code",
   "execution_count": 1,
   "id": "79b9e4b2-5c18-41c6-9337-28b8350fad3d",
   "metadata": {},
   "outputs": [],
   "source": [
    "import geopandas as gpd\n",
    "from shapely.geometry import Point, Polygon"
   ]
  },
  {
   "cell_type": "code",
   "execution_count": 2,
   "id": "dd3af5e3-1144-4168-ba1e-60495114278f",
   "metadata": {},
   "outputs": [
    {
     "data": {
      "text/html": [
       "<div>\n",
       "<style scoped>\n",
       "    .dataframe tbody tr th:only-of-type {\n",
       "        vertical-align: middle;\n",
       "    }\n",
       "\n",
       "    .dataframe tbody tr th {\n",
       "        vertical-align: top;\n",
       "    }\n",
       "\n",
       "    .dataframe thead th {\n",
       "        text-align: right;\n",
       "    }\n",
       "</style>\n",
       "<table border=\"1\" class=\"dataframe\">\n",
       "  <thead>\n",
       "    <tr style=\"text-align: right;\">\n",
       "      <th></th>\n",
       "      <th>geometry</th>\n",
       "    </tr>\n",
       "  </thead>\n",
       "  <tbody>\n",
       "    <tr>\n",
       "      <th>0</th>\n",
       "      <td>POLYGON ((19.48842 50.07344, 20.10094 49.73585...</td>\n",
       "    </tr>\n",
       "  </tbody>\n",
       "</table>\n",
       "</div>"
      ],
      "text/plain": [
       "                                            geometry\n",
       "0  POLYGON ((19.48842 50.07344, 20.10094 49.73585..."
      ]
     },
     "execution_count": 2,
     "metadata": {},
     "output_type": "execute_result"
    }
   ],
   "source": [
    "gdf = gpd.read_file(\"map.geojson\")\n",
    "gdf2 = gpd.read_file(\"map2.geojson\")\n",
    "gdf.head()"
   ]
  },
  {
   "cell_type": "code",
   "execution_count": 3,
   "id": "b50c40e2-72a8-41f2-86af-5fd98b9f8d6b",
   "metadata": {},
   "outputs": [
    {
     "data": {
      "text/html": [
       "<div>\n",
       "<style scoped>\n",
       "    .dataframe tbody tr th:only-of-type {\n",
       "        vertical-align: middle;\n",
       "    }\n",
       "\n",
       "    .dataframe tbody tr th {\n",
       "        vertical-align: top;\n",
       "    }\n",
       "\n",
       "    .dataframe thead th {\n",
       "        text-align: right;\n",
       "    }\n",
       "</style>\n",
       "<table border=\"1\" class=\"dataframe\">\n",
       "  <thead>\n",
       "    <tr style=\"text-align: right;\">\n",
       "      <th></th>\n",
       "      <th>area</th>\n",
       "    </tr>\n",
       "  </thead>\n",
       "  <tbody>\n",
       "    <tr>\n",
       "      <th>0</th>\n",
       "      <td>7.078558e+09</td>\n",
       "    </tr>\n",
       "  </tbody>\n",
       "</table>\n",
       "</div>"
      ],
      "text/plain": [
       "           area\n",
       "0  7.078558e+09"
      ]
     },
     "execution_count": 3,
     "metadata": {},
     "output_type": "execute_result"
    }
   ],
   "source": [
    "gdf_m = gdf.to_crs(epsg=3857)  # zamiana na metry\n",
    "gdf_m[\"area\"] = gdf_m.geometry.area\n",
    "gdf_m[[\"area\"]].head()"
   ]
  },
  {
   "cell_type": "code",
   "execution_count": 4,
   "id": "2204b981-efbd-4ca7-a2a5-50bff36dc3dc",
   "metadata": {},
   "outputs": [
    {
     "name": "stdout",
     "output_type": "stream",
     "text": [
      "Czy któryś poligon zawiera punkt? True\n"
     ]
    }
   ],
   "source": [
    "point = Point(19.9, 50.0)\n",
    "contains_result = gdf.geometry.apply(lambda poly: poly.contains(point))\n",
    "print(\"Czy któryś poligon zawiera punkt?\", contains_result.any())"
   ]
  },
  {
   "cell_type": "code",
   "execution_count": 9,
   "id": "c00e90b4-1990-4870-87b1-5fc754b6bef8",
   "metadata": {},
   "outputs": [
    {
     "name": "stdout",
     "output_type": "stream",
     "text": [
      "Czy przecinają się: True\n"
     ]
    }
   ],
   "source": [
    "print(\"Czy przecinają się:\", gdf.geometry[0].intersects(gdf2.geometry[0]))"
   ]
  },
  {
   "cell_type": "code",
   "execution_count": 10,
   "id": "68ef6033-8c07-4c88-ab87-a042f7c2be44",
   "metadata": {},
   "outputs": [
    {
     "name": "stdout",
     "output_type": "stream",
     "text": [
      "Czy pierwszy jest wewnątrz drugiego: False\n"
     ]
    }
   ],
   "source": [
    "print(\"Czy pierwszy jest wewnątrz drugiego:\", gdf.geometry[0].within(gdf2.geometry[0]))"
   ]
  },
  {
   "cell_type": "code",
   "execution_count": 14,
   "id": "3f1e08cd-c3cb-4517-858b-7d68dc8c8938",
   "metadata": {},
   "outputs": [
    {
     "name": "stdout",
     "output_type": "stream",
     "text": [
      "Odległość między poligonami w metrach: 0.0\n"
     ]
    }
   ],
   "source": [
    "gdf2_m = gdf2.to_crs(epsg=3857)\n",
    "\n",
    "distance = gdf_m.geometry[0].distance(gdf2_m.geometry[0])\n",
    "print(\"Odległość między poligonami w metrach:\", distance)"
   ]
  }
 ],
 "metadata": {
  "kernelspec": {
   "display_name": "Python 3 (ipykernel)",
   "language": "python",
   "name": "python3"
  },
  "language_info": {
   "codemirror_mode": {
    "name": "ipython",
    "version": 3
   },
   "file_extension": ".py",
   "mimetype": "text/x-python",
   "name": "python",
   "nbconvert_exporter": "python",
   "pygments_lexer": "ipython3",
   "version": "3.11.8"
  }
 },
 "nbformat": 4,
 "nbformat_minor": 5
}
