{
 "cells": [
  {
   "cell_type": "markdown",
   "metadata": {
    "application/vnd.databricks.v1+cell": {
     "cellMetadata": {},
     "inputWidgets": {},
     "nuid": "8e1728f0-ac73-44c8-9558-a45de5155088",
     "showTitle": false,
     "tableResultSettingsMap": {},
     "title": ""
    }
   },
   "source": [
    "## Zadanie 1\n",
    "Wykorzystaj przykłady z notatnika w SQL Windowed Aggregate Functions (cmd 11) i przepisz funkcje używając Spark API.   \n",
    "Do tego notatnika dopisz użycie funkcji okienkowych LEAD, LAG, FIRST_VALUE, LAST_VALUE, ROW_NUMBER  "
   ]
  },
  {
   "cell_type": "code",
   "execution_count": 0,
   "metadata": {
    "application/vnd.databricks.v1+cell": {
     "cellMetadata": {
      "byteLimit": 2048000,
      "rowLimit": 10000
     },
     "inputWidgets": {},
     "nuid": "4346b15a-950d-4ee4-b627-bdeaa88bd721",
     "showTitle": false,
     "tableResultSettingsMap": {},
     "title": ""
    }
   },
   "outputs": [],
   "source": [
    "from pyspark.sql import SparkSession\n",
    "from pyspark.sql.functions import col, lead, lag, first, last, row_number\n",
    "from pyspark.sql.window import Window\n",
    "from datetime import date\n",
    "\n",
    "#przepisanie z sql\n",
    "transactions_data = [\n",
    "    (1, date(2011, 1, 1), 500),\n",
    "    (1, date(2011, 1, 15), 50),\n",
    "    (1, date(2011, 1, 22), 250),\n",
    "    (1, date(2011, 1, 24), 75),\n",
    "    (1, date(2011, 1, 26), 125),\n",
    "    (1, date(2011, 1, 28), 175),\n",
    "    (2, date(2011, 1, 1), 500),\n",
    "    (2, date(2011, 1, 15), 50),\n",
    "    (2, date(2011, 1, 22), 25),\n",
    "    (2, date(2011, 1, 23), 125),\n",
    "    (2, date(2011, 1, 26), 200),\n",
    "    (2, date(2011, 1, 29), 250)\n",
    "]\n",
    "\n",
    "transactionsDf = spark.createDataFrame(transactions_data, [\"AccountId\", \"TranDate\", \"TranAmt\"])"
   ]
  },
  {
   "cell_type": "code",
   "execution_count": 0,
   "metadata": {
    "application/vnd.databricks.v1+cell": {
     "cellMetadata": {
      "byteLimit": 2048000,
      "rowLimit": 10000
     },
     "inputWidgets": {},
     "nuid": "4850dd2c-e732-4b37-8857-ada8fe56aa88",
     "showTitle": false,
     "tableResultSettingsMap": {},
     "title": ""
    }
   },
   "outputs": [
    {
     "output_type": "display_data",
     "data": {
      "text/html": [
       "<style scoped>\n",
       "  .table-result-container {\n",
       "    max-height: 300px;\n",
       "    overflow: auto;\n",
       "  }\n",
       "  table, th, td {\n",
       "    border: 1px solid black;\n",
       "    border-collapse: collapse;\n",
       "  }\n",
       "  th, td {\n",
       "    padding: 5px;\n",
       "  }\n",
       "  th {\n",
       "    text-align: left;\n",
       "  }\n",
       "</style><div class='table-result-container'><table class='table-result'><thead style='background-color: white'><tr><th>AccountId</th><th>TranDate</th><th>TranAmt</th><th>NextAmount</th><th>PrevAmount</th><th>FirstAmount</th><th>LastAmount</th><th>RowNum</th></tr></thead><tbody><tr><td>1</td><td>2011-01-01</td><td>500</td><td>50</td><td>null</td><td>500</td><td>500</td><td>1</td></tr><tr><td>1</td><td>2011-01-15</td><td>50</td><td>250</td><td>500</td><td>500</td><td>50</td><td>2</td></tr><tr><td>1</td><td>2011-01-22</td><td>250</td><td>75</td><td>50</td><td>500</td><td>250</td><td>3</td></tr><tr><td>1</td><td>2011-01-24</td><td>75</td><td>125</td><td>250</td><td>500</td><td>75</td><td>4</td></tr><tr><td>1</td><td>2011-01-26</td><td>125</td><td>175</td><td>75</td><td>500</td><td>125</td><td>5</td></tr><tr><td>1</td><td>2011-01-28</td><td>175</td><td>null</td><td>125</td><td>500</td><td>175</td><td>6</td></tr><tr><td>2</td><td>2011-01-01</td><td>500</td><td>50</td><td>null</td><td>500</td><td>500</td><td>1</td></tr><tr><td>2</td><td>2011-01-15</td><td>50</td><td>25</td><td>500</td><td>500</td><td>50</td><td>2</td></tr><tr><td>2</td><td>2011-01-22</td><td>25</td><td>125</td><td>50</td><td>500</td><td>25</td><td>3</td></tr><tr><td>2</td><td>2011-01-23</td><td>125</td><td>200</td><td>25</td><td>500</td><td>125</td><td>4</td></tr><tr><td>2</td><td>2011-01-26</td><td>200</td><td>250</td><td>125</td><td>500</td><td>200</td><td>5</td></tr><tr><td>2</td><td>2011-01-29</td><td>250</td><td>null</td><td>200</td><td>500</td><td>250</td><td>6</td></tr></tbody></table></div>"
      ]
     },
     "metadata": {
      "application/vnd.databricks.v1+output": {
       "addedWidgets": {},
       "aggData": [],
       "aggError": "",
       "aggOverflow": false,
       "aggSchema": [],
       "aggSeriesLimitReached": false,
       "aggType": "",
       "arguments": {},
       "columnCustomDisplayInfos": {},
       "data": [
        [
         1,
         "2011-01-01",
         500,
         50,
         null,
         500,
         500,
         1
        ],
        [
         1,
         "2011-01-15",
         50,
         250,
         500,
         500,
         50,
         2
        ],
        [
         1,
         "2011-01-22",
         250,
         75,
         50,
         500,
         250,
         3
        ],
        [
         1,
         "2011-01-24",
         75,
         125,
         250,
         500,
         75,
         4
        ],
        [
         1,
         "2011-01-26",
         125,
         175,
         75,
         500,
         125,
         5
        ],
        [
         1,
         "2011-01-28",
         175,
         null,
         125,
         500,
         175,
         6
        ],
        [
         2,
         "2011-01-01",
         500,
         50,
         null,
         500,
         500,
         1
        ],
        [
         2,
         "2011-01-15",
         50,
         25,
         500,
         500,
         50,
         2
        ],
        [
         2,
         "2011-01-22",
         25,
         125,
         50,
         500,
         25,
         3
        ],
        [
         2,
         "2011-01-23",
         125,
         200,
         25,
         500,
         125,
         4
        ],
        [
         2,
         "2011-01-26",
         200,
         250,
         125,
         500,
         200,
         5
        ],
        [
         2,
         "2011-01-29",
         250,
         null,
         200,
         500,
         250,
         6
        ]
       ],
       "datasetInfos": [],
       "dbfsResultPath": null,
       "isJsonSchema": true,
       "metadata": {},
       "overflow": false,
       "plotOptions": {
        "customPlotOptions": {},
        "displayType": "table",
        "pivotAggregation": null,
        "pivotColumns": null,
        "xColumns": null,
        "yColumns": null
       },
       "removedWidgets": [],
       "schema": [
        {
         "metadata": "{}",
         "name": "AccountId",
         "type": "\"long\""
        },
        {
         "metadata": "{}",
         "name": "TranDate",
         "type": "\"date\""
        },
        {
         "metadata": "{}",
         "name": "TranAmt",
         "type": "\"long\""
        },
        {
         "metadata": "{}",
         "name": "NextAmount",
         "type": "\"long\""
        },
        {
         "metadata": "{}",
         "name": "PrevAmount",
         "type": "\"long\""
        },
        {
         "metadata": "{}",
         "name": "FirstAmount",
         "type": "\"long\""
        },
        {
         "metadata": "{}",
         "name": "LastAmount",
         "type": "\"long\""
        },
        {
         "metadata": "{}",
         "name": "RowNum",
         "type": "\"integer\""
        }
       ],
       "type": "table"
      }
     },
     "output_type": "display_data"
    }
   ],
   "source": [
    "from pyspark.sql.window import Window\n",
    "from pyspark.sql.functions import lead, lag, first, last, row_number\n",
    "\n",
    "#definicja okna (po koncie i sortowanie po dacie)\n",
    "windowSpec = Window.partitionBy(\"AccountId\").orderBy(\"TranDate\")\n",
    "\n",
    "#leadto wartość z następnego wiersza\n",
    "#lag to wartość z poprzedniego\n",
    "#first to pierwsza transakcja\n",
    "#last to ostatnia transakcja\n",
    "#row_number to numeruje wiersze od 1 dla każdej grupy\n",
    "transactionsDf = transactionsDf.withColumn(\"NextAmount\", lead(\"TranAmt\").over(windowSpec)) \\\n",
    "                               .withColumn(\"PrevAmount\", lag(\"TranAmt\").over(windowSpec)) \\\n",
    "                               .withColumn(\"FirstAmount\", first(\"TranAmt\").over(windowSpec)) \\\n",
    "                               .withColumn(\"LastAmount\", last(\"TranAmt\").over(windowSpec)) \\\n",
    "                               .withColumn(\"RowNum\", row_number().over(windowSpec))\n",
    "\n",
    "display(transactionsDf)"
   ]
  }
 ],
 "metadata": {
  "application/vnd.databricks.v1+notebook": {
   "computePreferences": null,
   "dashboards": [],
   "environmentMetadata": {
    "base_environment": "",
    "environment_version": "1"
   },
   "inputWidgetPreferences": null,
   "language": "python",
   "notebookMetadata": {
    "pythonIndentUnit": 4
   },
   "notebookName": "Cwiczenia 4_2",
   "widgets": {}
  }
 },
 "nbformat": 4,
 "nbformat_minor": 0
}