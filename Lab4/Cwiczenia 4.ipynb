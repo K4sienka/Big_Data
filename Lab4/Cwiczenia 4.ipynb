{
 "cells": [
  {
   "cell_type": "code",
   "execution_count": 0,
   "metadata": {
    "application/vnd.databricks.v1+cell": {
     "cellMetadata": {
      "byteLimit": 2048000,
      "rowLimit": 10000
     },
     "inputWidgets": {},
     "nuid": "0904634a-6696-4666-92d7-d50603a204fb",
     "showTitle": false,
     "tableResultSettingsMap": {},
     "title": ""
    }
   },
   "outputs": [],
   "source": [
    "filePath = \"dbfs:/FileStore/tables/Files/movies.csv\"\n",
    "moviesDf = spark.read.format(\"csv\") \\\n",
    "              .option(\"header\", \"true\") \\\n",
    "              .option(\"inferSchema\", \"true\") \\\n",
    "              .load(filePath)"
   ]
  },
  {
   "cell_type": "markdown",
   "metadata": {
    "application/vnd.databricks.v1+cell": {
     "cellMetadata": {
      "byteLimit": 2048000,
      "rowLimit": 10000
     },
     "inputWidgets": {},
     "nuid": "edcc1925-68f0-4586-b265-a3e983fb4020",
     "showTitle": false,
     "tableResultSettingsMap": {},
     "title": ""
    }
   },
   "source": [
    "## Zadanie 1\n",
    "- Użyj poniższe funkcje Nulls, fill, explode, drop, regexp_replace, regexp_extract, ifnull, nullIf, replace, array_contains.\n",
    "- Użyj 3 funkcji agregujących (które według Ciebie są najciekawsze).  "
   ]
  },
  {
   "cell_type": "code",
   "execution_count": 0,
   "metadata": {
    "application/vnd.databricks.v1+cell": {
     "cellMetadata": {
      "byteLimit": 2048000,
      "rowLimit": 10000
     },
     "inputWidgets": {},
     "nuid": "586319b0-4ab4-40b8-9059-af11cc5a39c8",
     "showTitle": false,
     "tableResultSettingsMap": {},
     "title": ""
    }
   },
   "outputs": [
    {
     "output_type": "display_data",
     "data": {
      "text/html": [
       "<style scoped>\n",
       "  .table-result-container {\n",
       "    max-height: 300px;\n",
       "    overflow: auto;\n",
       "  }\n",
       "  table, th, td {\n",
       "    border: 1px solid black;\n",
       "    border-collapse: collapse;\n",
       "  }\n",
       "  th, td {\n",
       "    padding: 5px;\n",
       "  }\n",
       "  th {\n",
       "    text-align: left;\n",
       "  }\n",
       "</style><div class='table-result-container'><table class='table-result'><thead style='background-color: white'><tr><th>imdb_title_id</th><th>title</th><th>original_title</th><th>year</th><th>date_published</th><th>genre</th><th>duration</th><th>country</th><th>language</th><th>director</th><th>writer</th><th>production_company</th><th>actors</th><th>description</th><th>avg_vote</th><th>votes</th><th>budget</th><th>usa_gross_income</th><th>worlwide_gross_income</th><th>metascore</th><th>reviews_from_users</th><th>reviews_from_critics</th></tr></thead><tbody><tr><td>tt0000009</td><td>Miss Jerry</td><td>Miss Jerry</td><td>1894</td><td>1894-10-09</td><td>Romance</td><td>45</td><td>USA</td><td>None</td><td>Alexander Black</td><td>Alexander Black</td><td>Alexander Black Photoplays</td><td>Blanche Bayliss, William Courtenay, Chauncey Depew</td><td>The adventures of a female reporter in the 1890s.</td><td>05.wrz</td><td>154</td><td>0</td><td>null</td><td>null</td><td>null</td><td>1.0</td><td>2.0</td></tr><tr><td>tt0000574</td><td>The Story of the Kelly Gang</td><td>The Story of the Kelly Gang</td><td>1906</td><td>26.12.1906</td><td>Biography, Crime, Drama</td><td>70</td><td>Australia</td><td>None</td><td>Charles Tait</td><td>Charles Tait</td><td>J. and N. Tait</td><td>Elizabeth Tait, John Tait, Norman Campbell, Bella Cola, Will Coyne, Sam Crewes, Jack Ennis, John Forde, Vera Linden, Mr. Marshall, Mr. McKenzie, Frank Mills, Ollie Wilson</td><td>True story of notorious Australian outlaw Ned Kelly (1855-80).</td><td>06.sty</td><td>589</td><td>$ 2250</td><td>null</td><td>null</td><td>null</td><td>7.0</td><td>7.0</td></tr><tr><td>tt0001892</td><td>Den sorte drøm</td><td>Den sorte drøm</td><td>1911</td><td>19.08.1911</td><td>Drama</td><td>53</td><td>Germany, Denmark</td><td>null</td><td>Urban Gad</td><td>Urban Gad, Gebhard Schätzler-Perasini</td><td>Fotorama</td><td>Asta Nielsen, Valdemar Psilander, Gunnar Helsengreen, Emil Albes, Hugo Flink, Mary Hagen</td><td>Two men of high rank are both wooing the beautiful and famous equestrian acrobat Stella. While Stella ignores the jeweler Hirsch, she accepts Count von Waldberg's offer to follow her home, ...</td><td>05.sie</td><td>188</td><td>0</td><td>null</td><td>null</td><td>null</td><td>5.0</td><td>2.0</td></tr><tr><td>tt0002101</td><td>Cleopatra</td><td>Cleopatra</td><td>1912</td><td>13.11.1912</td><td>Drama, History</td><td>100</td><td>USA</td><td>English</td><td>Charles L. Gaskill</td><td>Victorien Sardou</td><td>Helen Gardner Picture Players</td><td>Helen Gardner, Pearl Sindelar, Miss Fielding, Miss Robson, Helene Costello, Charles Sindelar, Mr. Howard, James R. Waite, Mr. Osborne, Harry Knowles, Mr. Paul, Mr. Brady, Mr. Corker</td><td>The fabled queen of Egypt's affair with Roman general Marc Antony is ultimately disastrous for both of them.</td><td>05.lut</td><td>446</td><td>$ 45000</td><td>null</td><td>null</td><td>null</td><td>25.0</td><td>3.0</td></tr><tr><td>tt0002130</td><td>L'Inferno</td><td>L'Inferno</td><td>1911</td><td>06.03.1911</td><td>Adventure, Drama, Fantasy</td><td>68</td><td>Italy</td><td>Italian</td><td>Francesco Bertolini, Adolfo Padovan</td><td>Dante Alighieri</td><td>Milano Film</td><td>Salvatore Papa, Arturo Pirovano, Giuseppe de Liguoro, Pier Delle Vigne, Augusto Milla, Attilio Motta, Emilise Beretta</td><td>Loosely adapted from Dante's Divine Comedy and inspired by the illustrations of Gustav Doré the original silent film has been restored and has a new score by Tangerine Dream.</td><td>7.0</td><td>2237</td><td>0</td><td>null</td><td>null</td><td>null</td><td>31.0</td><td>14.0</td></tr><tr><td>tt0002199</td><td>From the Manger to the Cross or, Jesus of Nazareth</td><td>From the Manger to the Cross or, Jesus of Nazareth</td><td>1912</td><td>1913</td><td>Biography, Drama</td><td>60</td><td>USA</td><td>English</td><td>Sidney Olcott</td><td>Gene Gauntier</td><td>Kalem Company</td><td>R. Henderson Bland, Percy Dyer, Gene Gauntier, Alice Hollister, Samuel Morgan, James D. Ainsley, Robert G. Vignola, George Kellog, J.P. McGowan</td><td>An account of the life of Jesus Christ, based on the books of the New Testament: After Jesus' birth is foretold to his parents, he is born in Bethlehem, and is visited by shepherds and wise...</td><td>05.lip</td><td>484</td><td>0</td><td>null</td><td>null</td><td>null</td><td>13.0</td><td>5.0</td></tr><tr><td>tt0002423</td><td>Madame DuBarry</td><td>Madame DuBarry</td><td>1919</td><td>26.11.1919</td><td>Biography, Drama, Romance</td><td>85</td><td>Germany</td><td>German</td><td>Ernst Lubitsch</td><td>Norbert Falk, Hanns Kräly</td><td>Projektions-AG Union (PAGU)</td><td>Pola Negri, Emil Jannings, Harry Liedtke, Eduard von Winterstein, Reinhold Schünzel, Else Berna, Fred Immler, Gustav Czimeg, Karl Platen, Bernhard Goetzke, Magnus Stifter, Paul Biensfeldt, Willy Kaiser-Heyl, Alexander Ekert, Robert Sortsch-Pla</td><td>The story of Madame DuBarry, the mistress of Louis XV of France, and her loves in the time of the French revolution.</td><td>06.sie</td><td>753</td><td>0</td><td>null</td><td>null</td><td>null</td><td>12.0</td><td>9.0</td></tr><tr><td>tt0002445</td><td>Quo Vadis?</td><td>Quo Vadis?</td><td>1913</td><td>01.03.1913</td><td>Drama, History</td><td>120</td><td>Italy</td><td>Italian</td><td>Enrico Guazzoni</td><td>Henryk Sienkiewicz, Enrico Guazzoni</td><td>Società Italiana Cines</td><td>Amleto Novelli, Gustavo Serena, Carlo Cattaneo, Amelia Cattaneo, Lea Giunchi, Bruto Castellani, Augusto Mastripietri, Cesare Moltini, Olga Brandini, Ignazio Lupi, Giovanni Gizzi, Lia Orlandini, Matilde Guillaume, Ida Carloni Talli, Giuseppe Gambardella</td><td>An epic Italian film Quo Vadis influenced many of the later movies.</td><td>06.lut</td><td>273</td><td>ITL 45000</td><td>null</td><td>null</td><td>null</td><td>7.0</td><td>5.0</td></tr><tr><td>tt0002452</td><td>Independenta Romaniei</td><td>Independenta Romaniei</td><td>1912</td><td>01.09.1912</td><td>History, War</td><td>120</td><td>Romania</td><td>null</td><td>Aristide Demetriade, Grigore Brezeanu</td><td>Aristide Demetriade, Petre Liciu</td><td>Societatea Filmului de Arta Leon Popescu</td><td>Aristide Demetriade, Constanta Demetriade, Constantin Nottara, Pepi Machauer, Aurel Athanasescu, Jeny Metaxa-Doro, Nicolae Soreanu, Vasile Toneanu, Aristita Romanescu, Elvire Popesco, M. Vîrgolici, C. Nedelcovici, Mihail Tancovici-Cosmin, Ion Dumitrescu, Gheorghe Meliseanu</td><td>The movie depicts the Romanian War of Independence (1877-1878).</td><td>06.lip</td><td>198</td><td>ROL 400000</td><td>null</td><td>null</td><td>null</td><td>4.0</td><td>1.0</td></tr><tr><td>tt0002461</td><td>Richard III</td><td>Richard III</td><td>1912</td><td>15.10.1912</td><td>Drama</td><td>55</td><td>France, USA</td><td>English</td><td>André Calmettes, James Keane</td><td>James Keane, William Shakespeare</td><td>Le Film d'Art</td><td>Robert Gemp, Frederick Warde, Albert Gardner, James Keane, George Moss, Howard Stuart, Virginia Rankin, Violet Stuart, Carey Lee, Carlotta De Felice</td><td>Richard of Gloucester uses manipulation and murder to gain the English throne.</td><td>05.maj</td><td>225</td><td>$ 30000</td><td>null</td><td>null</td><td>null</td><td>8.0</td><td>1.0</td></tr></tbody></table></div>"
      ]
     },
     "metadata": {
      "application/vnd.databricks.v1+output": {
       "addedWidgets": {},
       "aggData": [],
       "aggError": "",
       "aggOverflow": false,
       "aggSchema": [],
       "aggSeriesLimitReached": false,
       "aggType": "",
       "arguments": {},
       "columnCustomDisplayInfos": {},
       "data": [
        [
         "tt0000009",
         "Miss Jerry",
         "Miss Jerry",
         "1894",
         "1894-10-09",
         "Romance",
         45,
         "USA",
         "None",
         "Alexander Black",
         "Alexander Black",
         "Alexander Black Photoplays",
         "Blanche Bayliss, William Courtenay, Chauncey Depew",
         "The adventures of a female reporter in the 1890s.",
         "05.wrz",
         154,
         "0",
         null,
         null,
         null,
         1.0,
         2.0
        ],
        [
         "tt0000574",
         "The Story of the Kelly Gang",
         "The Story of the Kelly Gang",
         "1906",
         "26.12.1906",
         "Biography, Crime, Drama",
         70,
         "Australia",
         "None",
         "Charles Tait",
         "Charles Tait",
         "J. and N. Tait",
         "Elizabeth Tait, John Tait, Norman Campbell, Bella Cola, Will Coyne, Sam Crewes, Jack Ennis, John Forde, Vera Linden, Mr. Marshall, Mr. McKenzie, Frank Mills, Ollie Wilson",
         "True story of notorious Australian outlaw Ned Kelly (1855-80).",
         "06.sty",
         589,
         "$ 2250",
         null,
         null,
         null,
         7.0,
         7.0
        ],
        [
         "tt0001892",
         "Den sorte drøm",
         "Den sorte drøm",
         "1911",
         "19.08.1911",
         "Drama",
         53,
         "Germany, Denmark",
         null,
         "Urban Gad",
         "Urban Gad, Gebhard Schätzler-Perasini",
         "Fotorama",
         "Asta Nielsen, Valdemar Psilander, Gunnar Helsengreen, Emil Albes, Hugo Flink, Mary Hagen",
         "Two men of high rank are both wooing the beautiful and famous equestrian acrobat Stella. While Stella ignores the jeweler Hirsch, she accepts Count von Waldberg's offer to follow her home, ...",
         "05.sie",
         188,
         "0",
         null,
         null,
         null,
         5.0,
         2.0
        ],
        [
         "tt0002101",
         "Cleopatra",
         "Cleopatra",
         "1912",
         "13.11.1912",
         "Drama, History",
         100,
         "USA",
         "English",
         "Charles L. Gaskill",
         "Victorien Sardou",
         "Helen Gardner Picture Players",
         "Helen Gardner, Pearl Sindelar, Miss Fielding, Miss Robson, Helene Costello, Charles Sindelar, Mr. Howard, James R. Waite, Mr. Osborne, Harry Knowles, Mr. Paul, Mr. Brady, Mr. Corker",
         "The fabled queen of Egypt's affair with Roman general Marc Antony is ultimately disastrous for both of them.",
         "05.lut",
         446,
         "$ 45000",
         null,
         null,
         null,
         25.0,
         3.0
        ],
        [
         "tt0002130",
         "L'Inferno",
         "L'Inferno",
         "1911",
         "06.03.1911",
         "Adventure, Drama, Fantasy",
         68,
         "Italy",
         "Italian",
         "Francesco Bertolini, Adolfo Padovan",
         "Dante Alighieri",
         "Milano Film",
         "Salvatore Papa, Arturo Pirovano, Giuseppe de Liguoro, Pier Delle Vigne, Augusto Milla, Attilio Motta, Emilise Beretta",
         "Loosely adapted from Dante's Divine Comedy and inspired by the illustrations of Gustav Doré the original silent film has been restored and has a new score by Tangerine Dream.",
         "7.0",
         2237,
         "0",
         null,
         null,
         null,
         31.0,
         14.0
        ],
        [
         "tt0002199",
         "From the Manger to the Cross or, Jesus of Nazareth",
         "From the Manger to the Cross or, Jesus of Nazareth",
         "1912",
         "1913",
         "Biography, Drama",
         60,
         "USA",
         "English",
         "Sidney Olcott",
         "Gene Gauntier",
         "Kalem Company",
         "R. Henderson Bland, Percy Dyer, Gene Gauntier, Alice Hollister, Samuel Morgan, James D. Ainsley, Robert G. Vignola, George Kellog, J.P. McGowan",
         "An account of the life of Jesus Christ, based on the books of the New Testament: After Jesus' birth is foretold to his parents, he is born in Bethlehem, and is visited by shepherds and wise...",
         "05.lip",
         484,
         "0",
         null,
         null,
         null,
         13.0,
         5.0
        ],
        [
         "tt0002423",
         "Madame DuBarry",
         "Madame DuBarry",
         "1919",
         "26.11.1919",
         "Biography, Drama, Romance",
         85,
         "Germany",
         "German",
         "Ernst Lubitsch",
         "Norbert Falk, Hanns Kräly",
         "Projektions-AG Union (PAGU)",
         "Pola Negri, Emil Jannings, Harry Liedtke, Eduard von Winterstein, Reinhold Schünzel, Else Berna, Fred Immler, Gustav Czimeg, Karl Platen, Bernhard Goetzke, Magnus Stifter, Paul Biensfeldt, Willy Kaiser-Heyl, Alexander Ekert, Robert Sortsch-Pla",
         "The story of Madame DuBarry, the mistress of Louis XV of France, and her loves in the time of the French revolution.",
         "06.sie",
         753,
         "0",
         null,
         null,
         null,
         12.0,
         9.0
        ],
        [
         "tt0002445",
         "Quo Vadis?",
         "Quo Vadis?",
         "1913",
         "01.03.1913",
         "Drama, History",
         120,
         "Italy",
         "Italian",
         "Enrico Guazzoni",
         "Henryk Sienkiewicz, Enrico Guazzoni",
         "Società Italiana Cines",
         "Amleto Novelli, Gustavo Serena, Carlo Cattaneo, Amelia Cattaneo, Lea Giunchi, Bruto Castellani, Augusto Mastripietri, Cesare Moltini, Olga Brandini, Ignazio Lupi, Giovanni Gizzi, Lia Orlandini, Matilde Guillaume, Ida Carloni Talli, Giuseppe Gambardella",
         "An epic Italian film Quo Vadis influenced many of the later movies.",
         "06.lut",
         273,
         "ITL 45000",
         null,
         null,
         null,
         7.0,
         5.0
        ],
        [
         "tt0002452",
         "Independenta Romaniei",
         "Independenta Romaniei",
         "1912",
         "01.09.1912",
         "History, War",
         120,
         "Romania",
         null,
         "Aristide Demetriade, Grigore Brezeanu",
         "Aristide Demetriade, Petre Liciu",
         "Societatea Filmului de Arta Leon Popescu",
         "Aristide Demetriade, Constanta Demetriade, Constantin Nottara, Pepi Machauer, Aurel Athanasescu, Jeny Metaxa-Doro, Nicolae Soreanu, Vasile Toneanu, Aristita Romanescu, Elvire Popesco, M. Vîrgolici, C. Nedelcovici, Mihail Tancovici-Cosmin, Ion Dumitrescu, Gheorghe Meliseanu",
         "The movie depicts the Romanian War of Independence (1877-1878).",
         "06.lip",
         198,
         "ROL 400000",
         null,
         null,
         null,
         4.0,
         1.0
        ],
        [
         "tt0002461",
         "Richard III",
         "Richard III",
         "1912",
         "15.10.1912",
         "Drama",
         55,
         "France, USA",
         "English",
         "André Calmettes, James Keane",
         "James Keane, William Shakespeare",
         "Le Film d'Art",
         "Robert Gemp, Frederick Warde, Albert Gardner, James Keane, George Moss, Howard Stuart, Virginia Rankin, Violet Stuart, Carey Lee, Carlotta De Felice",
         "Richard of Gloucester uses manipulation and murder to gain the English throne.",
         "05.maj",
         225,
         "$ 30000",
         null,
         null,
         null,
         8.0,
         1.0
        ]
       ],
       "datasetInfos": [],
       "dbfsResultPath": null,
       "isJsonSchema": true,
       "metadata": {},
       "overflow": false,
       "plotOptions": {
        "customPlotOptions": {},
        "displayType": "table",
        "pivotAggregation": null,
        "pivotColumns": null,
        "xColumns": null,
        "yColumns": null
       },
       "removedWidgets": [],
       "schema": [
        {
         "metadata": "{}",
         "name": "imdb_title_id",
         "type": "\"string\""
        },
        {
         "metadata": "{}",
         "name": "title",
         "type": "\"string\""
        },
        {
         "metadata": "{}",
         "name": "original_title",
         "type": "\"string\""
        },
        {
         "metadata": "{}",
         "name": "year",
         "type": "\"string\""
        },
        {
         "metadata": "{}",
         "name": "date_published",
         "type": "\"string\""
        },
        {
         "metadata": "{}",
         "name": "genre",
         "type": "\"string\""
        },
        {
         "metadata": "{}",
         "name": "duration",
         "type": "\"integer\""
        },
        {
         "metadata": "{}",
         "name": "country",
         "type": "\"string\""
        },
        {
         "metadata": "{}",
         "name": "language",
         "type": "\"string\""
        },
        {
         "metadata": "{}",
         "name": "director",
         "type": "\"string\""
        },
        {
         "metadata": "{}",
         "name": "writer",
         "type": "\"string\""
        },
        {
         "metadata": "{}",
         "name": "production_company",
         "type": "\"string\""
        },
        {
         "metadata": "{}",
         "name": "actors",
         "type": "\"string\""
        },
        {
         "metadata": "{}",
         "name": "description",
         "type": "\"string\""
        },
        {
         "metadata": "{}",
         "name": "avg_vote",
         "type": "\"string\""
        },
        {
         "metadata": "{}",
         "name": "votes",
         "type": "\"integer\""
        },
        {
         "metadata": "{}",
         "name": "budget",
         "type": "\"string\""
        },
        {
         "metadata": "{}",
         "name": "usa_gross_income",
         "type": "\"string\""
        },
        {
         "metadata": "{}",
         "name": "worlwide_gross_income",
         "type": "\"string\""
        },
        {
         "metadata": "{}",
         "name": "metascore",
         "type": "\"double\""
        },
        {
         "metadata": "{}",
         "name": "reviews_from_users",
         "type": "\"double\""
        },
        {
         "metadata": "{}",
         "name": "reviews_from_critics",
         "type": "\"double\""
        }
       ],
       "type": "table"
      }
     },
     "output_type": "display_data"
    }
   ],
   "source": [
    "from pyspark.sql.functions import col, explode, split, regexp_replace, regexp_extract, array_contains, when, lit, count, sum, avg, coalesce\n",
    "\n",
    "#fill wypelnia puste wartosci na 0\n",
    "moviesDf = moviesDf.fillna({\"budget\": \"0\", \"duration\": 0})\n",
    "\n",
    "display(moviesDf.limit(10))"
   ]
  },
  {
   "cell_type": "code",
   "execution_count": 0,
   "metadata": {
    "application/vnd.databricks.v1+cell": {
     "cellMetadata": {
      "byteLimit": 2048000,
      "rowLimit": 10000
     },
     "inputWidgets": {},
     "nuid": "1675856b-f62b-4675-b41e-294d2fcf2a3b",
     "showTitle": false,
     "tableResultSettingsMap": {},
     "title": ""
    }
   },
   "outputs": [
    {
     "output_type": "display_data",
     "data": {
      "text/html": [
       "<style scoped>\n",
       "  .table-result-container {\n",
       "    max-height: 300px;\n",
       "    overflow: auto;\n",
       "  }\n",
       "  table, th, td {\n",
       "    border: 1px solid black;\n",
       "    border-collapse: collapse;\n",
       "  }\n",
       "  th, td {\n",
       "    padding: 5px;\n",
       "  }\n",
       "  th {\n",
       "    text-align: left;\n",
       "  }\n",
       "</style><div class='table-result-container'><table class='table-result'><thead style='background-color: white'><tr><th>imdb_title_id</th><th>title</th><th>original_title</th><th>year</th><th>date_published</th><th>genre</th><th>duration</th><th>country</th><th>language</th><th>director</th><th>writer</th><th>production_company</th><th>actors</th><th>description</th><th>avg_vote</th><th>votes</th><th>budget</th><th>usa_gross_income</th><th>worlwide_gross_income</th><th>metascore</th><th>reviews_from_users</th><th>reviews_from_critics</th><th>actor_list</th><th>actor</th></tr></thead><tbody><tr><td>tt0000009</td><td>Miss Jerry</td><td>Miss Jerry</td><td>1894</td><td>1894-10-09</td><td>Romance</td><td>45</td><td>USA</td><td>None</td><td>Alexander Black</td><td>Alexander Black</td><td>Alexander Black Photoplays</td><td>Blanche Bayliss, William Courtenay, Chauncey Depew</td><td>The adventures of a female reporter in the 1890s.</td><td>05.wrz</td><td>154</td><td>0</td><td>null</td><td>null</td><td>null</td><td>1.0</td><td>2.0</td><td>List(Blanche Bayliss, William Courtenay, Chauncey Depew)</td><td>Blanche Bayliss</td></tr><tr><td>tt0000009</td><td>Miss Jerry</td><td>Miss Jerry</td><td>1894</td><td>1894-10-09</td><td>Romance</td><td>45</td><td>USA</td><td>None</td><td>Alexander Black</td><td>Alexander Black</td><td>Alexander Black Photoplays</td><td>Blanche Bayliss, William Courtenay, Chauncey Depew</td><td>The adventures of a female reporter in the 1890s.</td><td>05.wrz</td><td>154</td><td>0</td><td>null</td><td>null</td><td>null</td><td>1.0</td><td>2.0</td><td>List(Blanche Bayliss, William Courtenay, Chauncey Depew)</td><td>William Courtenay</td></tr><tr><td>tt0000009</td><td>Miss Jerry</td><td>Miss Jerry</td><td>1894</td><td>1894-10-09</td><td>Romance</td><td>45</td><td>USA</td><td>None</td><td>Alexander Black</td><td>Alexander Black</td><td>Alexander Black Photoplays</td><td>Blanche Bayliss, William Courtenay, Chauncey Depew</td><td>The adventures of a female reporter in the 1890s.</td><td>05.wrz</td><td>154</td><td>0</td><td>null</td><td>null</td><td>null</td><td>1.0</td><td>2.0</td><td>List(Blanche Bayliss, William Courtenay, Chauncey Depew)</td><td>Chauncey Depew</td></tr><tr><td>tt0000574</td><td>The Story of the Kelly Gang</td><td>The Story of the Kelly Gang</td><td>1906</td><td>26.12.1906</td><td>Biography, Crime, Drama</td><td>70</td><td>Australia</td><td>None</td><td>Charles Tait</td><td>Charles Tait</td><td>J. and N. Tait</td><td>Elizabeth Tait, John Tait, Norman Campbell, Bella Cola, Will Coyne, Sam Crewes, Jack Ennis, John Forde, Vera Linden, Mr. Marshall, Mr. McKenzie, Frank Mills, Ollie Wilson</td><td>True story of notorious Australian outlaw Ned Kelly (1855-80).</td><td>06.sty</td><td>589</td><td>$ 2250</td><td>null</td><td>null</td><td>null</td><td>7.0</td><td>7.0</td><td>List(Elizabeth Tait, John Tait, Norman Campbell, Bella Cola, Will Coyne, Sam Crewes, Jack Ennis, John Forde, Vera Linden, Mr. Marshall, Mr. McKenzie, Frank Mills, Ollie Wilson)</td><td>Elizabeth Tait</td></tr><tr><td>tt0000574</td><td>The Story of the Kelly Gang</td><td>The Story of the Kelly Gang</td><td>1906</td><td>26.12.1906</td><td>Biography, Crime, Drama</td><td>70</td><td>Australia</td><td>None</td><td>Charles Tait</td><td>Charles Tait</td><td>J. and N. Tait</td><td>Elizabeth Tait, John Tait, Norman Campbell, Bella Cola, Will Coyne, Sam Crewes, Jack Ennis, John Forde, Vera Linden, Mr. Marshall, Mr. McKenzie, Frank Mills, Ollie Wilson</td><td>True story of notorious Australian outlaw Ned Kelly (1855-80).</td><td>06.sty</td><td>589</td><td>$ 2250</td><td>null</td><td>null</td><td>null</td><td>7.0</td><td>7.0</td><td>List(Elizabeth Tait, John Tait, Norman Campbell, Bella Cola, Will Coyne, Sam Crewes, Jack Ennis, John Forde, Vera Linden, Mr. Marshall, Mr. McKenzie, Frank Mills, Ollie Wilson)</td><td>John Tait</td></tr><tr><td>tt0000574</td><td>The Story of the Kelly Gang</td><td>The Story of the Kelly Gang</td><td>1906</td><td>26.12.1906</td><td>Biography, Crime, Drama</td><td>70</td><td>Australia</td><td>None</td><td>Charles Tait</td><td>Charles Tait</td><td>J. and N. Tait</td><td>Elizabeth Tait, John Tait, Norman Campbell, Bella Cola, Will Coyne, Sam Crewes, Jack Ennis, John Forde, Vera Linden, Mr. Marshall, Mr. McKenzie, Frank Mills, Ollie Wilson</td><td>True story of notorious Australian outlaw Ned Kelly (1855-80).</td><td>06.sty</td><td>589</td><td>$ 2250</td><td>null</td><td>null</td><td>null</td><td>7.0</td><td>7.0</td><td>List(Elizabeth Tait, John Tait, Norman Campbell, Bella Cola, Will Coyne, Sam Crewes, Jack Ennis, John Forde, Vera Linden, Mr. Marshall, Mr. McKenzie, Frank Mills, Ollie Wilson)</td><td>Norman Campbell</td></tr><tr><td>tt0000574</td><td>The Story of the Kelly Gang</td><td>The Story of the Kelly Gang</td><td>1906</td><td>26.12.1906</td><td>Biography, Crime, Drama</td><td>70</td><td>Australia</td><td>None</td><td>Charles Tait</td><td>Charles Tait</td><td>J. and N. Tait</td><td>Elizabeth Tait, John Tait, Norman Campbell, Bella Cola, Will Coyne, Sam Crewes, Jack Ennis, John Forde, Vera Linden, Mr. Marshall, Mr. McKenzie, Frank Mills, Ollie Wilson</td><td>True story of notorious Australian outlaw Ned Kelly (1855-80).</td><td>06.sty</td><td>589</td><td>$ 2250</td><td>null</td><td>null</td><td>null</td><td>7.0</td><td>7.0</td><td>List(Elizabeth Tait, John Tait, Norman Campbell, Bella Cola, Will Coyne, Sam Crewes, Jack Ennis, John Forde, Vera Linden, Mr. Marshall, Mr. McKenzie, Frank Mills, Ollie Wilson)</td><td>Bella Cola</td></tr><tr><td>tt0000574</td><td>The Story of the Kelly Gang</td><td>The Story of the Kelly Gang</td><td>1906</td><td>26.12.1906</td><td>Biography, Crime, Drama</td><td>70</td><td>Australia</td><td>None</td><td>Charles Tait</td><td>Charles Tait</td><td>J. and N. Tait</td><td>Elizabeth Tait, John Tait, Norman Campbell, Bella Cola, Will Coyne, Sam Crewes, Jack Ennis, John Forde, Vera Linden, Mr. Marshall, Mr. McKenzie, Frank Mills, Ollie Wilson</td><td>True story of notorious Australian outlaw Ned Kelly (1855-80).</td><td>06.sty</td><td>589</td><td>$ 2250</td><td>null</td><td>null</td><td>null</td><td>7.0</td><td>7.0</td><td>List(Elizabeth Tait, John Tait, Norman Campbell, Bella Cola, Will Coyne, Sam Crewes, Jack Ennis, John Forde, Vera Linden, Mr. Marshall, Mr. McKenzie, Frank Mills, Ollie Wilson)</td><td>Will Coyne</td></tr><tr><td>tt0000574</td><td>The Story of the Kelly Gang</td><td>The Story of the Kelly Gang</td><td>1906</td><td>26.12.1906</td><td>Biography, Crime, Drama</td><td>70</td><td>Australia</td><td>None</td><td>Charles Tait</td><td>Charles Tait</td><td>J. and N. Tait</td><td>Elizabeth Tait, John Tait, Norman Campbell, Bella Cola, Will Coyne, Sam Crewes, Jack Ennis, John Forde, Vera Linden, Mr. Marshall, Mr. McKenzie, Frank Mills, Ollie Wilson</td><td>True story of notorious Australian outlaw Ned Kelly (1855-80).</td><td>06.sty</td><td>589</td><td>$ 2250</td><td>null</td><td>null</td><td>null</td><td>7.0</td><td>7.0</td><td>List(Elizabeth Tait, John Tait, Norman Campbell, Bella Cola, Will Coyne, Sam Crewes, Jack Ennis, John Forde, Vera Linden, Mr. Marshall, Mr. McKenzie, Frank Mills, Ollie Wilson)</td><td>Sam Crewes</td></tr><tr><td>tt0000574</td><td>The Story of the Kelly Gang</td><td>The Story of the Kelly Gang</td><td>1906</td><td>26.12.1906</td><td>Biography, Crime, Drama</td><td>70</td><td>Australia</td><td>None</td><td>Charles Tait</td><td>Charles Tait</td><td>J. and N. Tait</td><td>Elizabeth Tait, John Tait, Norman Campbell, Bella Cola, Will Coyne, Sam Crewes, Jack Ennis, John Forde, Vera Linden, Mr. Marshall, Mr. McKenzie, Frank Mills, Ollie Wilson</td><td>True story of notorious Australian outlaw Ned Kelly (1855-80).</td><td>06.sty</td><td>589</td><td>$ 2250</td><td>null</td><td>null</td><td>null</td><td>7.0</td><td>7.0</td><td>List(Elizabeth Tait, John Tait, Norman Campbell, Bella Cola, Will Coyne, Sam Crewes, Jack Ennis, John Forde, Vera Linden, Mr. Marshall, Mr. McKenzie, Frank Mills, Ollie Wilson)</td><td>Jack Ennis</td></tr></tbody></table></div>"
      ]
     },
     "metadata": {
      "application/vnd.databricks.v1+output": {
       "addedWidgets": {},
       "aggData": [],
       "aggError": "",
       "aggOverflow": false,
       "aggSchema": [],
       "aggSeriesLimitReached": false,
       "aggType": "",
       "arguments": {},
       "columnCustomDisplayInfos": {},
       "data": [
        [
         "tt0000009",
         "Miss Jerry",
         "Miss Jerry",
         "1894",
         "1894-10-09",
         "Romance",
         45,
         "USA",
         "None",
         "Alexander Black",
         "Alexander Black",
         "Alexander Black Photoplays",
         "Blanche Bayliss, William Courtenay, Chauncey Depew",
         "The adventures of a female reporter in the 1890s.",
         "05.wrz",
         154,
         "0",
         null,
         null,
         null,
         1.0,
         2.0,
         [
          "Blanche Bayliss",
          "William Courtenay",
          "Chauncey Depew"
         ],
         "Blanche Bayliss"
        ],
        [
         "tt0000009",
         "Miss Jerry",
         "Miss Jerry",
         "1894",
         "1894-10-09",
         "Romance",
         45,
         "USA",
         "None",
         "Alexander Black",
         "Alexander Black",
         "Alexander Black Photoplays",
         "Blanche Bayliss, William Courtenay, Chauncey Depew",
         "The adventures of a female reporter in the 1890s.",
         "05.wrz",
         154,
         "0",
         null,
         null,
         null,
         1.0,
         2.0,
         [
          "Blanche Bayliss",
          "William Courtenay",
          "Chauncey Depew"
         ],
         "William Courtenay"
        ],
        [
         "tt0000009",
         "Miss Jerry",
         "Miss Jerry",
         "1894",
         "1894-10-09",
         "Romance",
         45,
         "USA",
         "None",
         "Alexander Black",
         "Alexander Black",
         "Alexander Black Photoplays",
         "Blanche Bayliss, William Courtenay, Chauncey Depew",
         "The adventures of a female reporter in the 1890s.",
         "05.wrz",
         154,
         "0",
         null,
         null,
         null,
         1.0,
         2.0,
         [
          "Blanche Bayliss",
          "William Courtenay",
          "Chauncey Depew"
         ],
         "Chauncey Depew"
        ],
        [
         "tt0000574",
         "The Story of the Kelly Gang",
         "The Story of the Kelly Gang",
         "1906",
         "26.12.1906",
         "Biography, Crime, Drama",
         70,
         "Australia",
         "None",
         "Charles Tait",
         "Charles Tait",
         "J. and N. Tait",
         "Elizabeth Tait, John Tait, Norman Campbell, Bella Cola, Will Coyne, Sam Crewes, Jack Ennis, John Forde, Vera Linden, Mr. Marshall, Mr. McKenzie, Frank Mills, Ollie Wilson",
         "True story of notorious Australian outlaw Ned Kelly (1855-80).",
         "06.sty",
         589,
         "$ 2250",
         null,
         null,
         null,
         7.0,
         7.0,
         [
          "Elizabeth Tait",
          "John Tait",
          "Norman Campbell",
          "Bella Cola",
          "Will Coyne",
          "Sam Crewes",
          "Jack Ennis",
          "John Forde",
          "Vera Linden",
          "Mr. Marshall",
          "Mr. McKenzie",
          "Frank Mills",
          "Ollie Wilson"
         ],
         "Elizabeth Tait"
        ],
        [
         "tt0000574",
         "The Story of the Kelly Gang",
         "The Story of the Kelly Gang",
         "1906",
         "26.12.1906",
         "Biography, Crime, Drama",
         70,
         "Australia",
         "None",
         "Charles Tait",
         "Charles Tait",
         "J. and N. Tait",
         "Elizabeth Tait, John Tait, Norman Campbell, Bella Cola, Will Coyne, Sam Crewes, Jack Ennis, John Forde, Vera Linden, Mr. Marshall, Mr. McKenzie, Frank Mills, Ollie Wilson",
         "True story of notorious Australian outlaw Ned Kelly (1855-80).",
         "06.sty",
         589,
         "$ 2250",
         null,
         null,
         null,
         7.0,
         7.0,
         [
          "Elizabeth Tait",
          "John Tait",
          "Norman Campbell",
          "Bella Cola",
          "Will Coyne",
          "Sam Crewes",
          "Jack Ennis",
          "John Forde",
          "Vera Linden",
          "Mr. Marshall",
          "Mr. McKenzie",
          "Frank Mills",
          "Ollie Wilson"
         ],
         "John Tait"
        ],
        [
         "tt0000574",
         "The Story of the Kelly Gang",
         "The Story of the Kelly Gang",
         "1906",
         "26.12.1906",
         "Biography, Crime, Drama",
         70,
         "Australia",
         "None",
         "Charles Tait",
         "Charles Tait",
         "J. and N. Tait",
         "Elizabeth Tait, John Tait, Norman Campbell, Bella Cola, Will Coyne, Sam Crewes, Jack Ennis, John Forde, Vera Linden, Mr. Marshall, Mr. McKenzie, Frank Mills, Ollie Wilson",
         "True story of notorious Australian outlaw Ned Kelly (1855-80).",
         "06.sty",
         589,
         "$ 2250",
         null,
         null,
         null,
         7.0,
         7.0,
         [
          "Elizabeth Tait",
          "John Tait",
          "Norman Campbell",
          "Bella Cola",
          "Will Coyne",
          "Sam Crewes",
          "Jack Ennis",
          "John Forde",
          "Vera Linden",
          "Mr. Marshall",
          "Mr. McKenzie",
          "Frank Mills",
          "Ollie Wilson"
         ],
         "Norman Campbell"
        ],
        [
         "tt0000574",
         "The Story of the Kelly Gang",
         "The Story of the Kelly Gang",
         "1906",
         "26.12.1906",
         "Biography, Crime, Drama",
         70,
         "Australia",
         "None",
         "Charles Tait",
         "Charles Tait",
         "J. and N. Tait",
         "Elizabeth Tait, John Tait, Norman Campbell, Bella Cola, Will Coyne, Sam Crewes, Jack Ennis, John Forde, Vera Linden, Mr. Marshall, Mr. McKenzie, Frank Mills, Ollie Wilson",
         "True story of notorious Australian outlaw Ned Kelly (1855-80).",
         "06.sty",
         589,
         "$ 2250",
         null,
         null,
         null,
         7.0,
         7.0,
         [
          "Elizabeth Tait",
          "John Tait",
          "Norman Campbell",
          "Bella Cola",
          "Will Coyne",
          "Sam Crewes",
          "Jack Ennis",
          "John Forde",
          "Vera Linden",
          "Mr. Marshall",
          "Mr. McKenzie",
          "Frank Mills",
          "Ollie Wilson"
         ],
         "Bella Cola"
        ],
        [
         "tt0000574",
         "The Story of the Kelly Gang",
         "The Story of the Kelly Gang",
         "1906",
         "26.12.1906",
         "Biography, Crime, Drama",
         70,
         "Australia",
         "None",
         "Charles Tait",
         "Charles Tait",
         "J. and N. Tait",
         "Elizabeth Tait, John Tait, Norman Campbell, Bella Cola, Will Coyne, Sam Crewes, Jack Ennis, John Forde, Vera Linden, Mr. Marshall, Mr. McKenzie, Frank Mills, Ollie Wilson",
         "True story of notorious Australian outlaw Ned Kelly (1855-80).",
         "06.sty",
         589,
         "$ 2250",
         null,
         null,
         null,
         7.0,
         7.0,
         [
          "Elizabeth Tait",
          "John Tait",
          "Norman Campbell",
          "Bella Cola",
          "Will Coyne",
          "Sam Crewes",
          "Jack Ennis",
          "John Forde",
          "Vera Linden",
          "Mr. Marshall",
          "Mr. McKenzie",
          "Frank Mills",
          "Ollie Wilson"
         ],
         "Will Coyne"
        ],
        [
         "tt0000574",
         "The Story of the Kelly Gang",
         "The Story of the Kelly Gang",
         "1906",
         "26.12.1906",
         "Biography, Crime, Drama",
         70,
         "Australia",
         "None",
         "Charles Tait",
         "Charles Tait",
         "J. and N. Tait",
         "Elizabeth Tait, John Tait, Norman Campbell, Bella Cola, Will Coyne, Sam Crewes, Jack Ennis, John Forde, Vera Linden, Mr. Marshall, Mr. McKenzie, Frank Mills, Ollie Wilson",
         "True story of notorious Australian outlaw Ned Kelly (1855-80).",
         "06.sty",
         589,
         "$ 2250",
         null,
         null,
         null,
         7.0,
         7.0,
         [
          "Elizabeth Tait",
          "John Tait",
          "Norman Campbell",
          "Bella Cola",
          "Will Coyne",
          "Sam Crewes",
          "Jack Ennis",
          "John Forde",
          "Vera Linden",
          "Mr. Marshall",
          "Mr. McKenzie",
          "Frank Mills",
          "Ollie Wilson"
         ],
         "Sam Crewes"
        ],
        [
         "tt0000574",
         "The Story of the Kelly Gang",
         "The Story of the Kelly Gang",
         "1906",
         "26.12.1906",
         "Biography, Crime, Drama",
         70,
         "Australia",
         "None",
         "Charles Tait",
         "Charles Tait",
         "J. and N. Tait",
         "Elizabeth Tait, John Tait, Norman Campbell, Bella Cola, Will Coyne, Sam Crewes, Jack Ennis, John Forde, Vera Linden, Mr. Marshall, Mr. McKenzie, Frank Mills, Ollie Wilson",
         "True story of notorious Australian outlaw Ned Kelly (1855-80).",
         "06.sty",
         589,
         "$ 2250",
         null,
         null,
         null,
         7.0,
         7.0,
         [
          "Elizabeth Tait",
          "John Tait",
          "Norman Campbell",
          "Bella Cola",
          "Will Coyne",
          "Sam Crewes",
          "Jack Ennis",
          "John Forde",
          "Vera Linden",
          "Mr. Marshall",
          "Mr. McKenzie",
          "Frank Mills",
          "Ollie Wilson"
         ],
         "Jack Ennis"
        ]
       ],
       "datasetInfos": [],
       "dbfsResultPath": null,
       "isJsonSchema": true,
       "metadata": {},
       "overflow": false,
       "plotOptions": {
        "customPlotOptions": {},
        "displayType": "table",
        "pivotAggregation": null,
        "pivotColumns": null,
        "xColumns": null,
        "yColumns": null
       },
       "removedWidgets": [],
       "schema": [
        {
         "metadata": "{}",
         "name": "imdb_title_id",
         "type": "\"string\""
        },
        {
         "metadata": "{}",
         "name": "title",
         "type": "\"string\""
        },
        {
         "metadata": "{}",
         "name": "original_title",
         "type": "\"string\""
        },
        {
         "metadata": "{}",
         "name": "year",
         "type": "\"string\""
        },
        {
         "metadata": "{}",
         "name": "date_published",
         "type": "\"string\""
        },
        {
         "metadata": "{}",
         "name": "genre",
         "type": "\"string\""
        },
        {
         "metadata": "{}",
         "name": "duration",
         "type": "\"integer\""
        },
        {
         "metadata": "{}",
         "name": "country",
         "type": "\"string\""
        },
        {
         "metadata": "{}",
         "name": "language",
         "type": "\"string\""
        },
        {
         "metadata": "{}",
         "name": "director",
         "type": "\"string\""
        },
        {
         "metadata": "{}",
         "name": "writer",
         "type": "\"string\""
        },
        {
         "metadata": "{}",
         "name": "production_company",
         "type": "\"string\""
        },
        {
         "metadata": "{}",
         "name": "actors",
         "type": "\"string\""
        },
        {
         "metadata": "{}",
         "name": "description",
         "type": "\"string\""
        },
        {
         "metadata": "{}",
         "name": "avg_vote",
         "type": "\"string\""
        },
        {
         "metadata": "{}",
         "name": "votes",
         "type": "\"integer\""
        },
        {
         "metadata": "{}",
         "name": "budget",
         "type": "\"string\""
        },
        {
         "metadata": "{}",
         "name": "usa_gross_income",
         "type": "\"string\""
        },
        {
         "metadata": "{}",
         "name": "worlwide_gross_income",
         "type": "\"string\""
        },
        {
         "metadata": "{}",
         "name": "metascore",
         "type": "\"double\""
        },
        {
         "metadata": "{}",
         "name": "reviews_from_users",
         "type": "\"double\""
        },
        {
         "metadata": "{}",
         "name": "reviews_from_critics",
         "type": "\"double\""
        },
        {
         "metadata": "{}",
         "name": "actor_list",
         "type": "{\"type\":\"array\",\"elementType\":\"string\",\"containsNull\":false}"
        },
        {
         "metadata": "{}",
         "name": "actor",
         "type": "\"string\""
        }
       ],
       "type": "table"
      }
     },
     "output_type": "display_data"
    }
   ],
   "source": [
    "#explode rozbija liste aktorow na osobne wiersze\n",
    "moviesDf = moviesDf.withColumn(\"actor_list\", split(col(\"actors\"), \", \"))\n",
    "moviesExploded = moviesDf.withColumn(\"actor\", explode(\"actor_list\"))\n",
    "\n",
    "display(moviesExploded.limit(10))"
   ]
  },
  {
   "cell_type": "code",
   "execution_count": 0,
   "metadata": {
    "application/vnd.databricks.v1+cell": {
     "cellMetadata": {
      "byteLimit": 2048000,
      "rowLimit": 10000
     },
     "inputWidgets": {},
     "nuid": "dbd419c2-0d12-4344-a1b8-4252ce384364",
     "showTitle": false,
     "tableResultSettingsMap": {},
     "title": ""
    }
   },
   "outputs": [
    {
     "output_type": "display_data",
     "data": {
      "text/html": [
       "<style scoped>\n",
       "  .table-result-container {\n",
       "    max-height: 300px;\n",
       "    overflow: auto;\n",
       "  }\n",
       "  table, th, td {\n",
       "    border: 1px solid black;\n",
       "    border-collapse: collapse;\n",
       "  }\n",
       "  th, td {\n",
       "    padding: 5px;\n",
       "  }\n",
       "  th {\n",
       "    text-align: left;\n",
       "  }\n",
       "</style><div class='table-result-container'><table class='table-result'><thead style='background-color: white'><tr><th>imdb_title_id</th><th>title</th><th>original_title</th><th>year</th><th>date_published</th><th>genre</th><th>duration</th><th>country</th><th>language</th><th>director</th><th>writer</th><th>production_company</th><th>actors</th><th>description</th><th>avg_vote</th><th>votes</th><th>budget</th><th>usa_gross_income</th><th>worlwide_gross_income</th><th>metascore</th><th>reviews_from_users</th><th>reviews_from_critics</th><th>actor_list</th></tr></thead><tbody><tr><td>tt0000009</td><td>Miss Jerry</td><td>Miss Jerry</td><td>1894</td><td>1894-10-09</td><td>Romance</td><td>45</td><td>USA</td><td>None</td><td>Alexander Black</td><td>Alexander Black</td><td>Alexander Black Photoplays</td><td>Blanche Bayliss, William Courtenay, Chauncey Depew</td><td>The adventures of a female reporter in the 1890s.</td><td>05.wrz</td><td>154</td><td>0</td><td>null</td><td>null</td><td>null</td><td>1.0</td><td>2.0</td><td>List(Blanche Bayliss, William Courtenay, Chauncey Depew)</td></tr><tr><td>tt0000574</td><td>The Story of the Kelly Gang</td><td>The Story of the Kelly Gang</td><td>1906</td><td>26.12.1906</td><td>Biography, Crime, Drama</td><td>70</td><td>Australia</td><td>None</td><td>Charles Tait</td><td>Charles Tait</td><td>J. and N. Tait</td><td>Elizabeth Tait, John Tait, Norman Campbell, Bella Cola, Will Coyne, Sam Crewes, Jack Ennis, John Forde, Vera Linden, Mr. Marshall, Mr. McKenzie, Frank Mills, Ollie Wilson</td><td>True story of notorious Australian outlaw Ned Kelly (1855-80).</td><td>06.sty</td><td>589</td><td>$ 2250</td><td>null</td><td>null</td><td>null</td><td>7.0</td><td>7.0</td><td>List(Elizabeth Tait, John Tait, Norman Campbell, Bella Cola, Will Coyne, Sam Crewes, Jack Ennis, John Forde, Vera Linden, Mr. Marshall, Mr. McKenzie, Frank Mills, Ollie Wilson)</td></tr><tr><td>tt0001892</td><td>Den sorte drøm</td><td>Den sorte drøm</td><td>1911</td><td>19.08.1911</td><td>Drama</td><td>53</td><td>Germany, Denmark</td><td>null</td><td>Urban Gad</td><td>Urban Gad, Gebhard Schätzler-Perasini</td><td>Fotorama</td><td>Asta Nielsen, Valdemar Psilander, Gunnar Helsengreen, Emil Albes, Hugo Flink, Mary Hagen</td><td>Two men of high rank are both wooing the beautiful and famous equestrian acrobat Stella. While Stella ignores the jeweler Hirsch, she accepts Count von Waldberg's offer to follow her home, ...</td><td>05.sie</td><td>188</td><td>0</td><td>null</td><td>null</td><td>null</td><td>5.0</td><td>2.0</td><td>List(Asta Nielsen, Valdemar Psilander, Gunnar Helsengreen, Emil Albes, Hugo Flink, Mary Hagen)</td></tr><tr><td>tt0002101</td><td>Cleopatra</td><td>Cleopatra</td><td>1912</td><td>13.11.1912</td><td>Drama, History</td><td>100</td><td>USA</td><td>English</td><td>Charles L. Gaskill</td><td>Victorien Sardou</td><td>Helen Gardner Picture Players</td><td>Helen Gardner, Pearl Sindelar, Miss Fielding, Miss Robson, Helene Costello, Charles Sindelar, Mr. Howard, James R. Waite, Mr. Osborne, Harry Knowles, Mr. Paul, Mr. Brady, Mr. Corker</td><td>The fabled queen of Egypt's affair with Roman general Marc Antony is ultimately disastrous for both of them.</td><td>05.lut</td><td>446</td><td>$ 45000</td><td>null</td><td>null</td><td>null</td><td>25.0</td><td>3.0</td><td>List(Helen Gardner, Pearl Sindelar, Miss Fielding, Miss Robson, Helene Costello, Charles Sindelar, Mr. Howard, James R. Waite, Mr. Osborne, Harry Knowles, Mr. Paul, Mr. Brady, Mr. Corker)</td></tr><tr><td>tt0002130</td><td>L'Inferno</td><td>L'Inferno</td><td>1911</td><td>06.03.1911</td><td>Adventure, Drama, Fantasy</td><td>68</td><td>Italy</td><td>Italian</td><td>Francesco Bertolini, Adolfo Padovan</td><td>Dante Alighieri</td><td>Milano Film</td><td>Salvatore Papa, Arturo Pirovano, Giuseppe de Liguoro, Pier Delle Vigne, Augusto Milla, Attilio Motta, Emilise Beretta</td><td>Loosely adapted from Dante's Divine Comedy and inspired by the illustrations of Gustav Doré the original silent film has been restored and has a new score by Tangerine Dream.</td><td>7.0</td><td>2237</td><td>0</td><td>null</td><td>null</td><td>null</td><td>31.0</td><td>14.0</td><td>List(Salvatore Papa, Arturo Pirovano, Giuseppe de Liguoro, Pier Delle Vigne, Augusto Milla, Attilio Motta, Emilise Beretta)</td></tr><tr><td>tt0002199</td><td>From the Manger to the Cross or, Jesus of Nazareth</td><td>From the Manger to the Cross or, Jesus of Nazareth</td><td>1912</td><td>1913</td><td>Biography, Drama</td><td>60</td><td>USA</td><td>English</td><td>Sidney Olcott</td><td>Gene Gauntier</td><td>Kalem Company</td><td>R. Henderson Bland, Percy Dyer, Gene Gauntier, Alice Hollister, Samuel Morgan, James D. Ainsley, Robert G. Vignola, George Kellog, J.P. McGowan</td><td>An account of the life of Jesus Christ, based on the books of the New Testament: After Jesus' birth is foretold to his parents, he is born in Bethlehem, and is visited by shepherds and wise...</td><td>05.lip</td><td>484</td><td>0</td><td>null</td><td>null</td><td>null</td><td>13.0</td><td>5.0</td><td>List(R. Henderson Bland, Percy Dyer, Gene Gauntier, Alice Hollister, Samuel Morgan, James D. Ainsley, Robert G. Vignola, George Kellog, J.P. McGowan)</td></tr><tr><td>tt0002423</td><td>Madame DuBarry</td><td>Madame DuBarry</td><td>1919</td><td>26.11.1919</td><td>Biography, Drama, Romance</td><td>85</td><td>Germany</td><td>German</td><td>Ernst Lubitsch</td><td>Norbert Falk, Hanns Kräly</td><td>Projektions-AG Union (PAGU)</td><td>Pola Negri, Emil Jannings, Harry Liedtke, Eduard von Winterstein, Reinhold Schünzel, Else Berna, Fred Immler, Gustav Czimeg, Karl Platen, Bernhard Goetzke, Magnus Stifter, Paul Biensfeldt, Willy Kaiser-Heyl, Alexander Ekert, Robert Sortsch-Pla</td><td>The story of Madame DuBarry, the mistress of Louis XV of France, and her loves in the time of the French revolution.</td><td>06.sie</td><td>753</td><td>0</td><td>null</td><td>null</td><td>null</td><td>12.0</td><td>9.0</td><td>List(Pola Negri, Emil Jannings, Harry Liedtke, Eduard von Winterstein, Reinhold Schünzel, Else Berna, Fred Immler, Gustav Czimeg, Karl Platen, Bernhard Goetzke, Magnus Stifter, Paul Biensfeldt, Willy Kaiser-Heyl, Alexander Ekert, Robert Sortsch-Pla)</td></tr><tr><td>tt0002445</td><td>Quo Vadis?</td><td>Quo Vadis?</td><td>1913</td><td>01.03.1913</td><td>Drama, History</td><td>120</td><td>Italy</td><td>Italian</td><td>Enrico Guazzoni</td><td>Henryk Sienkiewicz, Enrico Guazzoni</td><td>Società Italiana Cines</td><td>Amleto Novelli, Gustavo Serena, Carlo Cattaneo, Amelia Cattaneo, Lea Giunchi, Bruto Castellani, Augusto Mastripietri, Cesare Moltini, Olga Brandini, Ignazio Lupi, Giovanni Gizzi, Lia Orlandini, Matilde Guillaume, Ida Carloni Talli, Giuseppe Gambardella</td><td>An epic Italian film Quo Vadis influenced many of the later movies.</td><td>06.lut</td><td>273</td><td>ITL 45000</td><td>null</td><td>null</td><td>null</td><td>7.0</td><td>5.0</td><td>List(Amleto Novelli, Gustavo Serena, Carlo Cattaneo, Amelia Cattaneo, Lea Giunchi, Bruto Castellani, Augusto Mastripietri, Cesare Moltini, Olga Brandini, Ignazio Lupi, Giovanni Gizzi, Lia Orlandini, Matilde Guillaume, Ida Carloni Talli, Giuseppe Gambardella)</td></tr><tr><td>tt0002452</td><td>Independenta Romaniei</td><td>Independenta Romaniei</td><td>1912</td><td>01.09.1912</td><td>History, War</td><td>120</td><td>Romania</td><td>null</td><td>Aristide Demetriade, Grigore Brezeanu</td><td>Aristide Demetriade, Petre Liciu</td><td>Societatea Filmului de Arta Leon Popescu</td><td>Aristide Demetriade, Constanta Demetriade, Constantin Nottara, Pepi Machauer, Aurel Athanasescu, Jeny Metaxa-Doro, Nicolae Soreanu, Vasile Toneanu, Aristita Romanescu, Elvire Popesco, M. Vîrgolici, C. Nedelcovici, Mihail Tancovici-Cosmin, Ion Dumitrescu, Gheorghe Meliseanu</td><td>The movie depicts the Romanian War of Independence (1877-1878).</td><td>06.lip</td><td>198</td><td>ROL 400000</td><td>null</td><td>null</td><td>null</td><td>4.0</td><td>1.0</td><td>List(Aristide Demetriade, Constanta Demetriade, Constantin Nottara, Pepi Machauer, Aurel Athanasescu, Jeny Metaxa-Doro, Nicolae Soreanu, Vasile Toneanu, Aristita Romanescu, Elvire Popesco, M. Vîrgolici, C. Nedelcovici, Mihail Tancovici-Cosmin, Ion Dumitrescu, Gheorghe Meliseanu)</td></tr><tr><td>tt0002461</td><td>Richard III</td><td>Richard III</td><td>1912</td><td>15.10.1912</td><td>Drama</td><td>55</td><td>France, USA</td><td>English</td><td>André Calmettes, James Keane</td><td>James Keane, William Shakespeare</td><td>Le Film d'Art</td><td>Robert Gemp, Frederick Warde, Albert Gardner, James Keane, George Moss, Howard Stuart, Virginia Rankin, Violet Stuart, Carey Lee, Carlotta De Felice</td><td>Richard of Gloucester uses manipulation and murder to gain the English throne.</td><td>05.maj</td><td>225</td><td>$ 30000</td><td>null</td><td>null</td><td>null</td><td>8.0</td><td>1.0</td><td>List(Robert Gemp, Frederick Warde, Albert Gardner, James Keane, George Moss, Howard Stuart, Virginia Rankin, Violet Stuart, Carey Lee, Carlotta De Felice)</td></tr></tbody></table></div>"
      ]
     },
     "metadata": {
      "application/vnd.databricks.v1+output": {
       "addedWidgets": {},
       "aggData": [],
       "aggError": "",
       "aggOverflow": false,
       "aggSchema": [],
       "aggSeriesLimitReached": false,
       "aggType": "",
       "arguments": {},
       "columnCustomDisplayInfos": {},
       "data": [
        [
         "tt0000009",
         "Miss Jerry",
         "Miss Jerry",
         "1894",
         "1894-10-09",
         "Romance",
         45,
         "USA",
         "None",
         "Alexander Black",
         "Alexander Black",
         "Alexander Black Photoplays",
         "Blanche Bayliss, William Courtenay, Chauncey Depew",
         "The adventures of a female reporter in the 1890s.",
         "05.wrz",
         154,
         "0",
         null,
         null,
         null,
         1.0,
         2.0,
         [
          "Blanche Bayliss",
          "William Courtenay",
          "Chauncey Depew"
         ]
        ],
        [
         "tt0000574",
         "The Story of the Kelly Gang",
         "The Story of the Kelly Gang",
         "1906",
         "26.12.1906",
         "Biography, Crime, Drama",
         70,
         "Australia",
         "None",
         "Charles Tait",
         "Charles Tait",
         "J. and N. Tait",
         "Elizabeth Tait, John Tait, Norman Campbell, Bella Cola, Will Coyne, Sam Crewes, Jack Ennis, John Forde, Vera Linden, Mr. Marshall, Mr. McKenzie, Frank Mills, Ollie Wilson",
         "True story of notorious Australian outlaw Ned Kelly (1855-80).",
         "06.sty",
         589,
         "$ 2250",
         null,
         null,
         null,
         7.0,
         7.0,
         [
          "Elizabeth Tait",
          "John Tait",
          "Norman Campbell",
          "Bella Cola",
          "Will Coyne",
          "Sam Crewes",
          "Jack Ennis",
          "John Forde",
          "Vera Linden",
          "Mr. Marshall",
          "Mr. McKenzie",
          "Frank Mills",
          "Ollie Wilson"
         ]
        ],
        [
         "tt0001892",
         "Den sorte drøm",
         "Den sorte drøm",
         "1911",
         "19.08.1911",
         "Drama",
         53,
         "Germany, Denmark",
         null,
         "Urban Gad",
         "Urban Gad, Gebhard Schätzler-Perasini",
         "Fotorama",
         "Asta Nielsen, Valdemar Psilander, Gunnar Helsengreen, Emil Albes, Hugo Flink, Mary Hagen",
         "Two men of high rank are both wooing the beautiful and famous equestrian acrobat Stella. While Stella ignores the jeweler Hirsch, she accepts Count von Waldberg's offer to follow her home, ...",
         "05.sie",
         188,
         "0",
         null,
         null,
         null,
         5.0,
         2.0,
         [
          "Asta Nielsen",
          "Valdemar Psilander",
          "Gunnar Helsengreen",
          "Emil Albes",
          "Hugo Flink",
          "Mary Hagen"
         ]
        ],
        [
         "tt0002101",
         "Cleopatra",
         "Cleopatra",
         "1912",
         "13.11.1912",
         "Drama, History",
         100,
         "USA",
         "English",
         "Charles L. Gaskill",
         "Victorien Sardou",
         "Helen Gardner Picture Players",
         "Helen Gardner, Pearl Sindelar, Miss Fielding, Miss Robson, Helene Costello, Charles Sindelar, Mr. Howard, James R. Waite, Mr. Osborne, Harry Knowles, Mr. Paul, Mr. Brady, Mr. Corker",
         "The fabled queen of Egypt's affair with Roman general Marc Antony is ultimately disastrous for both of them.",
         "05.lut",
         446,
         "$ 45000",
         null,
         null,
         null,
         25.0,
         3.0,
         [
          "Helen Gardner",
          "Pearl Sindelar",
          "Miss Fielding",
          "Miss Robson",
          "Helene Costello",
          "Charles Sindelar",
          "Mr. Howard",
          "James R. Waite",
          "Mr. Osborne",
          "Harry Knowles",
          "Mr. Paul",
          "Mr. Brady",
          "Mr. Corker"
         ]
        ],
        [
         "tt0002130",
         "L'Inferno",
         "L'Inferno",
         "1911",
         "06.03.1911",
         "Adventure, Drama, Fantasy",
         68,
         "Italy",
         "Italian",
         "Francesco Bertolini, Adolfo Padovan",
         "Dante Alighieri",
         "Milano Film",
         "Salvatore Papa, Arturo Pirovano, Giuseppe de Liguoro, Pier Delle Vigne, Augusto Milla, Attilio Motta, Emilise Beretta",
         "Loosely adapted from Dante's Divine Comedy and inspired by the illustrations of Gustav Doré the original silent film has been restored and has a new score by Tangerine Dream.",
         "7.0",
         2237,
         "0",
         null,
         null,
         null,
         31.0,
         14.0,
         [
          "Salvatore Papa",
          "Arturo Pirovano",
          "Giuseppe de Liguoro",
          "Pier Delle Vigne",
          "Augusto Milla",
          "Attilio Motta",
          "Emilise Beretta"
         ]
        ],
        [
         "tt0002199",
         "From the Manger to the Cross or, Jesus of Nazareth",
         "From the Manger to the Cross or, Jesus of Nazareth",
         "1912",
         "1913",
         "Biography, Drama",
         60,
         "USA",
         "English",
         "Sidney Olcott",
         "Gene Gauntier",
         "Kalem Company",
         "R. Henderson Bland, Percy Dyer, Gene Gauntier, Alice Hollister, Samuel Morgan, James D. Ainsley, Robert G. Vignola, George Kellog, J.P. McGowan",
         "An account of the life of Jesus Christ, based on the books of the New Testament: After Jesus' birth is foretold to his parents, he is born in Bethlehem, and is visited by shepherds and wise...",
         "05.lip",
         484,
         "0",
         null,
         null,
         null,
         13.0,
         5.0,
         [
          "R. Henderson Bland",
          "Percy Dyer",
          "Gene Gauntier",
          "Alice Hollister",
          "Samuel Morgan",
          "James D. Ainsley",
          "Robert G. Vignola",
          "George Kellog",
          "J.P. McGowan"
         ]
        ],
        [
         "tt0002423",
         "Madame DuBarry",
         "Madame DuBarry",
         "1919",
         "26.11.1919",
         "Biography, Drama, Romance",
         85,
         "Germany",
         "German",
         "Ernst Lubitsch",
         "Norbert Falk, Hanns Kräly",
         "Projektions-AG Union (PAGU)",
         "Pola Negri, Emil Jannings, Harry Liedtke, Eduard von Winterstein, Reinhold Schünzel, Else Berna, Fred Immler, Gustav Czimeg, Karl Platen, Bernhard Goetzke, Magnus Stifter, Paul Biensfeldt, Willy Kaiser-Heyl, Alexander Ekert, Robert Sortsch-Pla",
         "The story of Madame DuBarry, the mistress of Louis XV of France, and her loves in the time of the French revolution.",
         "06.sie",
         753,
         "0",
         null,
         null,
         null,
         12.0,
         9.0,
         [
          "Pola Negri",
          "Emil Jannings",
          "Harry Liedtke",
          "Eduard von Winterstein",
          "Reinhold Schünzel",
          "Else Berna",
          "Fred Immler",
          "Gustav Czimeg",
          "Karl Platen",
          "Bernhard Goetzke",
          "Magnus Stifter",
          "Paul Biensfeldt",
          "Willy Kaiser-Heyl",
          "Alexander Ekert",
          "Robert Sortsch-Pla"
         ]
        ],
        [
         "tt0002445",
         "Quo Vadis?",
         "Quo Vadis?",
         "1913",
         "01.03.1913",
         "Drama, History",
         120,
         "Italy",
         "Italian",
         "Enrico Guazzoni",
         "Henryk Sienkiewicz, Enrico Guazzoni",
         "Società Italiana Cines",
         "Amleto Novelli, Gustavo Serena, Carlo Cattaneo, Amelia Cattaneo, Lea Giunchi, Bruto Castellani, Augusto Mastripietri, Cesare Moltini, Olga Brandini, Ignazio Lupi, Giovanni Gizzi, Lia Orlandini, Matilde Guillaume, Ida Carloni Talli, Giuseppe Gambardella",
         "An epic Italian film Quo Vadis influenced many of the later movies.",
         "06.lut",
         273,
         "ITL 45000",
         null,
         null,
         null,
         7.0,
         5.0,
         [
          "Amleto Novelli",
          "Gustavo Serena",
          "Carlo Cattaneo",
          "Amelia Cattaneo",
          "Lea Giunchi",
          "Bruto Castellani",
          "Augusto Mastripietri",
          "Cesare Moltini",
          "Olga Brandini",
          "Ignazio Lupi",
          "Giovanni Gizzi",
          "Lia Orlandini",
          "Matilde Guillaume",
          "Ida Carloni Talli",
          "Giuseppe Gambardella"
         ]
        ],
        [
         "tt0002452",
         "Independenta Romaniei",
         "Independenta Romaniei",
         "1912",
         "01.09.1912",
         "History, War",
         120,
         "Romania",
         null,
         "Aristide Demetriade, Grigore Brezeanu",
         "Aristide Demetriade, Petre Liciu",
         "Societatea Filmului de Arta Leon Popescu",
         "Aristide Demetriade, Constanta Demetriade, Constantin Nottara, Pepi Machauer, Aurel Athanasescu, Jeny Metaxa-Doro, Nicolae Soreanu, Vasile Toneanu, Aristita Romanescu, Elvire Popesco, M. Vîrgolici, C. Nedelcovici, Mihail Tancovici-Cosmin, Ion Dumitrescu, Gheorghe Meliseanu",
         "The movie depicts the Romanian War of Independence (1877-1878).",
         "06.lip",
         198,
         "ROL 400000",
         null,
         null,
         null,
         4.0,
         1.0,
         [
          "Aristide Demetriade",
          "Constanta Demetriade",
          "Constantin Nottara",
          "Pepi Machauer",
          "Aurel Athanasescu",
          "Jeny Metaxa-Doro",
          "Nicolae Soreanu",
          "Vasile Toneanu",
          "Aristita Romanescu",
          "Elvire Popesco",
          "M. Vîrgolici",
          "C. Nedelcovici",
          "Mihail Tancovici-Cosmin",
          "Ion Dumitrescu",
          "Gheorghe Meliseanu"
         ]
        ],
        [
         "tt0002461",
         "Richard III",
         "Richard III",
         "1912",
         "15.10.1912",
         "Drama",
         55,
         "France, USA",
         "English",
         "André Calmettes, James Keane",
         "James Keane, William Shakespeare",
         "Le Film d'Art",
         "Robert Gemp, Frederick Warde, Albert Gardner, James Keane, George Moss, Howard Stuart, Virginia Rankin, Violet Stuart, Carey Lee, Carlotta De Felice",
         "Richard of Gloucester uses manipulation and murder to gain the English throne.",
         "05.maj",
         225,
         "$ 30000",
         null,
         null,
         null,
         8.0,
         1.0,
         [
          "Robert Gemp",
          "Frederick Warde",
          "Albert Gardner",
          "James Keane",
          "George Moss",
          "Howard Stuart",
          "Virginia Rankin",
          "Violet Stuart",
          "Carey Lee",
          "Carlotta De Felice"
         ]
        ]
       ],
       "datasetInfos": [],
       "dbfsResultPath": null,
       "isJsonSchema": true,
       "metadata": {},
       "overflow": false,
       "plotOptions": {
        "customPlotOptions": {},
        "displayType": "table",
        "pivotAggregation": null,
        "pivotColumns": null,
        "xColumns": null,
        "yColumns": null
       },
       "removedWidgets": [],
       "schema": [
        {
         "metadata": "{}",
         "name": "imdb_title_id",
         "type": "\"string\""
        },
        {
         "metadata": "{}",
         "name": "title",
         "type": "\"string\""
        },
        {
         "metadata": "{}",
         "name": "original_title",
         "type": "\"string\""
        },
        {
         "metadata": "{}",
         "name": "year",
         "type": "\"string\""
        },
        {
         "metadata": "{}",
         "name": "date_published",
         "type": "\"string\""
        },
        {
         "metadata": "{}",
         "name": "genre",
         "type": "\"string\""
        },
        {
         "metadata": "{}",
         "name": "duration",
         "type": "\"integer\""
        },
        {
         "metadata": "{}",
         "name": "country",
         "type": "\"string\""
        },
        {
         "metadata": "{}",
         "name": "language",
         "type": "\"string\""
        },
        {
         "metadata": "{}",
         "name": "director",
         "type": "\"string\""
        },
        {
         "metadata": "{}",
         "name": "writer",
         "type": "\"string\""
        },
        {
         "metadata": "{}",
         "name": "production_company",
         "type": "\"string\""
        },
        {
         "metadata": "{}",
         "name": "actors",
         "type": "\"string\""
        },
        {
         "metadata": "{}",
         "name": "description",
         "type": "\"string\""
        },
        {
         "metadata": "{}",
         "name": "avg_vote",
         "type": "\"string\""
        },
        {
         "metadata": "{}",
         "name": "votes",
         "type": "\"integer\""
        },
        {
         "metadata": "{}",
         "name": "budget",
         "type": "\"string\""
        },
        {
         "metadata": "{}",
         "name": "usa_gross_income",
         "type": "\"string\""
        },
        {
         "metadata": "{}",
         "name": "worlwide_gross_income",
         "type": "\"string\""
        },
        {
         "metadata": "{}",
         "name": "metascore",
         "type": "\"double\""
        },
        {
         "metadata": "{}",
         "name": "reviews_from_users",
         "type": "\"double\""
        },
        {
         "metadata": "{}",
         "name": "reviews_from_critics",
         "type": "\"double\""
        },
        {
         "metadata": "{}",
         "name": "actor_list",
         "type": "{\"type\":\"array\",\"elementType\":\"string\",\"containsNull\":false}"
        }
       ],
       "type": "table"
      }
     },
     "output_type": "display_data"
    }
   ],
   "source": [
    "#drop usuwa wiersze z na\n",
    "moviesDf = moviesDf.dropna(subset=[\"title\", \"year\"])\n",
    "\n",
    "display(moviesDf.limit(10))"
   ]
  },
  {
   "cell_type": "code",
   "execution_count": 0,
   "metadata": {
    "application/vnd.databricks.v1+cell": {
     "cellMetadata": {
      "byteLimit": 2048000,
      "rowLimit": 10000
     },
     "inputWidgets": {},
     "nuid": "b8c1a427-a196-44c9-a557-05b3abcbe8ba",
     "showTitle": false,
     "tableResultSettingsMap": {},
     "title": ""
    }
   },
   "outputs": [
    {
     "output_type": "display_data",
     "data": {
      "text/html": [
       "<style scoped>\n",
       "  .table-result-container {\n",
       "    max-height: 300px;\n",
       "    overflow: auto;\n",
       "  }\n",
       "  table, th, td {\n",
       "    border: 1px solid black;\n",
       "    border-collapse: collapse;\n",
       "  }\n",
       "  th, td {\n",
       "    padding: 5px;\n",
       "  }\n",
       "  th {\n",
       "    text-align: left;\n",
       "  }\n",
       "</style><div class='table-result-container'><table class='table-result'><thead style='background-color: white'><tr><th>imdb_title_id</th><th>title</th><th>original_title</th><th>year</th><th>date_published</th><th>genre</th><th>duration</th><th>country</th><th>language</th><th>director</th><th>writer</th><th>production_company</th><th>actors</th><th>description</th><th>avg_vote</th><th>votes</th><th>budget</th><th>usa_gross_income</th><th>worlwide_gross_income</th><th>metascore</th><th>reviews_from_users</th><th>reviews_from_critics</th><th>actor_list</th><th>clean_budget</th></tr></thead><tbody><tr><td>tt0000009</td><td>Miss Jerry</td><td>Miss Jerry</td><td>1894</td><td>1894-10-09</td><td>Romance</td><td>45</td><td>USA</td><td>None</td><td>Alexander Black</td><td>Alexander Black</td><td>Alexander Black Photoplays</td><td>Blanche Bayliss, William Courtenay, Chauncey Depew</td><td>The adventures of a female reporter in the 1890s.</td><td>05.wrz</td><td>154</td><td>0</td><td>null</td><td>null</td><td>null</td><td>1.0</td><td>2.0</td><td>List(Blanche Bayliss, William Courtenay, Chauncey Depew)</td><td>0.0</td></tr><tr><td>tt0000574</td><td>The Story of the Kelly Gang</td><td>The Story of the Kelly Gang</td><td>1906</td><td>26.12.1906</td><td>Biography, Crime, Drama</td><td>70</td><td>Australia</td><td>None</td><td>Charles Tait</td><td>Charles Tait</td><td>J. and N. Tait</td><td>Elizabeth Tait, John Tait, Norman Campbell, Bella Cola, Will Coyne, Sam Crewes, Jack Ennis, John Forde, Vera Linden, Mr. Marshall, Mr. McKenzie, Frank Mills, Ollie Wilson</td><td>True story of notorious Australian outlaw Ned Kelly (1855-80).</td><td>06.sty</td><td>589</td><td>$ 2250</td><td>null</td><td>null</td><td>null</td><td>7.0</td><td>7.0</td><td>List(Elizabeth Tait, John Tait, Norman Campbell, Bella Cola, Will Coyne, Sam Crewes, Jack Ennis, John Forde, Vera Linden, Mr. Marshall, Mr. McKenzie, Frank Mills, Ollie Wilson)</td><td>2250.0</td></tr><tr><td>tt0001892</td><td>Den sorte drøm</td><td>Den sorte drøm</td><td>1911</td><td>19.08.1911</td><td>Drama</td><td>53</td><td>Germany, Denmark</td><td>null</td><td>Urban Gad</td><td>Urban Gad, Gebhard Schätzler-Perasini</td><td>Fotorama</td><td>Asta Nielsen, Valdemar Psilander, Gunnar Helsengreen, Emil Albes, Hugo Flink, Mary Hagen</td><td>Two men of high rank are both wooing the beautiful and famous equestrian acrobat Stella. While Stella ignores the jeweler Hirsch, she accepts Count von Waldberg's offer to follow her home, ...</td><td>05.sie</td><td>188</td><td>0</td><td>null</td><td>null</td><td>null</td><td>5.0</td><td>2.0</td><td>List(Asta Nielsen, Valdemar Psilander, Gunnar Helsengreen, Emil Albes, Hugo Flink, Mary Hagen)</td><td>0.0</td></tr><tr><td>tt0002101</td><td>Cleopatra</td><td>Cleopatra</td><td>1912</td><td>13.11.1912</td><td>Drama, History</td><td>100</td><td>USA</td><td>English</td><td>Charles L. Gaskill</td><td>Victorien Sardou</td><td>Helen Gardner Picture Players</td><td>Helen Gardner, Pearl Sindelar, Miss Fielding, Miss Robson, Helene Costello, Charles Sindelar, Mr. Howard, James R. Waite, Mr. Osborne, Harry Knowles, Mr. Paul, Mr. Brady, Mr. Corker</td><td>The fabled queen of Egypt's affair with Roman general Marc Antony is ultimately disastrous for both of them.</td><td>05.lut</td><td>446</td><td>$ 45000</td><td>null</td><td>null</td><td>null</td><td>25.0</td><td>3.0</td><td>List(Helen Gardner, Pearl Sindelar, Miss Fielding, Miss Robson, Helene Costello, Charles Sindelar, Mr. Howard, James R. Waite, Mr. Osborne, Harry Knowles, Mr. Paul, Mr. Brady, Mr. Corker)</td><td>45000.0</td></tr><tr><td>tt0002130</td><td>L'Inferno</td><td>L'Inferno</td><td>1911</td><td>06.03.1911</td><td>Adventure, Drama, Fantasy</td><td>68</td><td>Italy</td><td>Italian</td><td>Francesco Bertolini, Adolfo Padovan</td><td>Dante Alighieri</td><td>Milano Film</td><td>Salvatore Papa, Arturo Pirovano, Giuseppe de Liguoro, Pier Delle Vigne, Augusto Milla, Attilio Motta, Emilise Beretta</td><td>Loosely adapted from Dante's Divine Comedy and inspired by the illustrations of Gustav Doré the original silent film has been restored and has a new score by Tangerine Dream.</td><td>7.0</td><td>2237</td><td>0</td><td>null</td><td>null</td><td>null</td><td>31.0</td><td>14.0</td><td>List(Salvatore Papa, Arturo Pirovano, Giuseppe de Liguoro, Pier Delle Vigne, Augusto Milla, Attilio Motta, Emilise Beretta)</td><td>0.0</td></tr><tr><td>tt0002199</td><td>From the Manger to the Cross or, Jesus of Nazareth</td><td>From the Manger to the Cross or, Jesus of Nazareth</td><td>1912</td><td>1913</td><td>Biography, Drama</td><td>60</td><td>USA</td><td>English</td><td>Sidney Olcott</td><td>Gene Gauntier</td><td>Kalem Company</td><td>R. Henderson Bland, Percy Dyer, Gene Gauntier, Alice Hollister, Samuel Morgan, James D. Ainsley, Robert G. Vignola, George Kellog, J.P. McGowan</td><td>An account of the life of Jesus Christ, based on the books of the New Testament: After Jesus' birth is foretold to his parents, he is born in Bethlehem, and is visited by shepherds and wise...</td><td>05.lip</td><td>484</td><td>0</td><td>null</td><td>null</td><td>null</td><td>13.0</td><td>5.0</td><td>List(R. Henderson Bland, Percy Dyer, Gene Gauntier, Alice Hollister, Samuel Morgan, James D. Ainsley, Robert G. Vignola, George Kellog, J.P. McGowan)</td><td>0.0</td></tr><tr><td>tt0002423</td><td>Madame DuBarry</td><td>Madame DuBarry</td><td>1919</td><td>26.11.1919</td><td>Biography, Drama, Romance</td><td>85</td><td>Germany</td><td>German</td><td>Ernst Lubitsch</td><td>Norbert Falk, Hanns Kräly</td><td>Projektions-AG Union (PAGU)</td><td>Pola Negri, Emil Jannings, Harry Liedtke, Eduard von Winterstein, Reinhold Schünzel, Else Berna, Fred Immler, Gustav Czimeg, Karl Platen, Bernhard Goetzke, Magnus Stifter, Paul Biensfeldt, Willy Kaiser-Heyl, Alexander Ekert, Robert Sortsch-Pla</td><td>The story of Madame DuBarry, the mistress of Louis XV of France, and her loves in the time of the French revolution.</td><td>06.sie</td><td>753</td><td>0</td><td>null</td><td>null</td><td>null</td><td>12.0</td><td>9.0</td><td>List(Pola Negri, Emil Jannings, Harry Liedtke, Eduard von Winterstein, Reinhold Schünzel, Else Berna, Fred Immler, Gustav Czimeg, Karl Platen, Bernhard Goetzke, Magnus Stifter, Paul Biensfeldt, Willy Kaiser-Heyl, Alexander Ekert, Robert Sortsch-Pla)</td><td>0.0</td></tr><tr><td>tt0002445</td><td>Quo Vadis?</td><td>Quo Vadis?</td><td>1913</td><td>01.03.1913</td><td>Drama, History</td><td>120</td><td>Italy</td><td>Italian</td><td>Enrico Guazzoni</td><td>Henryk Sienkiewicz, Enrico Guazzoni</td><td>Società Italiana Cines</td><td>Amleto Novelli, Gustavo Serena, Carlo Cattaneo, Amelia Cattaneo, Lea Giunchi, Bruto Castellani, Augusto Mastripietri, Cesare Moltini, Olga Brandini, Ignazio Lupi, Giovanni Gizzi, Lia Orlandini, Matilde Guillaume, Ida Carloni Talli, Giuseppe Gambardella</td><td>An epic Italian film Quo Vadis influenced many of the later movies.</td><td>06.lut</td><td>273</td><td>ITL 45000</td><td>null</td><td>null</td><td>null</td><td>7.0</td><td>5.0</td><td>List(Amleto Novelli, Gustavo Serena, Carlo Cattaneo, Amelia Cattaneo, Lea Giunchi, Bruto Castellani, Augusto Mastripietri, Cesare Moltini, Olga Brandini, Ignazio Lupi, Giovanni Gizzi, Lia Orlandini, Matilde Guillaume, Ida Carloni Talli, Giuseppe Gambardella)</td><td>null</td></tr><tr><td>tt0002452</td><td>Independenta Romaniei</td><td>Independenta Romaniei</td><td>1912</td><td>01.09.1912</td><td>History, War</td><td>120</td><td>Romania</td><td>null</td><td>Aristide Demetriade, Grigore Brezeanu</td><td>Aristide Demetriade, Petre Liciu</td><td>Societatea Filmului de Arta Leon Popescu</td><td>Aristide Demetriade, Constanta Demetriade, Constantin Nottara, Pepi Machauer, Aurel Athanasescu, Jeny Metaxa-Doro, Nicolae Soreanu, Vasile Toneanu, Aristita Romanescu, Elvire Popesco, M. Vîrgolici, C. Nedelcovici, Mihail Tancovici-Cosmin, Ion Dumitrescu, Gheorghe Meliseanu</td><td>The movie depicts the Romanian War of Independence (1877-1878).</td><td>06.lip</td><td>198</td><td>ROL 400000</td><td>null</td><td>null</td><td>null</td><td>4.0</td><td>1.0</td><td>List(Aristide Demetriade, Constanta Demetriade, Constantin Nottara, Pepi Machauer, Aurel Athanasescu, Jeny Metaxa-Doro, Nicolae Soreanu, Vasile Toneanu, Aristita Romanescu, Elvire Popesco, M. Vîrgolici, C. Nedelcovici, Mihail Tancovici-Cosmin, Ion Dumitrescu, Gheorghe Meliseanu)</td><td>null</td></tr><tr><td>tt0002461</td><td>Richard III</td><td>Richard III</td><td>1912</td><td>15.10.1912</td><td>Drama</td><td>55</td><td>France, USA</td><td>English</td><td>André Calmettes, James Keane</td><td>James Keane, William Shakespeare</td><td>Le Film d'Art</td><td>Robert Gemp, Frederick Warde, Albert Gardner, James Keane, George Moss, Howard Stuart, Virginia Rankin, Violet Stuart, Carey Lee, Carlotta De Felice</td><td>Richard of Gloucester uses manipulation and murder to gain the English throne.</td><td>05.maj</td><td>225</td><td>$ 30000</td><td>null</td><td>null</td><td>null</td><td>8.0</td><td>1.0</td><td>List(Robert Gemp, Frederick Warde, Albert Gardner, James Keane, George Moss, Howard Stuart, Virginia Rankin, Violet Stuart, Carey Lee, Carlotta De Felice)</td><td>30000.0</td></tr></tbody></table></div>"
      ]
     },
     "metadata": {
      "application/vnd.databricks.v1+output": {
       "addedWidgets": {},
       "aggData": [],
       "aggError": "",
       "aggOverflow": false,
       "aggSchema": [],
       "aggSeriesLimitReached": false,
       "aggType": "",
       "arguments": {},
       "columnCustomDisplayInfos": {},
       "data": [
        [
         "tt0000009",
         "Miss Jerry",
         "Miss Jerry",
         "1894",
         "1894-10-09",
         "Romance",
         45,
         "USA",
         "None",
         "Alexander Black",
         "Alexander Black",
         "Alexander Black Photoplays",
         "Blanche Bayliss, William Courtenay, Chauncey Depew",
         "The adventures of a female reporter in the 1890s.",
         "05.wrz",
         154,
         "0",
         null,
         null,
         null,
         1.0,
         2.0,
         [
          "Blanche Bayliss",
          "William Courtenay",
          "Chauncey Depew"
         ],
         0.0
        ],
        [
         "tt0000574",
         "The Story of the Kelly Gang",
         "The Story of the Kelly Gang",
         "1906",
         "26.12.1906",
         "Biography, Crime, Drama",
         70,
         "Australia",
         "None",
         "Charles Tait",
         "Charles Tait",
         "J. and N. Tait",
         "Elizabeth Tait, John Tait, Norman Campbell, Bella Cola, Will Coyne, Sam Crewes, Jack Ennis, John Forde, Vera Linden, Mr. Marshall, Mr. McKenzie, Frank Mills, Ollie Wilson",
         "True story of notorious Australian outlaw Ned Kelly (1855-80).",
         "06.sty",
         589,
         "$ 2250",
         null,
         null,
         null,
         7.0,
         7.0,
         [
          "Elizabeth Tait",
          "John Tait",
          "Norman Campbell",
          "Bella Cola",
          "Will Coyne",
          "Sam Crewes",
          "Jack Ennis",
          "John Forde",
          "Vera Linden",
          "Mr. Marshall",
          "Mr. McKenzie",
          "Frank Mills",
          "Ollie Wilson"
         ],
         2250.0
        ],
        [
         "tt0001892",
         "Den sorte drøm",
         "Den sorte drøm",
         "1911",
         "19.08.1911",
         "Drama",
         53,
         "Germany, Denmark",
         null,
         "Urban Gad",
         "Urban Gad, Gebhard Schätzler-Perasini",
         "Fotorama",
         "Asta Nielsen, Valdemar Psilander, Gunnar Helsengreen, Emil Albes, Hugo Flink, Mary Hagen",
         "Two men of high rank are both wooing the beautiful and famous equestrian acrobat Stella. While Stella ignores the jeweler Hirsch, she accepts Count von Waldberg's offer to follow her home, ...",
         "05.sie",
         188,
         "0",
         null,
         null,
         null,
         5.0,
         2.0,
         [
          "Asta Nielsen",
          "Valdemar Psilander",
          "Gunnar Helsengreen",
          "Emil Albes",
          "Hugo Flink",
          "Mary Hagen"
         ],
         0.0
        ],
        [
         "tt0002101",
         "Cleopatra",
         "Cleopatra",
         "1912",
         "13.11.1912",
         "Drama, History",
         100,
         "USA",
         "English",
         "Charles L. Gaskill",
         "Victorien Sardou",
         "Helen Gardner Picture Players",
         "Helen Gardner, Pearl Sindelar, Miss Fielding, Miss Robson, Helene Costello, Charles Sindelar, Mr. Howard, James R. Waite, Mr. Osborne, Harry Knowles, Mr. Paul, Mr. Brady, Mr. Corker",
         "The fabled queen of Egypt's affair with Roman general Marc Antony is ultimately disastrous for both of them.",
         "05.lut",
         446,
         "$ 45000",
         null,
         null,
         null,
         25.0,
         3.0,
         [
          "Helen Gardner",
          "Pearl Sindelar",
          "Miss Fielding",
          "Miss Robson",
          "Helene Costello",
          "Charles Sindelar",
          "Mr. Howard",
          "James R. Waite",
          "Mr. Osborne",
          "Harry Knowles",
          "Mr. Paul",
          "Mr. Brady",
          "Mr. Corker"
         ],
         45000.0
        ],
        [
         "tt0002130",
         "L'Inferno",
         "L'Inferno",
         "1911",
         "06.03.1911",
         "Adventure, Drama, Fantasy",
         68,
         "Italy",
         "Italian",
         "Francesco Bertolini, Adolfo Padovan",
         "Dante Alighieri",
         "Milano Film",
         "Salvatore Papa, Arturo Pirovano, Giuseppe de Liguoro, Pier Delle Vigne, Augusto Milla, Attilio Motta, Emilise Beretta",
         "Loosely adapted from Dante's Divine Comedy and inspired by the illustrations of Gustav Doré the original silent film has been restored and has a new score by Tangerine Dream.",
         "7.0",
         2237,
         "0",
         null,
         null,
         null,
         31.0,
         14.0,
         [
          "Salvatore Papa",
          "Arturo Pirovano",
          "Giuseppe de Liguoro",
          "Pier Delle Vigne",
          "Augusto Milla",
          "Attilio Motta",
          "Emilise Beretta"
         ],
         0.0
        ],
        [
         "tt0002199",
         "From the Manger to the Cross or, Jesus of Nazareth",
         "From the Manger to the Cross or, Jesus of Nazareth",
         "1912",
         "1913",
         "Biography, Drama",
         60,
         "USA",
         "English",
         "Sidney Olcott",
         "Gene Gauntier",
         "Kalem Company",
         "R. Henderson Bland, Percy Dyer, Gene Gauntier, Alice Hollister, Samuel Morgan, James D. Ainsley, Robert G. Vignola, George Kellog, J.P. McGowan",
         "An account of the life of Jesus Christ, based on the books of the New Testament: After Jesus' birth is foretold to his parents, he is born in Bethlehem, and is visited by shepherds and wise...",
         "05.lip",
         484,
         "0",
         null,
         null,
         null,
         13.0,
         5.0,
         [
          "R. Henderson Bland",
          "Percy Dyer",
          "Gene Gauntier",
          "Alice Hollister",
          "Samuel Morgan",
          "James D. Ainsley",
          "Robert G. Vignola",
          "George Kellog",
          "J.P. McGowan"
         ],
         0.0
        ],
        [
         "tt0002423",
         "Madame DuBarry",
         "Madame DuBarry",
         "1919",
         "26.11.1919",
         "Biography, Drama, Romance",
         85,
         "Germany",
         "German",
         "Ernst Lubitsch",
         "Norbert Falk, Hanns Kräly",
         "Projektions-AG Union (PAGU)",
         "Pola Negri, Emil Jannings, Harry Liedtke, Eduard von Winterstein, Reinhold Schünzel, Else Berna, Fred Immler, Gustav Czimeg, Karl Platen, Bernhard Goetzke, Magnus Stifter, Paul Biensfeldt, Willy Kaiser-Heyl, Alexander Ekert, Robert Sortsch-Pla",
         "The story of Madame DuBarry, the mistress of Louis XV of France, and her loves in the time of the French revolution.",
         "06.sie",
         753,
         "0",
         null,
         null,
         null,
         12.0,
         9.0,
         [
          "Pola Negri",
          "Emil Jannings",
          "Harry Liedtke",
          "Eduard von Winterstein",
          "Reinhold Schünzel",
          "Else Berna",
          "Fred Immler",
          "Gustav Czimeg",
          "Karl Platen",
          "Bernhard Goetzke",
          "Magnus Stifter",
          "Paul Biensfeldt",
          "Willy Kaiser-Heyl",
          "Alexander Ekert",
          "Robert Sortsch-Pla"
         ],
         0.0
        ],
        [
         "tt0002445",
         "Quo Vadis?",
         "Quo Vadis?",
         "1913",
         "01.03.1913",
         "Drama, History",
         120,
         "Italy",
         "Italian",
         "Enrico Guazzoni",
         "Henryk Sienkiewicz, Enrico Guazzoni",
         "Società Italiana Cines",
         "Amleto Novelli, Gustavo Serena, Carlo Cattaneo, Amelia Cattaneo, Lea Giunchi, Bruto Castellani, Augusto Mastripietri, Cesare Moltini, Olga Brandini, Ignazio Lupi, Giovanni Gizzi, Lia Orlandini, Matilde Guillaume, Ida Carloni Talli, Giuseppe Gambardella",
         "An epic Italian film Quo Vadis influenced many of the later movies.",
         "06.lut",
         273,
         "ITL 45000",
         null,
         null,
         null,
         7.0,
         5.0,
         [
          "Amleto Novelli",
          "Gustavo Serena",
          "Carlo Cattaneo",
          "Amelia Cattaneo",
          "Lea Giunchi",
          "Bruto Castellani",
          "Augusto Mastripietri",
          "Cesare Moltini",
          "Olga Brandini",
          "Ignazio Lupi",
          "Giovanni Gizzi",
          "Lia Orlandini",
          "Matilde Guillaume",
          "Ida Carloni Talli",
          "Giuseppe Gambardella"
         ],
         null
        ],
        [
         "tt0002452",
         "Independenta Romaniei",
         "Independenta Romaniei",
         "1912",
         "01.09.1912",
         "History, War",
         120,
         "Romania",
         null,
         "Aristide Demetriade, Grigore Brezeanu",
         "Aristide Demetriade, Petre Liciu",
         "Societatea Filmului de Arta Leon Popescu",
         "Aristide Demetriade, Constanta Demetriade, Constantin Nottara, Pepi Machauer, Aurel Athanasescu, Jeny Metaxa-Doro, Nicolae Soreanu, Vasile Toneanu, Aristita Romanescu, Elvire Popesco, M. Vîrgolici, C. Nedelcovici, Mihail Tancovici-Cosmin, Ion Dumitrescu, Gheorghe Meliseanu",
         "The movie depicts the Romanian War of Independence (1877-1878).",
         "06.lip",
         198,
         "ROL 400000",
         null,
         null,
         null,
         4.0,
         1.0,
         [
          "Aristide Demetriade",
          "Constanta Demetriade",
          "Constantin Nottara",
          "Pepi Machauer",
          "Aurel Athanasescu",
          "Jeny Metaxa-Doro",
          "Nicolae Soreanu",
          "Vasile Toneanu",
          "Aristita Romanescu",
          "Elvire Popesco",
          "M. Vîrgolici",
          "C. Nedelcovici",
          "Mihail Tancovici-Cosmin",
          "Ion Dumitrescu",
          "Gheorghe Meliseanu"
         ],
         null
        ],
        [
         "tt0002461",
         "Richard III",
         "Richard III",
         "1912",
         "15.10.1912",
         "Drama",
         55,
         "France, USA",
         "English",
         "André Calmettes, James Keane",
         "James Keane, William Shakespeare",
         "Le Film d'Art",
         "Robert Gemp, Frederick Warde, Albert Gardner, James Keane, George Moss, Howard Stuart, Virginia Rankin, Violet Stuart, Carey Lee, Carlotta De Felice",
         "Richard of Gloucester uses manipulation and murder to gain the English throne.",
         "05.maj",
         225,
         "$ 30000",
         null,
         null,
         null,
         8.0,
         1.0,
         [
          "Robert Gemp",
          "Frederick Warde",
          "Albert Gardner",
          "James Keane",
          "George Moss",
          "Howard Stuart",
          "Virginia Rankin",
          "Violet Stuart",
          "Carey Lee",
          "Carlotta De Felice"
         ],
         30000.0
        ]
       ],
       "datasetInfos": [],
       "dbfsResultPath": null,
       "isJsonSchema": true,
       "metadata": {},
       "overflow": false,
       "plotOptions": {
        "customPlotOptions": {},
        "displayType": "table",
        "pivotAggregation": null,
        "pivotColumns": null,
        "xColumns": null,
        "yColumns": null
       },
       "removedWidgets": [],
       "schema": [
        {
         "metadata": "{}",
         "name": "imdb_title_id",
         "type": "\"string\""
        },
        {
         "metadata": "{}",
         "name": "title",
         "type": "\"string\""
        },
        {
         "metadata": "{}",
         "name": "original_title",
         "type": "\"string\""
        },
        {
         "metadata": "{}",
         "name": "year",
         "type": "\"string\""
        },
        {
         "metadata": "{}",
         "name": "date_published",
         "type": "\"string\""
        },
        {
         "metadata": "{}",
         "name": "genre",
         "type": "\"string\""
        },
        {
         "metadata": "{}",
         "name": "duration",
         "type": "\"integer\""
        },
        {
         "metadata": "{}",
         "name": "country",
         "type": "\"string\""
        },
        {
         "metadata": "{}",
         "name": "language",
         "type": "\"string\""
        },
        {
         "metadata": "{}",
         "name": "director",
         "type": "\"string\""
        },
        {
         "metadata": "{}",
         "name": "writer",
         "type": "\"string\""
        },
        {
         "metadata": "{}",
         "name": "production_company",
         "type": "\"string\""
        },
        {
         "metadata": "{}",
         "name": "actors",
         "type": "\"string\""
        },
        {
         "metadata": "{}",
         "name": "description",
         "type": "\"string\""
        },
        {
         "metadata": "{}",
         "name": "avg_vote",
         "type": "\"string\""
        },
        {
         "metadata": "{}",
         "name": "votes",
         "type": "\"integer\""
        },
        {
         "metadata": "{}",
         "name": "budget",
         "type": "\"string\""
        },
        {
         "metadata": "{}",
         "name": "usa_gross_income",
         "type": "\"string\""
        },
        {
         "metadata": "{}",
         "name": "worlwide_gross_income",
         "type": "\"string\""
        },
        {
         "metadata": "{}",
         "name": "metascore",
         "type": "\"double\""
        },
        {
         "metadata": "{}",
         "name": "reviews_from_users",
         "type": "\"double\""
        },
        {
         "metadata": "{}",
         "name": "reviews_from_critics",
         "type": "\"double\""
        },
        {
         "metadata": "{}",
         "name": "actor_list",
         "type": "{\"type\":\"array\",\"elementType\":\"string\",\"containsNull\":false}"
        },
        {
         "metadata": "{}",
         "name": "clean_budget",
         "type": "\"double\""
        }
       ],
       "type": "table"
      }
     },
     "output_type": "display_data"
    }
   ],
   "source": [
    "#regexp_replace usuwa $ , zamienia wartosc na liczbe\n",
    "moviesDf = moviesDf.withColumn(\"clean_budget\", regexp_replace(\"budget\", \"[$,]\", \"\").cast(\"double\"))\n",
    "\n",
    "display(moviesDf.limit(10))"
   ]
  },
  {
   "cell_type": "code",
   "execution_count": 0,
   "metadata": {
    "application/vnd.databricks.v1+cell": {
     "cellMetadata": {
      "byteLimit": 2048000,
      "rowLimit": 10000
     },
     "inputWidgets": {},
     "nuid": "40ffedb8-42a7-4437-a91e-007d1114fd62",
     "showTitle": false,
     "tableResultSettingsMap": {},
     "title": ""
    }
   },
   "outputs": [
    {
     "output_type": "display_data",
     "data": {
      "text/html": [
       "<style scoped>\n",
       "  .table-result-container {\n",
       "    max-height: 300px;\n",
       "    overflow: auto;\n",
       "  }\n",
       "  table, th, td {\n",
       "    border: 1px solid black;\n",
       "    border-collapse: collapse;\n",
       "  }\n",
       "  th, td {\n",
       "    padding: 5px;\n",
       "  }\n",
       "  th {\n",
       "    text-align: left;\n",
       "  }\n",
       "</style><div class='table-result-container'><table class='table-result'><thead style='background-color: white'><tr><th>imdb_title_id</th><th>title</th><th>original_title</th><th>year</th><th>date_published</th><th>genre</th><th>duration</th><th>country</th><th>language</th><th>director</th><th>writer</th><th>production_company</th><th>actors</th><th>description</th><th>avg_vote</th><th>votes</th><th>budget</th><th>usa_gross_income</th><th>worlwide_gross_income</th><th>metascore</th><th>reviews_from_users</th><th>reviews_from_critics</th><th>actor_list</th><th>clean_budget</th><th>published_year</th></tr></thead><tbody><tr><td>tt0000009</td><td>Miss Jerry</td><td>Miss Jerry</td><td>1894</td><td>1894-10-09</td><td>Romance</td><td>45</td><td>USA</td><td>None</td><td>Alexander Black</td><td>Alexander Black</td><td>Alexander Black Photoplays</td><td>Blanche Bayliss, William Courtenay, Chauncey Depew</td><td>The adventures of a female reporter in the 1890s.</td><td>05.wrz</td><td>154</td><td>0</td><td>null</td><td>null</td><td>null</td><td>1.0</td><td>2.0</td><td>List(Blanche Bayliss, William Courtenay, Chauncey Depew)</td><td>0.0</td><td>1894</td></tr><tr><td>tt0000574</td><td>The Story of the Kelly Gang</td><td>The Story of the Kelly Gang</td><td>1906</td><td>26.12.1906</td><td>Biography, Crime, Drama</td><td>70</td><td>Australia</td><td>None</td><td>Charles Tait</td><td>Charles Tait</td><td>J. and N. Tait</td><td>Elizabeth Tait, John Tait, Norman Campbell, Bella Cola, Will Coyne, Sam Crewes, Jack Ennis, John Forde, Vera Linden, Mr. Marshall, Mr. McKenzie, Frank Mills, Ollie Wilson</td><td>True story of notorious Australian outlaw Ned Kelly (1855-80).</td><td>06.sty</td><td>589</td><td>$ 2250</td><td>null</td><td>null</td><td>null</td><td>7.0</td><td>7.0</td><td>List(Elizabeth Tait, John Tait, Norman Campbell, Bella Cola, Will Coyne, Sam Crewes, Jack Ennis, John Forde, Vera Linden, Mr. Marshall, Mr. McKenzie, Frank Mills, Ollie Wilson)</td><td>2250.0</td><td>1906</td></tr><tr><td>tt0001892</td><td>Den sorte drøm</td><td>Den sorte drøm</td><td>1911</td><td>19.08.1911</td><td>Drama</td><td>53</td><td>Germany, Denmark</td><td>null</td><td>Urban Gad</td><td>Urban Gad, Gebhard Schätzler-Perasini</td><td>Fotorama</td><td>Asta Nielsen, Valdemar Psilander, Gunnar Helsengreen, Emil Albes, Hugo Flink, Mary Hagen</td><td>Two men of high rank are both wooing the beautiful and famous equestrian acrobat Stella. While Stella ignores the jeweler Hirsch, she accepts Count von Waldberg's offer to follow her home, ...</td><td>05.sie</td><td>188</td><td>0</td><td>null</td><td>null</td><td>null</td><td>5.0</td><td>2.0</td><td>List(Asta Nielsen, Valdemar Psilander, Gunnar Helsengreen, Emil Albes, Hugo Flink, Mary Hagen)</td><td>0.0</td><td>1911</td></tr><tr><td>tt0002101</td><td>Cleopatra</td><td>Cleopatra</td><td>1912</td><td>13.11.1912</td><td>Drama, History</td><td>100</td><td>USA</td><td>English</td><td>Charles L. Gaskill</td><td>Victorien Sardou</td><td>Helen Gardner Picture Players</td><td>Helen Gardner, Pearl Sindelar, Miss Fielding, Miss Robson, Helene Costello, Charles Sindelar, Mr. Howard, James R. Waite, Mr. Osborne, Harry Knowles, Mr. Paul, Mr. Brady, Mr. Corker</td><td>The fabled queen of Egypt's affair with Roman general Marc Antony is ultimately disastrous for both of them.</td><td>05.lut</td><td>446</td><td>$ 45000</td><td>null</td><td>null</td><td>null</td><td>25.0</td><td>3.0</td><td>List(Helen Gardner, Pearl Sindelar, Miss Fielding, Miss Robson, Helene Costello, Charles Sindelar, Mr. Howard, James R. Waite, Mr. Osborne, Harry Knowles, Mr. Paul, Mr. Brady, Mr. Corker)</td><td>45000.0</td><td>1912</td></tr><tr><td>tt0002130</td><td>L'Inferno</td><td>L'Inferno</td><td>1911</td><td>06.03.1911</td><td>Adventure, Drama, Fantasy</td><td>68</td><td>Italy</td><td>Italian</td><td>Francesco Bertolini, Adolfo Padovan</td><td>Dante Alighieri</td><td>Milano Film</td><td>Salvatore Papa, Arturo Pirovano, Giuseppe de Liguoro, Pier Delle Vigne, Augusto Milla, Attilio Motta, Emilise Beretta</td><td>Loosely adapted from Dante's Divine Comedy and inspired by the illustrations of Gustav Doré the original silent film has been restored and has a new score by Tangerine Dream.</td><td>7.0</td><td>2237</td><td>0</td><td>null</td><td>null</td><td>null</td><td>31.0</td><td>14.0</td><td>List(Salvatore Papa, Arturo Pirovano, Giuseppe de Liguoro, Pier Delle Vigne, Augusto Milla, Attilio Motta, Emilise Beretta)</td><td>0.0</td><td>1911</td></tr><tr><td>tt0002199</td><td>From the Manger to the Cross or, Jesus of Nazareth</td><td>From the Manger to the Cross or, Jesus of Nazareth</td><td>1912</td><td>1913</td><td>Biography, Drama</td><td>60</td><td>USA</td><td>English</td><td>Sidney Olcott</td><td>Gene Gauntier</td><td>Kalem Company</td><td>R. Henderson Bland, Percy Dyer, Gene Gauntier, Alice Hollister, Samuel Morgan, James D. Ainsley, Robert G. Vignola, George Kellog, J.P. McGowan</td><td>An account of the life of Jesus Christ, based on the books of the New Testament: After Jesus' birth is foretold to his parents, he is born in Bethlehem, and is visited by shepherds and wise...</td><td>05.lip</td><td>484</td><td>0</td><td>null</td><td>null</td><td>null</td><td>13.0</td><td>5.0</td><td>List(R. Henderson Bland, Percy Dyer, Gene Gauntier, Alice Hollister, Samuel Morgan, James D. Ainsley, Robert G. Vignola, George Kellog, J.P. McGowan)</td><td>0.0</td><td>1913</td></tr><tr><td>tt0002423</td><td>Madame DuBarry</td><td>Madame DuBarry</td><td>1919</td><td>26.11.1919</td><td>Biography, Drama, Romance</td><td>85</td><td>Germany</td><td>German</td><td>Ernst Lubitsch</td><td>Norbert Falk, Hanns Kräly</td><td>Projektions-AG Union (PAGU)</td><td>Pola Negri, Emil Jannings, Harry Liedtke, Eduard von Winterstein, Reinhold Schünzel, Else Berna, Fred Immler, Gustav Czimeg, Karl Platen, Bernhard Goetzke, Magnus Stifter, Paul Biensfeldt, Willy Kaiser-Heyl, Alexander Ekert, Robert Sortsch-Pla</td><td>The story of Madame DuBarry, the mistress of Louis XV of France, and her loves in the time of the French revolution.</td><td>06.sie</td><td>753</td><td>0</td><td>null</td><td>null</td><td>null</td><td>12.0</td><td>9.0</td><td>List(Pola Negri, Emil Jannings, Harry Liedtke, Eduard von Winterstein, Reinhold Schünzel, Else Berna, Fred Immler, Gustav Czimeg, Karl Platen, Bernhard Goetzke, Magnus Stifter, Paul Biensfeldt, Willy Kaiser-Heyl, Alexander Ekert, Robert Sortsch-Pla)</td><td>0.0</td><td>1919</td></tr><tr><td>tt0002445</td><td>Quo Vadis?</td><td>Quo Vadis?</td><td>1913</td><td>01.03.1913</td><td>Drama, History</td><td>120</td><td>Italy</td><td>Italian</td><td>Enrico Guazzoni</td><td>Henryk Sienkiewicz, Enrico Guazzoni</td><td>Società Italiana Cines</td><td>Amleto Novelli, Gustavo Serena, Carlo Cattaneo, Amelia Cattaneo, Lea Giunchi, Bruto Castellani, Augusto Mastripietri, Cesare Moltini, Olga Brandini, Ignazio Lupi, Giovanni Gizzi, Lia Orlandini, Matilde Guillaume, Ida Carloni Talli, Giuseppe Gambardella</td><td>An epic Italian film Quo Vadis influenced many of the later movies.</td><td>06.lut</td><td>273</td><td>ITL 45000</td><td>null</td><td>null</td><td>null</td><td>7.0</td><td>5.0</td><td>List(Amleto Novelli, Gustavo Serena, Carlo Cattaneo, Amelia Cattaneo, Lea Giunchi, Bruto Castellani, Augusto Mastripietri, Cesare Moltini, Olga Brandini, Ignazio Lupi, Giovanni Gizzi, Lia Orlandini, Matilde Guillaume, Ida Carloni Talli, Giuseppe Gambardella)</td><td>null</td><td>1913</td></tr><tr><td>tt0002452</td><td>Independenta Romaniei</td><td>Independenta Romaniei</td><td>1912</td><td>01.09.1912</td><td>History, War</td><td>120</td><td>Romania</td><td>null</td><td>Aristide Demetriade, Grigore Brezeanu</td><td>Aristide Demetriade, Petre Liciu</td><td>Societatea Filmului de Arta Leon Popescu</td><td>Aristide Demetriade, Constanta Demetriade, Constantin Nottara, Pepi Machauer, Aurel Athanasescu, Jeny Metaxa-Doro, Nicolae Soreanu, Vasile Toneanu, Aristita Romanescu, Elvire Popesco, M. Vîrgolici, C. Nedelcovici, Mihail Tancovici-Cosmin, Ion Dumitrescu, Gheorghe Meliseanu</td><td>The movie depicts the Romanian War of Independence (1877-1878).</td><td>06.lip</td><td>198</td><td>ROL 400000</td><td>null</td><td>null</td><td>null</td><td>4.0</td><td>1.0</td><td>List(Aristide Demetriade, Constanta Demetriade, Constantin Nottara, Pepi Machauer, Aurel Athanasescu, Jeny Metaxa-Doro, Nicolae Soreanu, Vasile Toneanu, Aristita Romanescu, Elvire Popesco, M. Vîrgolici, C. Nedelcovici, Mihail Tancovici-Cosmin, Ion Dumitrescu, Gheorghe Meliseanu)</td><td>null</td><td>1912</td></tr><tr><td>tt0002461</td><td>Richard III</td><td>Richard III</td><td>1912</td><td>15.10.1912</td><td>Drama</td><td>55</td><td>France, USA</td><td>English</td><td>André Calmettes, James Keane</td><td>James Keane, William Shakespeare</td><td>Le Film d'Art</td><td>Robert Gemp, Frederick Warde, Albert Gardner, James Keane, George Moss, Howard Stuart, Virginia Rankin, Violet Stuart, Carey Lee, Carlotta De Felice</td><td>Richard of Gloucester uses manipulation and murder to gain the English throne.</td><td>05.maj</td><td>225</td><td>$ 30000</td><td>null</td><td>null</td><td>null</td><td>8.0</td><td>1.0</td><td>List(Robert Gemp, Frederick Warde, Albert Gardner, James Keane, George Moss, Howard Stuart, Virginia Rankin, Violet Stuart, Carey Lee, Carlotta De Felice)</td><td>30000.0</td><td>1912</td></tr></tbody></table></div>"
      ]
     },
     "metadata": {
      "application/vnd.databricks.v1+output": {
       "addedWidgets": {},
       "aggData": [],
       "aggError": "",
       "aggOverflow": false,
       "aggSchema": [],
       "aggSeriesLimitReached": false,
       "aggType": "",
       "arguments": {},
       "columnCustomDisplayInfos": {},
       "data": [
        [
         "tt0000009",
         "Miss Jerry",
         "Miss Jerry",
         "1894",
         "1894-10-09",
         "Romance",
         45,
         "USA",
         "None",
         "Alexander Black",
         "Alexander Black",
         "Alexander Black Photoplays",
         "Blanche Bayliss, William Courtenay, Chauncey Depew",
         "The adventures of a female reporter in the 1890s.",
         "05.wrz",
         154,
         "0",
         null,
         null,
         null,
         1.0,
         2.0,
         [
          "Blanche Bayliss",
          "William Courtenay",
          "Chauncey Depew"
         ],
         0.0,
         "1894"
        ],
        [
         "tt0000574",
         "The Story of the Kelly Gang",
         "The Story of the Kelly Gang",
         "1906",
         "26.12.1906",
         "Biography, Crime, Drama",
         70,
         "Australia",
         "None",
         "Charles Tait",
         "Charles Tait",
         "J. and N. Tait",
         "Elizabeth Tait, John Tait, Norman Campbell, Bella Cola, Will Coyne, Sam Crewes, Jack Ennis, John Forde, Vera Linden, Mr. Marshall, Mr. McKenzie, Frank Mills, Ollie Wilson",
         "True story of notorious Australian outlaw Ned Kelly (1855-80).",
         "06.sty",
         589,
         "$ 2250",
         null,
         null,
         null,
         7.0,
         7.0,
         [
          "Elizabeth Tait",
          "John Tait",
          "Norman Campbell",
          "Bella Cola",
          "Will Coyne",
          "Sam Crewes",
          "Jack Ennis",
          "John Forde",
          "Vera Linden",
          "Mr. Marshall",
          "Mr. McKenzie",
          "Frank Mills",
          "Ollie Wilson"
         ],
         2250.0,
         "1906"
        ],
        [
         "tt0001892",
         "Den sorte drøm",
         "Den sorte drøm",
         "1911",
         "19.08.1911",
         "Drama",
         53,
         "Germany, Denmark",
         null,
         "Urban Gad",
         "Urban Gad, Gebhard Schätzler-Perasini",
         "Fotorama",
         "Asta Nielsen, Valdemar Psilander, Gunnar Helsengreen, Emil Albes, Hugo Flink, Mary Hagen",
         "Two men of high rank are both wooing the beautiful and famous equestrian acrobat Stella. While Stella ignores the jeweler Hirsch, she accepts Count von Waldberg's offer to follow her home, ...",
         "05.sie",
         188,
         "0",
         null,
         null,
         null,
         5.0,
         2.0,
         [
          "Asta Nielsen",
          "Valdemar Psilander",
          "Gunnar Helsengreen",
          "Emil Albes",
          "Hugo Flink",
          "Mary Hagen"
         ],
         0.0,
         "1911"
        ],
        [
         "tt0002101",
         "Cleopatra",
         "Cleopatra",
         "1912",
         "13.11.1912",
         "Drama, History",
         100,
         "USA",
         "English",
         "Charles L. Gaskill",
         "Victorien Sardou",
         "Helen Gardner Picture Players",
         "Helen Gardner, Pearl Sindelar, Miss Fielding, Miss Robson, Helene Costello, Charles Sindelar, Mr. Howard, James R. Waite, Mr. Osborne, Harry Knowles, Mr. Paul, Mr. Brady, Mr. Corker",
         "The fabled queen of Egypt's affair with Roman general Marc Antony is ultimately disastrous for both of them.",
         "05.lut",
         446,
         "$ 45000",
         null,
         null,
         null,
         25.0,
         3.0,
         [
          "Helen Gardner",
          "Pearl Sindelar",
          "Miss Fielding",
          "Miss Robson",
          "Helene Costello",
          "Charles Sindelar",
          "Mr. Howard",
          "James R. Waite",
          "Mr. Osborne",
          "Harry Knowles",
          "Mr. Paul",
          "Mr. Brady",
          "Mr. Corker"
         ],
         45000.0,
         "1912"
        ],
        [
         "tt0002130",
         "L'Inferno",
         "L'Inferno",
         "1911",
         "06.03.1911",
         "Adventure, Drama, Fantasy",
         68,
         "Italy",
         "Italian",
         "Francesco Bertolini, Adolfo Padovan",
         "Dante Alighieri",
         "Milano Film",
         "Salvatore Papa, Arturo Pirovano, Giuseppe de Liguoro, Pier Delle Vigne, Augusto Milla, Attilio Motta, Emilise Beretta",
         "Loosely adapted from Dante's Divine Comedy and inspired by the illustrations of Gustav Doré the original silent film has been restored and has a new score by Tangerine Dream.",
         "7.0",
         2237,
         "0",
         null,
         null,
         null,
         31.0,
         14.0,
         [
          "Salvatore Papa",
          "Arturo Pirovano",
          "Giuseppe de Liguoro",
          "Pier Delle Vigne",
          "Augusto Milla",
          "Attilio Motta",
          "Emilise Beretta"
         ],
         0.0,
         "1911"
        ],
        [
         "tt0002199",
         "From the Manger to the Cross or, Jesus of Nazareth",
         "From the Manger to the Cross or, Jesus of Nazareth",
         "1912",
         "1913",
         "Biography, Drama",
         60,
         "USA",
         "English",
         "Sidney Olcott",
         "Gene Gauntier",
         "Kalem Company",
         "R. Henderson Bland, Percy Dyer, Gene Gauntier, Alice Hollister, Samuel Morgan, James D. Ainsley, Robert G. Vignola, George Kellog, J.P. McGowan",
         "An account of the life of Jesus Christ, based on the books of the New Testament: After Jesus' birth is foretold to his parents, he is born in Bethlehem, and is visited by shepherds and wise...",
         "05.lip",
         484,
         "0",
         null,
         null,
         null,
         13.0,
         5.0,
         [
          "R. Henderson Bland",
          "Percy Dyer",
          "Gene Gauntier",
          "Alice Hollister",
          "Samuel Morgan",
          "James D. Ainsley",
          "Robert G. Vignola",
          "George Kellog",
          "J.P. McGowan"
         ],
         0.0,
         "1913"
        ],
        [
         "tt0002423",
         "Madame DuBarry",
         "Madame DuBarry",
         "1919",
         "26.11.1919",
         "Biography, Drama, Romance",
         85,
         "Germany",
         "German",
         "Ernst Lubitsch",
         "Norbert Falk, Hanns Kräly",
         "Projektions-AG Union (PAGU)",
         "Pola Negri, Emil Jannings, Harry Liedtke, Eduard von Winterstein, Reinhold Schünzel, Else Berna, Fred Immler, Gustav Czimeg, Karl Platen, Bernhard Goetzke, Magnus Stifter, Paul Biensfeldt, Willy Kaiser-Heyl, Alexander Ekert, Robert Sortsch-Pla",
         "The story of Madame DuBarry, the mistress of Louis XV of France, and her loves in the time of the French revolution.",
         "06.sie",
         753,
         "0",
         null,
         null,
         null,
         12.0,
         9.0,
         [
          "Pola Negri",
          "Emil Jannings",
          "Harry Liedtke",
          "Eduard von Winterstein",
          "Reinhold Schünzel",
          "Else Berna",
          "Fred Immler",
          "Gustav Czimeg",
          "Karl Platen",
          "Bernhard Goetzke",
          "Magnus Stifter",
          "Paul Biensfeldt",
          "Willy Kaiser-Heyl",
          "Alexander Ekert",
          "Robert Sortsch-Pla"
         ],
         0.0,
         "1919"
        ],
        [
         "tt0002445",
         "Quo Vadis?",
         "Quo Vadis?",
         "1913",
         "01.03.1913",
         "Drama, History",
         120,
         "Italy",
         "Italian",
         "Enrico Guazzoni",
         "Henryk Sienkiewicz, Enrico Guazzoni",
         "Società Italiana Cines",
         "Amleto Novelli, Gustavo Serena, Carlo Cattaneo, Amelia Cattaneo, Lea Giunchi, Bruto Castellani, Augusto Mastripietri, Cesare Moltini, Olga Brandini, Ignazio Lupi, Giovanni Gizzi, Lia Orlandini, Matilde Guillaume, Ida Carloni Talli, Giuseppe Gambardella",
         "An epic Italian film Quo Vadis influenced many of the later movies.",
         "06.lut",
         273,
         "ITL 45000",
         null,
         null,
         null,
         7.0,
         5.0,
         [
          "Amleto Novelli",
          "Gustavo Serena",
          "Carlo Cattaneo",
          "Amelia Cattaneo",
          "Lea Giunchi",
          "Bruto Castellani",
          "Augusto Mastripietri",
          "Cesare Moltini",
          "Olga Brandini",
          "Ignazio Lupi",
          "Giovanni Gizzi",
          "Lia Orlandini",
          "Matilde Guillaume",
          "Ida Carloni Talli",
          "Giuseppe Gambardella"
         ],
         null,
         "1913"
        ],
        [
         "tt0002452",
         "Independenta Romaniei",
         "Independenta Romaniei",
         "1912",
         "01.09.1912",
         "History, War",
         120,
         "Romania",
         null,
         "Aristide Demetriade, Grigore Brezeanu",
         "Aristide Demetriade, Petre Liciu",
         "Societatea Filmului de Arta Leon Popescu",
         "Aristide Demetriade, Constanta Demetriade, Constantin Nottara, Pepi Machauer, Aurel Athanasescu, Jeny Metaxa-Doro, Nicolae Soreanu, Vasile Toneanu, Aristita Romanescu, Elvire Popesco, M. Vîrgolici, C. Nedelcovici, Mihail Tancovici-Cosmin, Ion Dumitrescu, Gheorghe Meliseanu",
         "The movie depicts the Romanian War of Independence (1877-1878).",
         "06.lip",
         198,
         "ROL 400000",
         null,
         null,
         null,
         4.0,
         1.0,
         [
          "Aristide Demetriade",
          "Constanta Demetriade",
          "Constantin Nottara",
          "Pepi Machauer",
          "Aurel Athanasescu",
          "Jeny Metaxa-Doro",
          "Nicolae Soreanu",
          "Vasile Toneanu",
          "Aristita Romanescu",
          "Elvire Popesco",
          "M. Vîrgolici",
          "C. Nedelcovici",
          "Mihail Tancovici-Cosmin",
          "Ion Dumitrescu",
          "Gheorghe Meliseanu"
         ],
         null,
         "1912"
        ],
        [
         "tt0002461",
         "Richard III",
         "Richard III",
         "1912",
         "15.10.1912",
         "Drama",
         55,
         "France, USA",
         "English",
         "André Calmettes, James Keane",
         "James Keane, William Shakespeare",
         "Le Film d'Art",
         "Robert Gemp, Frederick Warde, Albert Gardner, James Keane, George Moss, Howard Stuart, Virginia Rankin, Violet Stuart, Carey Lee, Carlotta De Felice",
         "Richard of Gloucester uses manipulation and murder to gain the English throne.",
         "05.maj",
         225,
         "$ 30000",
         null,
         null,
         null,
         8.0,
         1.0,
         [
          "Robert Gemp",
          "Frederick Warde",
          "Albert Gardner",
          "James Keane",
          "George Moss",
          "Howard Stuart",
          "Virginia Rankin",
          "Violet Stuart",
          "Carey Lee",
          "Carlotta De Felice"
         ],
         30000.0,
         "1912"
        ]
       ],
       "datasetInfos": [],
       "dbfsResultPath": null,
       "isJsonSchema": true,
       "metadata": {},
       "overflow": false,
       "plotOptions": {
        "customPlotOptions": {},
        "displayType": "table",
        "pivotAggregation": null,
        "pivotColumns": null,
        "xColumns": null,
        "yColumns": null
       },
       "removedWidgets": [],
       "schema": [
        {
         "metadata": "{}",
         "name": "imdb_title_id",
         "type": "\"string\""
        },
        {
         "metadata": "{}",
         "name": "title",
         "type": "\"string\""
        },
        {
         "metadata": "{}",
         "name": "original_title",
         "type": "\"string\""
        },
        {
         "metadata": "{}",
         "name": "year",
         "type": "\"string\""
        },
        {
         "metadata": "{}",
         "name": "date_published",
         "type": "\"string\""
        },
        {
         "metadata": "{}",
         "name": "genre",
         "type": "\"string\""
        },
        {
         "metadata": "{}",
         "name": "duration",
         "type": "\"integer\""
        },
        {
         "metadata": "{}",
         "name": "country",
         "type": "\"string\""
        },
        {
         "metadata": "{}",
         "name": "language",
         "type": "\"string\""
        },
        {
         "metadata": "{}",
         "name": "director",
         "type": "\"string\""
        },
        {
         "metadata": "{}",
         "name": "writer",
         "type": "\"string\""
        },
        {
         "metadata": "{}",
         "name": "production_company",
         "type": "\"string\""
        },
        {
         "metadata": "{}",
         "name": "actors",
         "type": "\"string\""
        },
        {
         "metadata": "{}",
         "name": "description",
         "type": "\"string\""
        },
        {
         "metadata": "{}",
         "name": "avg_vote",
         "type": "\"string\""
        },
        {
         "metadata": "{}",
         "name": "votes",
         "type": "\"integer\""
        },
        {
         "metadata": "{}",
         "name": "budget",
         "type": "\"string\""
        },
        {
         "metadata": "{}",
         "name": "usa_gross_income",
         "type": "\"string\""
        },
        {
         "metadata": "{}",
         "name": "worlwide_gross_income",
         "type": "\"string\""
        },
        {
         "metadata": "{}",
         "name": "metascore",
         "type": "\"double\""
        },
        {
         "metadata": "{}",
         "name": "reviews_from_users",
         "type": "\"double\""
        },
        {
         "metadata": "{}",
         "name": "reviews_from_critics",
         "type": "\"double\""
        },
        {
         "metadata": "{}",
         "name": "actor_list",
         "type": "{\"type\":\"array\",\"elementType\":\"string\",\"containsNull\":false}"
        },
        {
         "metadata": "{}",
         "name": "clean_budget",
         "type": "\"double\""
        },
        {
         "metadata": "{}",
         "name": "published_year",
         "type": "\"string\""
        }
       ],
       "type": "table"
      }
     },
     "output_type": "display_data"
    }
   ],
   "source": [
    "#regexp_extract wyciaga rok z daty publikacji\n",
    "moviesDf = moviesDf.withColumn(\"published_year\", regexp_extract(\"date_published\", r\"(\\d{4})\", 1))\n",
    "\n",
    "display(moviesDf.limit(10))"
   ]
  },
  {
   "cell_type": "code",
   "execution_count": 0,
   "metadata": {
    "application/vnd.databricks.v1+cell": {
     "cellMetadata": {
      "byteLimit": 2048000,
      "rowLimit": 10000
     },
     "inputWidgets": {},
     "nuid": "e04980e2-51a7-4cac-aa65-7072af4bdc27",
     "showTitle": false,
     "tableResultSettingsMap": {},
     "title": ""
    }
   },
   "outputs": [
    {
     "output_type": "display_data",
     "data": {
      "text/html": [
       "<style scoped>\n",
       "  .table-result-container {\n",
       "    max-height: 300px;\n",
       "    overflow: auto;\n",
       "  }\n",
       "  table, th, td {\n",
       "    border: 1px solid black;\n",
       "    border-collapse: collapse;\n",
       "  }\n",
       "  th, td {\n",
       "    padding: 5px;\n",
       "  }\n",
       "  th {\n",
       "    text-align: left;\n",
       "  }\n",
       "</style><div class='table-result-container'><table class='table-result'><thead style='background-color: white'><tr><th>imdb_title_id</th><th>title</th><th>original_title</th><th>year</th><th>date_published</th><th>genre</th><th>duration</th><th>country</th><th>language</th><th>director</th><th>writer</th><th>production_company</th><th>actors</th><th>description</th><th>avg_vote</th><th>votes</th><th>budget</th><th>usa_gross_income</th><th>worlwide_gross_income</th><th>metascore</th><th>reviews_from_users</th><th>reviews_from_critics</th><th>actor_list</th><th>clean_budget</th><th>published_year</th><th>metascore_fallback</th></tr></thead><tbody><tr><td>tt0000009</td><td>Miss Jerry</td><td>Miss Jerry</td><td>1894</td><td>1894-10-09</td><td>Romance</td><td>45</td><td>USA</td><td>None</td><td>Alexander Black</td><td>Alexander Black</td><td>Alexander Black Photoplays</td><td>Blanche Bayliss, William Courtenay, Chauncey Depew</td><td>The adventures of a female reporter in the 1890s.</td><td>05.wrz</td><td>154</td><td>0</td><td>null</td><td>null</td><td>null</td><td>1.0</td><td>2.0</td><td>List(Blanche Bayliss, William Courtenay, Chauncey Depew)</td><td>0.0</td><td>1894</td><td>20.0</td></tr><tr><td>tt0000574</td><td>The Story of the Kelly Gang</td><td>The Story of the Kelly Gang</td><td>1906</td><td>26.12.1906</td><td>Biography, Crime, Drama</td><td>70</td><td>Australia</td><td>None</td><td>Charles Tait</td><td>Charles Tait</td><td>J. and N. Tait</td><td>Elizabeth Tait, John Tait, Norman Campbell, Bella Cola, Will Coyne, Sam Crewes, Jack Ennis, John Forde, Vera Linden, Mr. Marshall, Mr. McKenzie, Frank Mills, Ollie Wilson</td><td>True story of notorious Australian outlaw Ned Kelly (1855-80).</td><td>06.sty</td><td>589</td><td>$ 2250</td><td>null</td><td>null</td><td>null</td><td>7.0</td><td>7.0</td><td>List(Elizabeth Tait, John Tait, Norman Campbell, Bella Cola, Will Coyne, Sam Crewes, Jack Ennis, John Forde, Vera Linden, Mr. Marshall, Mr. McKenzie, Frank Mills, Ollie Wilson)</td><td>2250.0</td><td>1906</td><td>20.0</td></tr><tr><td>tt0001892</td><td>Den sorte drøm</td><td>Den sorte drøm</td><td>1911</td><td>19.08.1911</td><td>Drama</td><td>53</td><td>Germany, Denmark</td><td>null</td><td>Urban Gad</td><td>Urban Gad, Gebhard Schätzler-Perasini</td><td>Fotorama</td><td>Asta Nielsen, Valdemar Psilander, Gunnar Helsengreen, Emil Albes, Hugo Flink, Mary Hagen</td><td>Two men of high rank are both wooing the beautiful and famous equestrian acrobat Stella. While Stella ignores the jeweler Hirsch, she accepts Count von Waldberg's offer to follow her home, ...</td><td>05.sie</td><td>188</td><td>0</td><td>null</td><td>null</td><td>null</td><td>5.0</td><td>2.0</td><td>List(Asta Nielsen, Valdemar Psilander, Gunnar Helsengreen, Emil Albes, Hugo Flink, Mary Hagen)</td><td>0.0</td><td>1911</td><td>20.0</td></tr><tr><td>tt0002101</td><td>Cleopatra</td><td>Cleopatra</td><td>1912</td><td>13.11.1912</td><td>Drama, History</td><td>100</td><td>USA</td><td>English</td><td>Charles L. Gaskill</td><td>Victorien Sardou</td><td>Helen Gardner Picture Players</td><td>Helen Gardner, Pearl Sindelar, Miss Fielding, Miss Robson, Helene Costello, Charles Sindelar, Mr. Howard, James R. Waite, Mr. Osborne, Harry Knowles, Mr. Paul, Mr. Brady, Mr. Corker</td><td>The fabled queen of Egypt's affair with Roman general Marc Antony is ultimately disastrous for both of them.</td><td>05.lut</td><td>446</td><td>$ 45000</td><td>null</td><td>null</td><td>null</td><td>25.0</td><td>3.0</td><td>List(Helen Gardner, Pearl Sindelar, Miss Fielding, Miss Robson, Helene Costello, Charles Sindelar, Mr. Howard, James R. Waite, Mr. Osborne, Harry Knowles, Mr. Paul, Mr. Brady, Mr. Corker)</td><td>45000.0</td><td>1912</td><td>20.0</td></tr><tr><td>tt0002130</td><td>L'Inferno</td><td>L'Inferno</td><td>1911</td><td>06.03.1911</td><td>Adventure, Drama, Fantasy</td><td>68</td><td>Italy</td><td>Italian</td><td>Francesco Bertolini, Adolfo Padovan</td><td>Dante Alighieri</td><td>Milano Film</td><td>Salvatore Papa, Arturo Pirovano, Giuseppe de Liguoro, Pier Delle Vigne, Augusto Milla, Attilio Motta, Emilise Beretta</td><td>Loosely adapted from Dante's Divine Comedy and inspired by the illustrations of Gustav Doré the original silent film has been restored and has a new score by Tangerine Dream.</td><td>7.0</td><td>2237</td><td>0</td><td>null</td><td>null</td><td>null</td><td>31.0</td><td>14.0</td><td>List(Salvatore Papa, Arturo Pirovano, Giuseppe de Liguoro, Pier Delle Vigne, Augusto Milla, Attilio Motta, Emilise Beretta)</td><td>0.0</td><td>1911</td><td>20.0</td></tr><tr><td>tt0002199</td><td>From the Manger to the Cross or, Jesus of Nazareth</td><td>From the Manger to the Cross or, Jesus of Nazareth</td><td>1912</td><td>1913</td><td>Biography, Drama</td><td>60</td><td>USA</td><td>English</td><td>Sidney Olcott</td><td>Gene Gauntier</td><td>Kalem Company</td><td>R. Henderson Bland, Percy Dyer, Gene Gauntier, Alice Hollister, Samuel Morgan, James D. Ainsley, Robert G. Vignola, George Kellog, J.P. McGowan</td><td>An account of the life of Jesus Christ, based on the books of the New Testament: After Jesus' birth is foretold to his parents, he is born in Bethlehem, and is visited by shepherds and wise...</td><td>05.lip</td><td>484</td><td>0</td><td>null</td><td>null</td><td>null</td><td>13.0</td><td>5.0</td><td>List(R. Henderson Bland, Percy Dyer, Gene Gauntier, Alice Hollister, Samuel Morgan, James D. Ainsley, Robert G. Vignola, George Kellog, J.P. McGowan)</td><td>0.0</td><td>1913</td><td>20.0</td></tr><tr><td>tt0002423</td><td>Madame DuBarry</td><td>Madame DuBarry</td><td>1919</td><td>26.11.1919</td><td>Biography, Drama, Romance</td><td>85</td><td>Germany</td><td>German</td><td>Ernst Lubitsch</td><td>Norbert Falk, Hanns Kräly</td><td>Projektions-AG Union (PAGU)</td><td>Pola Negri, Emil Jannings, Harry Liedtke, Eduard von Winterstein, Reinhold Schünzel, Else Berna, Fred Immler, Gustav Czimeg, Karl Platen, Bernhard Goetzke, Magnus Stifter, Paul Biensfeldt, Willy Kaiser-Heyl, Alexander Ekert, Robert Sortsch-Pla</td><td>The story of Madame DuBarry, the mistress of Louis XV of France, and her loves in the time of the French revolution.</td><td>06.sie</td><td>753</td><td>0</td><td>null</td><td>null</td><td>null</td><td>12.0</td><td>9.0</td><td>List(Pola Negri, Emil Jannings, Harry Liedtke, Eduard von Winterstein, Reinhold Schünzel, Else Berna, Fred Immler, Gustav Czimeg, Karl Platen, Bernhard Goetzke, Magnus Stifter, Paul Biensfeldt, Willy Kaiser-Heyl, Alexander Ekert, Robert Sortsch-Pla)</td><td>0.0</td><td>1919</td><td>20.0</td></tr><tr><td>tt0002445</td><td>Quo Vadis?</td><td>Quo Vadis?</td><td>1913</td><td>01.03.1913</td><td>Drama, History</td><td>120</td><td>Italy</td><td>Italian</td><td>Enrico Guazzoni</td><td>Henryk Sienkiewicz, Enrico Guazzoni</td><td>Società Italiana Cines</td><td>Amleto Novelli, Gustavo Serena, Carlo Cattaneo, Amelia Cattaneo, Lea Giunchi, Bruto Castellani, Augusto Mastripietri, Cesare Moltini, Olga Brandini, Ignazio Lupi, Giovanni Gizzi, Lia Orlandini, Matilde Guillaume, Ida Carloni Talli, Giuseppe Gambardella</td><td>An epic Italian film Quo Vadis influenced many of the later movies.</td><td>06.lut</td><td>273</td><td>ITL 45000</td><td>null</td><td>null</td><td>null</td><td>7.0</td><td>5.0</td><td>List(Amleto Novelli, Gustavo Serena, Carlo Cattaneo, Amelia Cattaneo, Lea Giunchi, Bruto Castellani, Augusto Mastripietri, Cesare Moltini, Olga Brandini, Ignazio Lupi, Giovanni Gizzi, Lia Orlandini, Matilde Guillaume, Ida Carloni Talli, Giuseppe Gambardella)</td><td>null</td><td>1913</td><td>20.0</td></tr><tr><td>tt0002452</td><td>Independenta Romaniei</td><td>Independenta Romaniei</td><td>1912</td><td>01.09.1912</td><td>History, War</td><td>120</td><td>Romania</td><td>null</td><td>Aristide Demetriade, Grigore Brezeanu</td><td>Aristide Demetriade, Petre Liciu</td><td>Societatea Filmului de Arta Leon Popescu</td><td>Aristide Demetriade, Constanta Demetriade, Constantin Nottara, Pepi Machauer, Aurel Athanasescu, Jeny Metaxa-Doro, Nicolae Soreanu, Vasile Toneanu, Aristita Romanescu, Elvire Popesco, M. Vîrgolici, C. Nedelcovici, Mihail Tancovici-Cosmin, Ion Dumitrescu, Gheorghe Meliseanu</td><td>The movie depicts the Romanian War of Independence (1877-1878).</td><td>06.lip</td><td>198</td><td>ROL 400000</td><td>null</td><td>null</td><td>null</td><td>4.0</td><td>1.0</td><td>List(Aristide Demetriade, Constanta Demetriade, Constantin Nottara, Pepi Machauer, Aurel Athanasescu, Jeny Metaxa-Doro, Nicolae Soreanu, Vasile Toneanu, Aristita Romanescu, Elvire Popesco, M. Vîrgolici, C. Nedelcovici, Mihail Tancovici-Cosmin, Ion Dumitrescu, Gheorghe Meliseanu)</td><td>null</td><td>1912</td><td>20.0</td></tr><tr><td>tt0002461</td><td>Richard III</td><td>Richard III</td><td>1912</td><td>15.10.1912</td><td>Drama</td><td>55</td><td>France, USA</td><td>English</td><td>André Calmettes, James Keane</td><td>James Keane, William Shakespeare</td><td>Le Film d'Art</td><td>Robert Gemp, Frederick Warde, Albert Gardner, James Keane, George Moss, Howard Stuart, Virginia Rankin, Violet Stuart, Carey Lee, Carlotta De Felice</td><td>Richard of Gloucester uses manipulation and murder to gain the English throne.</td><td>05.maj</td><td>225</td><td>$ 30000</td><td>null</td><td>null</td><td>null</td><td>8.0</td><td>1.0</td><td>List(Robert Gemp, Frederick Warde, Albert Gardner, James Keane, George Moss, Howard Stuart, Virginia Rankin, Violet Stuart, Carey Lee, Carlotta De Felice)</td><td>30000.0</td><td>1912</td><td>20.0</td></tr></tbody></table></div>"
      ]
     },
     "metadata": {
      "application/vnd.databricks.v1+output": {
       "addedWidgets": {},
       "aggData": [],
       "aggError": "",
       "aggOverflow": false,
       "aggSchema": [],
       "aggSeriesLimitReached": false,
       "aggType": "",
       "arguments": {},
       "columnCustomDisplayInfos": {},
       "data": [
        [
         "tt0000009",
         "Miss Jerry",
         "Miss Jerry",
         "1894",
         "1894-10-09",
         "Romance",
         45,
         "USA",
         "None",
         "Alexander Black",
         "Alexander Black",
         "Alexander Black Photoplays",
         "Blanche Bayliss, William Courtenay, Chauncey Depew",
         "The adventures of a female reporter in the 1890s.",
         "05.wrz",
         154,
         "0",
         null,
         null,
         null,
         1.0,
         2.0,
         [
          "Blanche Bayliss",
          "William Courtenay",
          "Chauncey Depew"
         ],
         0.0,
         "1894",
         20.0
        ],
        [
         "tt0000574",
         "The Story of the Kelly Gang",
         "The Story of the Kelly Gang",
         "1906",
         "26.12.1906",
         "Biography, Crime, Drama",
         70,
         "Australia",
         "None",
         "Charles Tait",
         "Charles Tait",
         "J. and N. Tait",
         "Elizabeth Tait, John Tait, Norman Campbell, Bella Cola, Will Coyne, Sam Crewes, Jack Ennis, John Forde, Vera Linden, Mr. Marshall, Mr. McKenzie, Frank Mills, Ollie Wilson",
         "True story of notorious Australian outlaw Ned Kelly (1855-80).",
         "06.sty",
         589,
         "$ 2250",
         null,
         null,
         null,
         7.0,
         7.0,
         [
          "Elizabeth Tait",
          "John Tait",
          "Norman Campbell",
          "Bella Cola",
          "Will Coyne",
          "Sam Crewes",
          "Jack Ennis",
          "John Forde",
          "Vera Linden",
          "Mr. Marshall",
          "Mr. McKenzie",
          "Frank Mills",
          "Ollie Wilson"
         ],
         2250.0,
         "1906",
         20.0
        ],
        [
         "tt0001892",
         "Den sorte drøm",
         "Den sorte drøm",
         "1911",
         "19.08.1911",
         "Drama",
         53,
         "Germany, Denmark",
         null,
         "Urban Gad",
         "Urban Gad, Gebhard Schätzler-Perasini",
         "Fotorama",
         "Asta Nielsen, Valdemar Psilander, Gunnar Helsengreen, Emil Albes, Hugo Flink, Mary Hagen",
         "Two men of high rank are both wooing the beautiful and famous equestrian acrobat Stella. While Stella ignores the jeweler Hirsch, she accepts Count von Waldberg's offer to follow her home, ...",
         "05.sie",
         188,
         "0",
         null,
         null,
         null,
         5.0,
         2.0,
         [
          "Asta Nielsen",
          "Valdemar Psilander",
          "Gunnar Helsengreen",
          "Emil Albes",
          "Hugo Flink",
          "Mary Hagen"
         ],
         0.0,
         "1911",
         20.0
        ],
        [
         "tt0002101",
         "Cleopatra",
         "Cleopatra",
         "1912",
         "13.11.1912",
         "Drama, History",
         100,
         "USA",
         "English",
         "Charles L. Gaskill",
         "Victorien Sardou",
         "Helen Gardner Picture Players",
         "Helen Gardner, Pearl Sindelar, Miss Fielding, Miss Robson, Helene Costello, Charles Sindelar, Mr. Howard, James R. Waite, Mr. Osborne, Harry Knowles, Mr. Paul, Mr. Brady, Mr. Corker",
         "The fabled queen of Egypt's affair with Roman general Marc Antony is ultimately disastrous for both of them.",
         "05.lut",
         446,
         "$ 45000",
         null,
         null,
         null,
         25.0,
         3.0,
         [
          "Helen Gardner",
          "Pearl Sindelar",
          "Miss Fielding",
          "Miss Robson",
          "Helene Costello",
          "Charles Sindelar",
          "Mr. Howard",
          "James R. Waite",
          "Mr. Osborne",
          "Harry Knowles",
          "Mr. Paul",
          "Mr. Brady",
          "Mr. Corker"
         ],
         45000.0,
         "1912",
         20.0
        ],
        [
         "tt0002130",
         "L'Inferno",
         "L'Inferno",
         "1911",
         "06.03.1911",
         "Adventure, Drama, Fantasy",
         68,
         "Italy",
         "Italian",
         "Francesco Bertolini, Adolfo Padovan",
         "Dante Alighieri",
         "Milano Film",
         "Salvatore Papa, Arturo Pirovano, Giuseppe de Liguoro, Pier Delle Vigne, Augusto Milla, Attilio Motta, Emilise Beretta",
         "Loosely adapted from Dante's Divine Comedy and inspired by the illustrations of Gustav Doré the original silent film has been restored and has a new score by Tangerine Dream.",
         "7.0",
         2237,
         "0",
         null,
         null,
         null,
         31.0,
         14.0,
         [
          "Salvatore Papa",
          "Arturo Pirovano",
          "Giuseppe de Liguoro",
          "Pier Delle Vigne",
          "Augusto Milla",
          "Attilio Motta",
          "Emilise Beretta"
         ],
         0.0,
         "1911",
         20.0
        ],
        [
         "tt0002199",
         "From the Manger to the Cross or, Jesus of Nazareth",
         "From the Manger to the Cross or, Jesus of Nazareth",
         "1912",
         "1913",
         "Biography, Drama",
         60,
         "USA",
         "English",
         "Sidney Olcott",
         "Gene Gauntier",
         "Kalem Company",
         "R. Henderson Bland, Percy Dyer, Gene Gauntier, Alice Hollister, Samuel Morgan, James D. Ainsley, Robert G. Vignola, George Kellog, J.P. McGowan",
         "An account of the life of Jesus Christ, based on the books of the New Testament: After Jesus' birth is foretold to his parents, he is born in Bethlehem, and is visited by shepherds and wise...",
         "05.lip",
         484,
         "0",
         null,
         null,
         null,
         13.0,
         5.0,
         [
          "R. Henderson Bland",
          "Percy Dyer",
          "Gene Gauntier",
          "Alice Hollister",
          "Samuel Morgan",
          "James D. Ainsley",
          "Robert G. Vignola",
          "George Kellog",
          "J.P. McGowan"
         ],
         0.0,
         "1913",
         20.0
        ],
        [
         "tt0002423",
         "Madame DuBarry",
         "Madame DuBarry",
         "1919",
         "26.11.1919",
         "Biography, Drama, Romance",
         85,
         "Germany",
         "German",
         "Ernst Lubitsch",
         "Norbert Falk, Hanns Kräly",
         "Projektions-AG Union (PAGU)",
         "Pola Negri, Emil Jannings, Harry Liedtke, Eduard von Winterstein, Reinhold Schünzel, Else Berna, Fred Immler, Gustav Czimeg, Karl Platen, Bernhard Goetzke, Magnus Stifter, Paul Biensfeldt, Willy Kaiser-Heyl, Alexander Ekert, Robert Sortsch-Pla",
         "The story of Madame DuBarry, the mistress of Louis XV of France, and her loves in the time of the French revolution.",
         "06.sie",
         753,
         "0",
         null,
         null,
         null,
         12.0,
         9.0,
         [
          "Pola Negri",
          "Emil Jannings",
          "Harry Liedtke",
          "Eduard von Winterstein",
          "Reinhold Schünzel",
          "Else Berna",
          "Fred Immler",
          "Gustav Czimeg",
          "Karl Platen",
          "Bernhard Goetzke",
          "Magnus Stifter",
          "Paul Biensfeldt",
          "Willy Kaiser-Heyl",
          "Alexander Ekert",
          "Robert Sortsch-Pla"
         ],
         0.0,
         "1919",
         20.0
        ],
        [
         "tt0002445",
         "Quo Vadis?",
         "Quo Vadis?",
         "1913",
         "01.03.1913",
         "Drama, History",
         120,
         "Italy",
         "Italian",
         "Enrico Guazzoni",
         "Henryk Sienkiewicz, Enrico Guazzoni",
         "Società Italiana Cines",
         "Amleto Novelli, Gustavo Serena, Carlo Cattaneo, Amelia Cattaneo, Lea Giunchi, Bruto Castellani, Augusto Mastripietri, Cesare Moltini, Olga Brandini, Ignazio Lupi, Giovanni Gizzi, Lia Orlandini, Matilde Guillaume, Ida Carloni Talli, Giuseppe Gambardella",
         "An epic Italian film Quo Vadis influenced many of the later movies.",
         "06.lut",
         273,
         "ITL 45000",
         null,
         null,
         null,
         7.0,
         5.0,
         [
          "Amleto Novelli",
          "Gustavo Serena",
          "Carlo Cattaneo",
          "Amelia Cattaneo",
          "Lea Giunchi",
          "Bruto Castellani",
          "Augusto Mastripietri",
          "Cesare Moltini",
          "Olga Brandini",
          "Ignazio Lupi",
          "Giovanni Gizzi",
          "Lia Orlandini",
          "Matilde Guillaume",
          "Ida Carloni Talli",
          "Giuseppe Gambardella"
         ],
         null,
         "1913",
         20.0
        ],
        [
         "tt0002452",
         "Independenta Romaniei",
         "Independenta Romaniei",
         "1912",
         "01.09.1912",
         "History, War",
         120,
         "Romania",
         null,
         "Aristide Demetriade, Grigore Brezeanu",
         "Aristide Demetriade, Petre Liciu",
         "Societatea Filmului de Arta Leon Popescu",
         "Aristide Demetriade, Constanta Demetriade, Constantin Nottara, Pepi Machauer, Aurel Athanasescu, Jeny Metaxa-Doro, Nicolae Soreanu, Vasile Toneanu, Aristita Romanescu, Elvire Popesco, M. Vîrgolici, C. Nedelcovici, Mihail Tancovici-Cosmin, Ion Dumitrescu, Gheorghe Meliseanu",
         "The movie depicts the Romanian War of Independence (1877-1878).",
         "06.lip",
         198,
         "ROL 400000",
         null,
         null,
         null,
         4.0,
         1.0,
         [
          "Aristide Demetriade",
          "Constanta Demetriade",
          "Constantin Nottara",
          "Pepi Machauer",
          "Aurel Athanasescu",
          "Jeny Metaxa-Doro",
          "Nicolae Soreanu",
          "Vasile Toneanu",
          "Aristita Romanescu",
          "Elvire Popesco",
          "M. Vîrgolici",
          "C. Nedelcovici",
          "Mihail Tancovici-Cosmin",
          "Ion Dumitrescu",
          "Gheorghe Meliseanu"
         ],
         null,
         "1912",
         20.0
        ],
        [
         "tt0002461",
         "Richard III",
         "Richard III",
         "1912",
         "15.10.1912",
         "Drama",
         55,
         "France, USA",
         "English",
         "André Calmettes, James Keane",
         "James Keane, William Shakespeare",
         "Le Film d'Art",
         "Robert Gemp, Frederick Warde, Albert Gardner, James Keane, George Moss, Howard Stuart, Virginia Rankin, Violet Stuart, Carey Lee, Carlotta De Felice",
         "Richard of Gloucester uses manipulation and murder to gain the English throne.",
         "05.maj",
         225,
         "$ 30000",
         null,
         null,
         null,
         8.0,
         1.0,
         [
          "Robert Gemp",
          "Frederick Warde",
          "Albert Gardner",
          "James Keane",
          "George Moss",
          "Howard Stuart",
          "Virginia Rankin",
          "Violet Stuart",
          "Carey Lee",
          "Carlotta De Felice"
         ],
         30000.0,
         "1912",
         20.0
        ]
       ],
       "datasetInfos": [],
       "dbfsResultPath": null,
       "isJsonSchema": true,
       "metadata": {},
       "overflow": false,
       "plotOptions": {
        "customPlotOptions": {},
        "displayType": "table",
        "pivotAggregation": null,
        "pivotColumns": null,
        "xColumns": null,
        "yColumns": null
       },
       "removedWidgets": [],
       "schema": [
        {
         "metadata": "{}",
         "name": "imdb_title_id",
         "type": "\"string\""
        },
        {
         "metadata": "{}",
         "name": "title",
         "type": "\"string\""
        },
        {
         "metadata": "{}",
         "name": "original_title",
         "type": "\"string\""
        },
        {
         "metadata": "{}",
         "name": "year",
         "type": "\"string\""
        },
        {
         "metadata": "{}",
         "name": "date_published",
         "type": "\"string\""
        },
        {
         "metadata": "{}",
         "name": "genre",
         "type": "\"string\""
        },
        {
         "metadata": "{}",
         "name": "duration",
         "type": "\"integer\""
        },
        {
         "metadata": "{}",
         "name": "country",
         "type": "\"string\""
        },
        {
         "metadata": "{}",
         "name": "language",
         "type": "\"string\""
        },
        {
         "metadata": "{}",
         "name": "director",
         "type": "\"string\""
        },
        {
         "metadata": "{}",
         "name": "writer",
         "type": "\"string\""
        },
        {
         "metadata": "{}",
         "name": "production_company",
         "type": "\"string\""
        },
        {
         "metadata": "{}",
         "name": "actors",
         "type": "\"string\""
        },
        {
         "metadata": "{}",
         "name": "description",
         "type": "\"string\""
        },
        {
         "metadata": "{}",
         "name": "avg_vote",
         "type": "\"string\""
        },
        {
         "metadata": "{}",
         "name": "votes",
         "type": "\"integer\""
        },
        {
         "metadata": "{}",
         "name": "budget",
         "type": "\"string\""
        },
        {
         "metadata": "{}",
         "name": "usa_gross_income",
         "type": "\"string\""
        },
        {
         "metadata": "{}",
         "name": "worlwide_gross_income",
         "type": "\"string\""
        },
        {
         "metadata": "{}",
         "name": "metascore",
         "type": "\"double\""
        },
        {
         "metadata": "{}",
         "name": "reviews_from_users",
         "type": "\"double\""
        },
        {
         "metadata": "{}",
         "name": "reviews_from_critics",
         "type": "\"double\""
        },
        {
         "metadata": "{}",
         "name": "actor_list",
         "type": "{\"type\":\"array\",\"elementType\":\"string\",\"containsNull\":false}"
        },
        {
         "metadata": "{}",
         "name": "clean_budget",
         "type": "\"double\""
        },
        {
         "metadata": "{}",
         "name": "published_year",
         "type": "\"string\""
        },
        {
         "metadata": "{}",
         "name": "metascore_fallback",
         "type": "\"double\""
        }
       ],
       "type": "table"
      }
     },
     "output_type": "display_data"
    }
   ],
   "source": [
    "#ifnull -> w pyspark to coalesce; tam gdzie na ustawia 20\n",
    "moviesDf = moviesDf.withColumn(\"metascore_fallback\", coalesce(col(\"metascore\"), lit(20)))\n",
    "\n",
    "display(moviesDf.limit(10))"
   ]
  },
  {
   "cell_type": "code",
   "execution_count": 0,
   "metadata": {
    "application/vnd.databricks.v1+cell": {
     "cellMetadata": {
      "byteLimit": 2048000,
      "rowLimit": 10000
     },
     "inputWidgets": {},
     "nuid": "63f77e0c-e13a-4d6b-9d5e-456ba9599705",
     "showTitle": false,
     "tableResultSettingsMap": {},
     "title": ""
    }
   },
   "outputs": [
    {
     "output_type": "display_data",
     "data": {
      "text/html": [
       "<style scoped>\n",
       "  .table-result-container {\n",
       "    max-height: 300px;\n",
       "    overflow: auto;\n",
       "  }\n",
       "  table, th, td {\n",
       "    border: 1px solid black;\n",
       "    border-collapse: collapse;\n",
       "  }\n",
       "  th, td {\n",
       "    padding: 5px;\n",
       "  }\n",
       "  th {\n",
       "    text-align: left;\n",
       "  }\n",
       "</style><div class='table-result-container'><table class='table-result'><thead style='background-color: white'><tr><th>imdb_title_id</th><th>title</th><th>original_title</th><th>year</th><th>date_published</th><th>genre</th><th>duration</th><th>country</th><th>language</th><th>director</th><th>writer</th><th>production_company</th><th>actors</th><th>description</th><th>avg_vote</th><th>votes</th><th>budget</th><th>usa_gross_income</th><th>worlwide_gross_income</th><th>metascore</th><th>reviews_from_users</th><th>reviews_from_critics</th><th>actor_list</th><th>clean_budget</th><th>published_year</th><th>metascore_fallback</th><th>nullIfTest</th></tr></thead><tbody><tr><td>tt0000009</td><td>Miss Jerry</td><td>Miss Jerry</td><td>1894</td><td>1894-10-09</td><td>Romance</td><td>45</td><td>USA</td><td>None</td><td>Alexander Black</td><td>Alexander Black</td><td>Alexander Black Photoplays</td><td>Blanche Bayliss, William Courtenay, Chauncey Depew</td><td>The adventures of a female reporter in the 1890s.</td><td>05.wrz</td><td>154</td><td>0</td><td>null</td><td>null</td><td>null</td><td>1.0</td><td>2.0</td><td>List(Blanche Bayliss, William Courtenay, Chauncey Depew)</td><td>0.0</td><td>1894</td><td>20.0</td><td>USA</td></tr><tr><td>tt0000574</td><td>The Story of the Kelly Gang</td><td>The Story of the Kelly Gang</td><td>1906</td><td>26.12.1906</td><td>Biography, Crime, Drama</td><td>70</td><td>Australia</td><td>None</td><td>Charles Tait</td><td>Charles Tait</td><td>J. and N. Tait</td><td>Elizabeth Tait, John Tait, Norman Campbell, Bella Cola, Will Coyne, Sam Crewes, Jack Ennis, John Forde, Vera Linden, Mr. Marshall, Mr. McKenzie, Frank Mills, Ollie Wilson</td><td>True story of notorious Australian outlaw Ned Kelly (1855-80).</td><td>06.sty</td><td>589</td><td>$ 2250</td><td>null</td><td>null</td><td>null</td><td>7.0</td><td>7.0</td><td>List(Elizabeth Tait, John Tait, Norman Campbell, Bella Cola, Will Coyne, Sam Crewes, Jack Ennis, John Forde, Vera Linden, Mr. Marshall, Mr. McKenzie, Frank Mills, Ollie Wilson)</td><td>2250.0</td><td>1906</td><td>20.0</td><td>Australia</td></tr><tr><td>tt0001892</td><td>Den sorte drøm</td><td>Den sorte drøm</td><td>1911</td><td>19.08.1911</td><td>Drama</td><td>53</td><td>Germany, Denmark</td><td>null</td><td>Urban Gad</td><td>Urban Gad, Gebhard Schätzler-Perasini</td><td>Fotorama</td><td>Asta Nielsen, Valdemar Psilander, Gunnar Helsengreen, Emil Albes, Hugo Flink, Mary Hagen</td><td>Two men of high rank are both wooing the beautiful and famous equestrian acrobat Stella. While Stella ignores the jeweler Hirsch, she accepts Count von Waldberg's offer to follow her home, ...</td><td>05.sie</td><td>188</td><td>0</td><td>null</td><td>null</td><td>null</td><td>5.0</td><td>2.0</td><td>List(Asta Nielsen, Valdemar Psilander, Gunnar Helsengreen, Emil Albes, Hugo Flink, Mary Hagen)</td><td>0.0</td><td>1911</td><td>20.0</td><td>Germany, Denmark</td></tr><tr><td>tt0002101</td><td>Cleopatra</td><td>Cleopatra</td><td>1912</td><td>13.11.1912</td><td>Drama, History</td><td>100</td><td>USA</td><td>English</td><td>Charles L. Gaskill</td><td>Victorien Sardou</td><td>Helen Gardner Picture Players</td><td>Helen Gardner, Pearl Sindelar, Miss Fielding, Miss Robson, Helene Costello, Charles Sindelar, Mr. Howard, James R. Waite, Mr. Osborne, Harry Knowles, Mr. Paul, Mr. Brady, Mr. Corker</td><td>The fabled queen of Egypt's affair with Roman general Marc Antony is ultimately disastrous for both of them.</td><td>05.lut</td><td>446</td><td>$ 45000</td><td>null</td><td>null</td><td>null</td><td>25.0</td><td>3.0</td><td>List(Helen Gardner, Pearl Sindelar, Miss Fielding, Miss Robson, Helene Costello, Charles Sindelar, Mr. Howard, James R. Waite, Mr. Osborne, Harry Knowles, Mr. Paul, Mr. Brady, Mr. Corker)</td><td>45000.0</td><td>1912</td><td>20.0</td><td>USA</td></tr><tr><td>tt0002130</td><td>L'Inferno</td><td>L'Inferno</td><td>1911</td><td>06.03.1911</td><td>Adventure, Drama, Fantasy</td><td>68</td><td>Italy</td><td>Italian</td><td>Francesco Bertolini, Adolfo Padovan</td><td>Dante Alighieri</td><td>Milano Film</td><td>Salvatore Papa, Arturo Pirovano, Giuseppe de Liguoro, Pier Delle Vigne, Augusto Milla, Attilio Motta, Emilise Beretta</td><td>Loosely adapted from Dante's Divine Comedy and inspired by the illustrations of Gustav Doré the original silent film has been restored and has a new score by Tangerine Dream.</td><td>7.0</td><td>2237</td><td>0</td><td>null</td><td>null</td><td>null</td><td>31.0</td><td>14.0</td><td>List(Salvatore Papa, Arturo Pirovano, Giuseppe de Liguoro, Pier Delle Vigne, Augusto Milla, Attilio Motta, Emilise Beretta)</td><td>0.0</td><td>1911</td><td>20.0</td><td>Italy</td></tr><tr><td>tt0002199</td><td>From the Manger to the Cross or, Jesus of Nazareth</td><td>From the Manger to the Cross or, Jesus of Nazareth</td><td>1912</td><td>1913</td><td>Biography, Drama</td><td>60</td><td>USA</td><td>English</td><td>Sidney Olcott</td><td>Gene Gauntier</td><td>Kalem Company</td><td>R. Henderson Bland, Percy Dyer, Gene Gauntier, Alice Hollister, Samuel Morgan, James D. Ainsley, Robert G. Vignola, George Kellog, J.P. McGowan</td><td>An account of the life of Jesus Christ, based on the books of the New Testament: After Jesus' birth is foretold to his parents, he is born in Bethlehem, and is visited by shepherds and wise...</td><td>05.lip</td><td>484</td><td>0</td><td>null</td><td>null</td><td>null</td><td>13.0</td><td>5.0</td><td>List(R. Henderson Bland, Percy Dyer, Gene Gauntier, Alice Hollister, Samuel Morgan, James D. Ainsley, Robert G. Vignola, George Kellog, J.P. McGowan)</td><td>0.0</td><td>1913</td><td>20.0</td><td>USA</td></tr><tr><td>tt0002423</td><td>Madame DuBarry</td><td>Madame DuBarry</td><td>1919</td><td>26.11.1919</td><td>Biography, Drama, Romance</td><td>85</td><td>Germany</td><td>German</td><td>Ernst Lubitsch</td><td>Norbert Falk, Hanns Kräly</td><td>Projektions-AG Union (PAGU)</td><td>Pola Negri, Emil Jannings, Harry Liedtke, Eduard von Winterstein, Reinhold Schünzel, Else Berna, Fred Immler, Gustav Czimeg, Karl Platen, Bernhard Goetzke, Magnus Stifter, Paul Biensfeldt, Willy Kaiser-Heyl, Alexander Ekert, Robert Sortsch-Pla</td><td>The story of Madame DuBarry, the mistress of Louis XV of France, and her loves in the time of the French revolution.</td><td>06.sie</td><td>753</td><td>0</td><td>null</td><td>null</td><td>null</td><td>12.0</td><td>9.0</td><td>List(Pola Negri, Emil Jannings, Harry Liedtke, Eduard von Winterstein, Reinhold Schünzel, Else Berna, Fred Immler, Gustav Czimeg, Karl Platen, Bernhard Goetzke, Magnus Stifter, Paul Biensfeldt, Willy Kaiser-Heyl, Alexander Ekert, Robert Sortsch-Pla)</td><td>0.0</td><td>1919</td><td>20.0</td><td>Germany</td></tr><tr><td>tt0002445</td><td>Quo Vadis?</td><td>Quo Vadis?</td><td>1913</td><td>01.03.1913</td><td>Drama, History</td><td>120</td><td>Italy</td><td>Italian</td><td>Enrico Guazzoni</td><td>Henryk Sienkiewicz, Enrico Guazzoni</td><td>Società Italiana Cines</td><td>Amleto Novelli, Gustavo Serena, Carlo Cattaneo, Amelia Cattaneo, Lea Giunchi, Bruto Castellani, Augusto Mastripietri, Cesare Moltini, Olga Brandini, Ignazio Lupi, Giovanni Gizzi, Lia Orlandini, Matilde Guillaume, Ida Carloni Talli, Giuseppe Gambardella</td><td>An epic Italian film Quo Vadis influenced many of the later movies.</td><td>06.lut</td><td>273</td><td>ITL 45000</td><td>null</td><td>null</td><td>null</td><td>7.0</td><td>5.0</td><td>List(Amleto Novelli, Gustavo Serena, Carlo Cattaneo, Amelia Cattaneo, Lea Giunchi, Bruto Castellani, Augusto Mastripietri, Cesare Moltini, Olga Brandini, Ignazio Lupi, Giovanni Gizzi, Lia Orlandini, Matilde Guillaume, Ida Carloni Talli, Giuseppe Gambardella)</td><td>null</td><td>1913</td><td>20.0</td><td>Italy</td></tr><tr><td>tt0002452</td><td>Independenta Romaniei</td><td>Independenta Romaniei</td><td>1912</td><td>01.09.1912</td><td>History, War</td><td>120</td><td>Romania</td><td>null</td><td>Aristide Demetriade, Grigore Brezeanu</td><td>Aristide Demetriade, Petre Liciu</td><td>Societatea Filmului de Arta Leon Popescu</td><td>Aristide Demetriade, Constanta Demetriade, Constantin Nottara, Pepi Machauer, Aurel Athanasescu, Jeny Metaxa-Doro, Nicolae Soreanu, Vasile Toneanu, Aristita Romanescu, Elvire Popesco, M. Vîrgolici, C. Nedelcovici, Mihail Tancovici-Cosmin, Ion Dumitrescu, Gheorghe Meliseanu</td><td>The movie depicts the Romanian War of Independence (1877-1878).</td><td>06.lip</td><td>198</td><td>ROL 400000</td><td>null</td><td>null</td><td>null</td><td>4.0</td><td>1.0</td><td>List(Aristide Demetriade, Constanta Demetriade, Constantin Nottara, Pepi Machauer, Aurel Athanasescu, Jeny Metaxa-Doro, Nicolae Soreanu, Vasile Toneanu, Aristita Romanescu, Elvire Popesco, M. Vîrgolici, C. Nedelcovici, Mihail Tancovici-Cosmin, Ion Dumitrescu, Gheorghe Meliseanu)</td><td>null</td><td>1912</td><td>20.0</td><td>Romania</td></tr><tr><td>tt0002461</td><td>Richard III</td><td>Richard III</td><td>1912</td><td>15.10.1912</td><td>Drama</td><td>55</td><td>France, USA</td><td>English</td><td>André Calmettes, James Keane</td><td>James Keane, William Shakespeare</td><td>Le Film d'Art</td><td>Robert Gemp, Frederick Warde, Albert Gardner, James Keane, George Moss, Howard Stuart, Virginia Rankin, Violet Stuart, Carey Lee, Carlotta De Felice</td><td>Richard of Gloucester uses manipulation and murder to gain the English throne.</td><td>05.maj</td><td>225</td><td>$ 30000</td><td>null</td><td>null</td><td>null</td><td>8.0</td><td>1.0</td><td>List(Robert Gemp, Frederick Warde, Albert Gardner, James Keane, George Moss, Howard Stuart, Virginia Rankin, Violet Stuart, Carey Lee, Carlotta De Felice)</td><td>30000.0</td><td>1912</td><td>20.0</td><td>France, USA</td></tr></tbody></table></div>"
      ]
     },
     "metadata": {
      "application/vnd.databricks.v1+output": {
       "addedWidgets": {},
       "aggData": [],
       "aggError": "",
       "aggOverflow": false,
       "aggSchema": [],
       "aggSeriesLimitReached": false,
       "aggType": "",
       "arguments": {},
       "columnCustomDisplayInfos": {},
       "data": [
        [
         "tt0000009",
         "Miss Jerry",
         "Miss Jerry",
         "1894",
         "1894-10-09",
         "Romance",
         45,
         "USA",
         "None",
         "Alexander Black",
         "Alexander Black",
         "Alexander Black Photoplays",
         "Blanche Bayliss, William Courtenay, Chauncey Depew",
         "The adventures of a female reporter in the 1890s.",
         "05.wrz",
         154,
         "0",
         null,
         null,
         null,
         1.0,
         2.0,
         [
          "Blanche Bayliss",
          "William Courtenay",
          "Chauncey Depew"
         ],
         0.0,
         "1894",
         20.0,
         "USA"
        ],
        [
         "tt0000574",
         "The Story of the Kelly Gang",
         "The Story of the Kelly Gang",
         "1906",
         "26.12.1906",
         "Biography, Crime, Drama",
         70,
         "Australia",
         "None",
         "Charles Tait",
         "Charles Tait",
         "J. and N. Tait",
         "Elizabeth Tait, John Tait, Norman Campbell, Bella Cola, Will Coyne, Sam Crewes, Jack Ennis, John Forde, Vera Linden, Mr. Marshall, Mr. McKenzie, Frank Mills, Ollie Wilson",
         "True story of notorious Australian outlaw Ned Kelly (1855-80).",
         "06.sty",
         589,
         "$ 2250",
         null,
         null,
         null,
         7.0,
         7.0,
         [
          "Elizabeth Tait",
          "John Tait",
          "Norman Campbell",
          "Bella Cola",
          "Will Coyne",
          "Sam Crewes",
          "Jack Ennis",
          "John Forde",
          "Vera Linden",
          "Mr. Marshall",
          "Mr. McKenzie",
          "Frank Mills",
          "Ollie Wilson"
         ],
         2250.0,
         "1906",
         20.0,
         "Australia"
        ],
        [
         "tt0001892",
         "Den sorte drøm",
         "Den sorte drøm",
         "1911",
         "19.08.1911",
         "Drama",
         53,
         "Germany, Denmark",
         null,
         "Urban Gad",
         "Urban Gad, Gebhard Schätzler-Perasini",
         "Fotorama",
         "Asta Nielsen, Valdemar Psilander, Gunnar Helsengreen, Emil Albes, Hugo Flink, Mary Hagen",
         "Two men of high rank are both wooing the beautiful and famous equestrian acrobat Stella. While Stella ignores the jeweler Hirsch, she accepts Count von Waldberg's offer to follow her home, ...",
         "05.sie",
         188,
         "0",
         null,
         null,
         null,
         5.0,
         2.0,
         [
          "Asta Nielsen",
          "Valdemar Psilander",
          "Gunnar Helsengreen",
          "Emil Albes",
          "Hugo Flink",
          "Mary Hagen"
         ],
         0.0,
         "1911",
         20.0,
         "Germany, Denmark"
        ],
        [
         "tt0002101",
         "Cleopatra",
         "Cleopatra",
         "1912",
         "13.11.1912",
         "Drama, History",
         100,
         "USA",
         "English",
         "Charles L. Gaskill",
         "Victorien Sardou",
         "Helen Gardner Picture Players",
         "Helen Gardner, Pearl Sindelar, Miss Fielding, Miss Robson, Helene Costello, Charles Sindelar, Mr. Howard, James R. Waite, Mr. Osborne, Harry Knowles, Mr. Paul, Mr. Brady, Mr. Corker",
         "The fabled queen of Egypt's affair with Roman general Marc Antony is ultimately disastrous for both of them.",
         "05.lut",
         446,
         "$ 45000",
         null,
         null,
         null,
         25.0,
         3.0,
         [
          "Helen Gardner",
          "Pearl Sindelar",
          "Miss Fielding",
          "Miss Robson",
          "Helene Costello",
          "Charles Sindelar",
          "Mr. Howard",
          "James R. Waite",
          "Mr. Osborne",
          "Harry Knowles",
          "Mr. Paul",
          "Mr. Brady",
          "Mr. Corker"
         ],
         45000.0,
         "1912",
         20.0,
         "USA"
        ],
        [
         "tt0002130",
         "L'Inferno",
         "L'Inferno",
         "1911",
         "06.03.1911",
         "Adventure, Drama, Fantasy",
         68,
         "Italy",
         "Italian",
         "Francesco Bertolini, Adolfo Padovan",
         "Dante Alighieri",
         "Milano Film",
         "Salvatore Papa, Arturo Pirovano, Giuseppe de Liguoro, Pier Delle Vigne, Augusto Milla, Attilio Motta, Emilise Beretta",
         "Loosely adapted from Dante's Divine Comedy and inspired by the illustrations of Gustav Doré the original silent film has been restored and has a new score by Tangerine Dream.",
         "7.0",
         2237,
         "0",
         null,
         null,
         null,
         31.0,
         14.0,
         [
          "Salvatore Papa",
          "Arturo Pirovano",
          "Giuseppe de Liguoro",
          "Pier Delle Vigne",
          "Augusto Milla",
          "Attilio Motta",
          "Emilise Beretta"
         ],
         0.0,
         "1911",
         20.0,
         "Italy"
        ],
        [
         "tt0002199",
         "From the Manger to the Cross or, Jesus of Nazareth",
         "From the Manger to the Cross or, Jesus of Nazareth",
         "1912",
         "1913",
         "Biography, Drama",
         60,
         "USA",
         "English",
         "Sidney Olcott",
         "Gene Gauntier",
         "Kalem Company",
         "R. Henderson Bland, Percy Dyer, Gene Gauntier, Alice Hollister, Samuel Morgan, James D. Ainsley, Robert G. Vignola, George Kellog, J.P. McGowan",
         "An account of the life of Jesus Christ, based on the books of the New Testament: After Jesus' birth is foretold to his parents, he is born in Bethlehem, and is visited by shepherds and wise...",
         "05.lip",
         484,
         "0",
         null,
         null,
         null,
         13.0,
         5.0,
         [
          "R. Henderson Bland",
          "Percy Dyer",
          "Gene Gauntier",
          "Alice Hollister",
          "Samuel Morgan",
          "James D. Ainsley",
          "Robert G. Vignola",
          "George Kellog",
          "J.P. McGowan"
         ],
         0.0,
         "1913",
         20.0,
         "USA"
        ],
        [
         "tt0002423",
         "Madame DuBarry",
         "Madame DuBarry",
         "1919",
         "26.11.1919",
         "Biography, Drama, Romance",
         85,
         "Germany",
         "German",
         "Ernst Lubitsch",
         "Norbert Falk, Hanns Kräly",
         "Projektions-AG Union (PAGU)",
         "Pola Negri, Emil Jannings, Harry Liedtke, Eduard von Winterstein, Reinhold Schünzel, Else Berna, Fred Immler, Gustav Czimeg, Karl Platen, Bernhard Goetzke, Magnus Stifter, Paul Biensfeldt, Willy Kaiser-Heyl, Alexander Ekert, Robert Sortsch-Pla",
         "The story of Madame DuBarry, the mistress of Louis XV of France, and her loves in the time of the French revolution.",
         "06.sie",
         753,
         "0",
         null,
         null,
         null,
         12.0,
         9.0,
         [
          "Pola Negri",
          "Emil Jannings",
          "Harry Liedtke",
          "Eduard von Winterstein",
          "Reinhold Schünzel",
          "Else Berna",
          "Fred Immler",
          "Gustav Czimeg",
          "Karl Platen",
          "Bernhard Goetzke",
          "Magnus Stifter",
          "Paul Biensfeldt",
          "Willy Kaiser-Heyl",
          "Alexander Ekert",
          "Robert Sortsch-Pla"
         ],
         0.0,
         "1919",
         20.0,
         "Germany"
        ],
        [
         "tt0002445",
         "Quo Vadis?",
         "Quo Vadis?",
         "1913",
         "01.03.1913",
         "Drama, History",
         120,
         "Italy",
         "Italian",
         "Enrico Guazzoni",
         "Henryk Sienkiewicz, Enrico Guazzoni",
         "Società Italiana Cines",
         "Amleto Novelli, Gustavo Serena, Carlo Cattaneo, Amelia Cattaneo, Lea Giunchi, Bruto Castellani, Augusto Mastripietri, Cesare Moltini, Olga Brandini, Ignazio Lupi, Giovanni Gizzi, Lia Orlandini, Matilde Guillaume, Ida Carloni Talli, Giuseppe Gambardella",
         "An epic Italian film Quo Vadis influenced many of the later movies.",
         "06.lut",
         273,
         "ITL 45000",
         null,
         null,
         null,
         7.0,
         5.0,
         [
          "Amleto Novelli",
          "Gustavo Serena",
          "Carlo Cattaneo",
          "Amelia Cattaneo",
          "Lea Giunchi",
          "Bruto Castellani",
          "Augusto Mastripietri",
          "Cesare Moltini",
          "Olga Brandini",
          "Ignazio Lupi",
          "Giovanni Gizzi",
          "Lia Orlandini",
          "Matilde Guillaume",
          "Ida Carloni Talli",
          "Giuseppe Gambardella"
         ],
         null,
         "1913",
         20.0,
         "Italy"
        ],
        [
         "tt0002452",
         "Independenta Romaniei",
         "Independenta Romaniei",
         "1912",
         "01.09.1912",
         "History, War",
         120,
         "Romania",
         null,
         "Aristide Demetriade, Grigore Brezeanu",
         "Aristide Demetriade, Petre Liciu",
         "Societatea Filmului de Arta Leon Popescu",
         "Aristide Demetriade, Constanta Demetriade, Constantin Nottara, Pepi Machauer, Aurel Athanasescu, Jeny Metaxa-Doro, Nicolae Soreanu, Vasile Toneanu, Aristita Romanescu, Elvire Popesco, M. Vîrgolici, C. Nedelcovici, Mihail Tancovici-Cosmin, Ion Dumitrescu, Gheorghe Meliseanu",
         "The movie depicts the Romanian War of Independence (1877-1878).",
         "06.lip",
         198,
         "ROL 400000",
         null,
         null,
         null,
         4.0,
         1.0,
         [
          "Aristide Demetriade",
          "Constanta Demetriade",
          "Constantin Nottara",
          "Pepi Machauer",
          "Aurel Athanasescu",
          "Jeny Metaxa-Doro",
          "Nicolae Soreanu",
          "Vasile Toneanu",
          "Aristita Romanescu",
          "Elvire Popesco",
          "M. Vîrgolici",
          "C. Nedelcovici",
          "Mihail Tancovici-Cosmin",
          "Ion Dumitrescu",
          "Gheorghe Meliseanu"
         ],
         null,
         "1912",
         20.0,
         "Romania"
        ],
        [
         "tt0002461",
         "Richard III",
         "Richard III",
         "1912",
         "15.10.1912",
         "Drama",
         55,
         "France, USA",
         "English",
         "André Calmettes, James Keane",
         "James Keane, William Shakespeare",
         "Le Film d'Art",
         "Robert Gemp, Frederick Warde, Albert Gardner, James Keane, George Moss, Howard Stuart, Virginia Rankin, Violet Stuart, Carey Lee, Carlotta De Felice",
         "Richard of Gloucester uses manipulation and murder to gain the English throne.",
         "05.maj",
         225,
         "$ 30000",
         null,
         null,
         null,
         8.0,
         1.0,
         [
          "Robert Gemp",
          "Frederick Warde",
          "Albert Gardner",
          "James Keane",
          "George Moss",
          "Howard Stuart",
          "Virginia Rankin",
          "Violet Stuart",
          "Carey Lee",
          "Carlotta De Felice"
         ],
         30000.0,
         "1912",
         20.0,
         "France, USA"
        ]
       ],
       "datasetInfos": [],
       "dbfsResultPath": null,
       "isJsonSchema": true,
       "metadata": {},
       "overflow": false,
       "plotOptions": {
        "customPlotOptions": {},
        "displayType": "table",
        "pivotAggregation": null,
        "pivotColumns": null,
        "xColumns": null,
        "yColumns": null
       },
       "removedWidgets": [],
       "schema": [
        {
         "metadata": "{}",
         "name": "imdb_title_id",
         "type": "\"string\""
        },
        {
         "metadata": "{}",
         "name": "title",
         "type": "\"string\""
        },
        {
         "metadata": "{}",
         "name": "original_title",
         "type": "\"string\""
        },
        {
         "metadata": "{}",
         "name": "year",
         "type": "\"string\""
        },
        {
         "metadata": "{}",
         "name": "date_published",
         "type": "\"string\""
        },
        {
         "metadata": "{}",
         "name": "genre",
         "type": "\"string\""
        },
        {
         "metadata": "{}",
         "name": "duration",
         "type": "\"integer\""
        },
        {
         "metadata": "{}",
         "name": "country",
         "type": "\"string\""
        },
        {
         "metadata": "{}",
         "name": "language",
         "type": "\"string\""
        },
        {
         "metadata": "{}",
         "name": "director",
         "type": "\"string\""
        },
        {
         "metadata": "{}",
         "name": "writer",
         "type": "\"string\""
        },
        {
         "metadata": "{}",
         "name": "production_company",
         "type": "\"string\""
        },
        {
         "metadata": "{}",
         "name": "actors",
         "type": "\"string\""
        },
        {
         "metadata": "{}",
         "name": "description",
         "type": "\"string\""
        },
        {
         "metadata": "{}",
         "name": "avg_vote",
         "type": "\"string\""
        },
        {
         "metadata": "{}",
         "name": "votes",
         "type": "\"integer\""
        },
        {
         "metadata": "{}",
         "name": "budget",
         "type": "\"string\""
        },
        {
         "metadata": "{}",
         "name": "usa_gross_income",
         "type": "\"string\""
        },
        {
         "metadata": "{}",
         "name": "worlwide_gross_income",
         "type": "\"string\""
        },
        {
         "metadata": "{}",
         "name": "metascore",
         "type": "\"double\""
        },
        {
         "metadata": "{}",
         "name": "reviews_from_users",
         "type": "\"double\""
        },
        {
         "metadata": "{}",
         "name": "reviews_from_critics",
         "type": "\"double\""
        },
        {
         "metadata": "{}",
         "name": "actor_list",
         "type": "{\"type\":\"array\",\"elementType\":\"string\",\"containsNull\":false}"
        },
        {
         "metadata": "{}",
         "name": "clean_budget",
         "type": "\"double\""
        },
        {
         "metadata": "{}",
         "name": "published_year",
         "type": "\"string\""
        },
        {
         "metadata": "{}",
         "name": "metascore_fallback",
         "type": "\"double\""
        },
        {
         "metadata": "{}",
         "name": "nullIfTest",
         "type": "\"string\""
        }
       ],
       "type": "table"
      }
     },
     "output_type": "display_data"
    }
   ],
   "source": [
    "#nullIf jesli jezyk i kraj ten sam to daje null, inaczej zostawia kraj\n",
    "moviesDf = moviesDf.withColumn(\"nullIfTest\", when(col(\"country\") == col(\"language\"), None).otherwise(col(\"country\")))\n",
    "\n",
    "display(moviesDf.limit(10))"
   ]
  },
  {
   "cell_type": "code",
   "execution_count": 0,
   "metadata": {
    "application/vnd.databricks.v1+cell": {
     "cellMetadata": {
      "byteLimit": 2048000,
      "rowLimit": 10000
     },
     "inputWidgets": {},
     "nuid": "5d7c2135-da41-482b-8bdb-0524cdcb355f",
     "showTitle": false,
     "tableResultSettingsMap": {},
     "title": ""
    }
   },
   "outputs": [
    {
     "output_type": "display_data",
     "data": {
      "text/html": [
       "<style scoped>\n",
       "  .table-result-container {\n",
       "    max-height: 300px;\n",
       "    overflow: auto;\n",
       "  }\n",
       "  table, th, td {\n",
       "    border: 1px solid black;\n",
       "    border-collapse: collapse;\n",
       "  }\n",
       "  th, td {\n",
       "    padding: 5px;\n",
       "  }\n",
       "  th {\n",
       "    text-align: left;\n",
       "  }\n",
       "</style><div class='table-result-container'><table class='table-result'><thead style='background-color: white'><tr><th>imdb_title_id</th><th>title</th><th>original_title</th><th>year</th><th>date_published</th><th>genre</th><th>duration</th><th>country</th><th>language</th><th>director</th><th>writer</th><th>production_company</th><th>actors</th><th>description</th><th>avg_vote</th><th>votes</th><th>budget</th><th>usa_gross_income</th><th>worlwide_gross_income</th><th>metascore</th><th>reviews_from_users</th><th>reviews_from_critics</th><th>actor_list</th><th>clean_budget</th><th>published_year</th><th>metascore_fallback</th><th>nullIfTest</th></tr></thead><tbody><tr><td>tt0000009</td><td>Miss Jerry</td><td>Miss Jerry</td><td>1894</td><td>1894-10-09</td><td>Romance</td><td>45</td><td>United States</td><td>None</td><td>Alexander Black</td><td>Alexander Black</td><td>Alexander Black Photoplays</td><td>Blanche Bayliss, William Courtenay, Chauncey Depew</td><td>The adventures of a female reporter in the 1890s.</td><td>05.wrz</td><td>154</td><td>0</td><td>null</td><td>null</td><td>null</td><td>1.0</td><td>2.0</td><td>List(Blanche Bayliss, William Courtenay, Chauncey Depew)</td><td>0.0</td><td>1894</td><td>20.0</td><td>USA</td></tr><tr><td>tt0000574</td><td>The Story of the Kelly Gang</td><td>The Story of the Kelly Gang</td><td>1906</td><td>26.12.1906</td><td>Biography, Crime, Drama</td><td>70</td><td>Australia</td><td>None</td><td>Charles Tait</td><td>Charles Tait</td><td>J. and N. Tait</td><td>Elizabeth Tait, John Tait, Norman Campbell, Bella Cola, Will Coyne, Sam Crewes, Jack Ennis, John Forde, Vera Linden, Mr. Marshall, Mr. McKenzie, Frank Mills, Ollie Wilson</td><td>True story of notorious Australian outlaw Ned Kelly (1855-80).</td><td>06.sty</td><td>589</td><td>$ 2250</td><td>null</td><td>null</td><td>null</td><td>7.0</td><td>7.0</td><td>List(Elizabeth Tait, John Tait, Norman Campbell, Bella Cola, Will Coyne, Sam Crewes, Jack Ennis, John Forde, Vera Linden, Mr. Marshall, Mr. McKenzie, Frank Mills, Ollie Wilson)</td><td>2250.0</td><td>1906</td><td>20.0</td><td>Australia</td></tr><tr><td>tt0001892</td><td>Den sorte drøm</td><td>Den sorte drøm</td><td>1911</td><td>19.08.1911</td><td>Drama</td><td>53</td><td>Germany, Denmark</td><td>null</td><td>Urban Gad</td><td>Urban Gad, Gebhard Schätzler-Perasini</td><td>Fotorama</td><td>Asta Nielsen, Valdemar Psilander, Gunnar Helsengreen, Emil Albes, Hugo Flink, Mary Hagen</td><td>Two men of high rank are both wooing the beautiful and famous equestrian acrobat Stella. While Stella ignores the jeweler Hirsch, she accepts Count von Waldberg's offer to follow her home, ...</td><td>05.sie</td><td>188</td><td>0</td><td>null</td><td>null</td><td>null</td><td>5.0</td><td>2.0</td><td>List(Asta Nielsen, Valdemar Psilander, Gunnar Helsengreen, Emil Albes, Hugo Flink, Mary Hagen)</td><td>0.0</td><td>1911</td><td>20.0</td><td>Germany, Denmark</td></tr><tr><td>tt0002101</td><td>Cleopatra</td><td>Cleopatra</td><td>1912</td><td>13.11.1912</td><td>Drama, History</td><td>100</td><td>United States</td><td>English</td><td>Charles L. Gaskill</td><td>Victorien Sardou</td><td>Helen Gardner Picture Players</td><td>Helen Gardner, Pearl Sindelar, Miss Fielding, Miss Robson, Helene Costello, Charles Sindelar, Mr. Howard, James R. Waite, Mr. Osborne, Harry Knowles, Mr. Paul, Mr. Brady, Mr. Corker</td><td>The fabled queen of Egypt's affair with Roman general Marc Antony is ultimately disastrous for both of them.</td><td>05.lut</td><td>446</td><td>$ 45000</td><td>null</td><td>null</td><td>null</td><td>25.0</td><td>3.0</td><td>List(Helen Gardner, Pearl Sindelar, Miss Fielding, Miss Robson, Helene Costello, Charles Sindelar, Mr. Howard, James R. Waite, Mr. Osborne, Harry Knowles, Mr. Paul, Mr. Brady, Mr. Corker)</td><td>45000.0</td><td>1912</td><td>20.0</td><td>USA</td></tr><tr><td>tt0002130</td><td>L'Inferno</td><td>L'Inferno</td><td>1911</td><td>06.03.1911</td><td>Adventure, Drama, Fantasy</td><td>68</td><td>Italy</td><td>Italian</td><td>Francesco Bertolini, Adolfo Padovan</td><td>Dante Alighieri</td><td>Milano Film</td><td>Salvatore Papa, Arturo Pirovano, Giuseppe de Liguoro, Pier Delle Vigne, Augusto Milla, Attilio Motta, Emilise Beretta</td><td>Loosely adapted from Dante's Divine Comedy and inspired by the illustrations of Gustav Doré the original silent film has been restored and has a new score by Tangerine Dream.</td><td>7.0</td><td>2237</td><td>0</td><td>null</td><td>null</td><td>null</td><td>31.0</td><td>14.0</td><td>List(Salvatore Papa, Arturo Pirovano, Giuseppe de Liguoro, Pier Delle Vigne, Augusto Milla, Attilio Motta, Emilise Beretta)</td><td>0.0</td><td>1911</td><td>20.0</td><td>Italy</td></tr><tr><td>tt0002199</td><td>From the Manger to the Cross or, Jesus of Nazareth</td><td>From the Manger to the Cross or, Jesus of Nazareth</td><td>1912</td><td>1913</td><td>Biography, Drama</td><td>60</td><td>United States</td><td>English</td><td>Sidney Olcott</td><td>Gene Gauntier</td><td>Kalem Company</td><td>R. Henderson Bland, Percy Dyer, Gene Gauntier, Alice Hollister, Samuel Morgan, James D. Ainsley, Robert G. Vignola, George Kellog, J.P. McGowan</td><td>An account of the life of Jesus Christ, based on the books of the New Testament: After Jesus' birth is foretold to his parents, he is born in Bethlehem, and is visited by shepherds and wise...</td><td>05.lip</td><td>484</td><td>0</td><td>null</td><td>null</td><td>null</td><td>13.0</td><td>5.0</td><td>List(R. Henderson Bland, Percy Dyer, Gene Gauntier, Alice Hollister, Samuel Morgan, James D. Ainsley, Robert G. Vignola, George Kellog, J.P. McGowan)</td><td>0.0</td><td>1913</td><td>20.0</td><td>USA</td></tr><tr><td>tt0002423</td><td>Madame DuBarry</td><td>Madame DuBarry</td><td>1919</td><td>26.11.1919</td><td>Biography, Drama, Romance</td><td>85</td><td>Germany</td><td>German</td><td>Ernst Lubitsch</td><td>Norbert Falk, Hanns Kräly</td><td>Projektions-AG Union (PAGU)</td><td>Pola Negri, Emil Jannings, Harry Liedtke, Eduard von Winterstein, Reinhold Schünzel, Else Berna, Fred Immler, Gustav Czimeg, Karl Platen, Bernhard Goetzke, Magnus Stifter, Paul Biensfeldt, Willy Kaiser-Heyl, Alexander Ekert, Robert Sortsch-Pla</td><td>The story of Madame DuBarry, the mistress of Louis XV of France, and her loves in the time of the French revolution.</td><td>06.sie</td><td>753</td><td>0</td><td>null</td><td>null</td><td>null</td><td>12.0</td><td>9.0</td><td>List(Pola Negri, Emil Jannings, Harry Liedtke, Eduard von Winterstein, Reinhold Schünzel, Else Berna, Fred Immler, Gustav Czimeg, Karl Platen, Bernhard Goetzke, Magnus Stifter, Paul Biensfeldt, Willy Kaiser-Heyl, Alexander Ekert, Robert Sortsch-Pla)</td><td>0.0</td><td>1919</td><td>20.0</td><td>Germany</td></tr><tr><td>tt0002445</td><td>Quo Vadis?</td><td>Quo Vadis?</td><td>1913</td><td>01.03.1913</td><td>Drama, History</td><td>120</td><td>Italy</td><td>Italian</td><td>Enrico Guazzoni</td><td>Henryk Sienkiewicz, Enrico Guazzoni</td><td>Società Italiana Cines</td><td>Amleto Novelli, Gustavo Serena, Carlo Cattaneo, Amelia Cattaneo, Lea Giunchi, Bruto Castellani, Augusto Mastripietri, Cesare Moltini, Olga Brandini, Ignazio Lupi, Giovanni Gizzi, Lia Orlandini, Matilde Guillaume, Ida Carloni Talli, Giuseppe Gambardella</td><td>An epic Italian film Quo Vadis influenced many of the later movies.</td><td>06.lut</td><td>273</td><td>ITL 45000</td><td>null</td><td>null</td><td>null</td><td>7.0</td><td>5.0</td><td>List(Amleto Novelli, Gustavo Serena, Carlo Cattaneo, Amelia Cattaneo, Lea Giunchi, Bruto Castellani, Augusto Mastripietri, Cesare Moltini, Olga Brandini, Ignazio Lupi, Giovanni Gizzi, Lia Orlandini, Matilde Guillaume, Ida Carloni Talli, Giuseppe Gambardella)</td><td>null</td><td>1913</td><td>20.0</td><td>Italy</td></tr><tr><td>tt0002452</td><td>Independenta Romaniei</td><td>Independenta Romaniei</td><td>1912</td><td>01.09.1912</td><td>History, War</td><td>120</td><td>Romania</td><td>null</td><td>Aristide Demetriade, Grigore Brezeanu</td><td>Aristide Demetriade, Petre Liciu</td><td>Societatea Filmului de Arta Leon Popescu</td><td>Aristide Demetriade, Constanta Demetriade, Constantin Nottara, Pepi Machauer, Aurel Athanasescu, Jeny Metaxa-Doro, Nicolae Soreanu, Vasile Toneanu, Aristita Romanescu, Elvire Popesco, M. Vîrgolici, C. Nedelcovici, Mihail Tancovici-Cosmin, Ion Dumitrescu, Gheorghe Meliseanu</td><td>The movie depicts the Romanian War of Independence (1877-1878).</td><td>06.lip</td><td>198</td><td>ROL 400000</td><td>null</td><td>null</td><td>null</td><td>4.0</td><td>1.0</td><td>List(Aristide Demetriade, Constanta Demetriade, Constantin Nottara, Pepi Machauer, Aurel Athanasescu, Jeny Metaxa-Doro, Nicolae Soreanu, Vasile Toneanu, Aristita Romanescu, Elvire Popesco, M. Vîrgolici, C. Nedelcovici, Mihail Tancovici-Cosmin, Ion Dumitrescu, Gheorghe Meliseanu)</td><td>null</td><td>1912</td><td>20.0</td><td>Romania</td></tr><tr><td>tt0002461</td><td>Richard III</td><td>Richard III</td><td>1912</td><td>15.10.1912</td><td>Drama</td><td>55</td><td>France, USA</td><td>English</td><td>André Calmettes, James Keane</td><td>James Keane, William Shakespeare</td><td>Le Film d'Art</td><td>Robert Gemp, Frederick Warde, Albert Gardner, James Keane, George Moss, Howard Stuart, Virginia Rankin, Violet Stuart, Carey Lee, Carlotta De Felice</td><td>Richard of Gloucester uses manipulation and murder to gain the English throne.</td><td>05.maj</td><td>225</td><td>$ 30000</td><td>null</td><td>null</td><td>null</td><td>8.0</td><td>1.0</td><td>List(Robert Gemp, Frederick Warde, Albert Gardner, James Keane, George Moss, Howard Stuart, Virginia Rankin, Violet Stuart, Carey Lee, Carlotta De Felice)</td><td>30000.0</td><td>1912</td><td>20.0</td><td>France, USA</td></tr></tbody></table></div>"
      ]
     },
     "metadata": {
      "application/vnd.databricks.v1+output": {
       "addedWidgets": {},
       "aggData": [],
       "aggError": "",
       "aggOverflow": false,
       "aggSchema": [],
       "aggSeriesLimitReached": false,
       "aggType": "",
       "arguments": {},
       "columnCustomDisplayInfos": {},
       "data": [
        [
         "tt0000009",
         "Miss Jerry",
         "Miss Jerry",
         "1894",
         "1894-10-09",
         "Romance",
         45,
         "United States",
         "None",
         "Alexander Black",
         "Alexander Black",
         "Alexander Black Photoplays",
         "Blanche Bayliss, William Courtenay, Chauncey Depew",
         "The adventures of a female reporter in the 1890s.",
         "05.wrz",
         154,
         "0",
         null,
         null,
         null,
         1.0,
         2.0,
         [
          "Blanche Bayliss",
          "William Courtenay",
          "Chauncey Depew"
         ],
         0.0,
         "1894",
         20.0,
         "USA"
        ],
        [
         "tt0000574",
         "The Story of the Kelly Gang",
         "The Story of the Kelly Gang",
         "1906",
         "26.12.1906",
         "Biography, Crime, Drama",
         70,
         "Australia",
         "None",
         "Charles Tait",
         "Charles Tait",
         "J. and N. Tait",
         "Elizabeth Tait, John Tait, Norman Campbell, Bella Cola, Will Coyne, Sam Crewes, Jack Ennis, John Forde, Vera Linden, Mr. Marshall, Mr. McKenzie, Frank Mills, Ollie Wilson",
         "True story of notorious Australian outlaw Ned Kelly (1855-80).",
         "06.sty",
         589,
         "$ 2250",
         null,
         null,
         null,
         7.0,
         7.0,
         [
          "Elizabeth Tait",
          "John Tait",
          "Norman Campbell",
          "Bella Cola",
          "Will Coyne",
          "Sam Crewes",
          "Jack Ennis",
          "John Forde",
          "Vera Linden",
          "Mr. Marshall",
          "Mr. McKenzie",
          "Frank Mills",
          "Ollie Wilson"
         ],
         2250.0,
         "1906",
         20.0,
         "Australia"
        ],
        [
         "tt0001892",
         "Den sorte drøm",
         "Den sorte drøm",
         "1911",
         "19.08.1911",
         "Drama",
         53,
         "Germany, Denmark",
         null,
         "Urban Gad",
         "Urban Gad, Gebhard Schätzler-Perasini",
         "Fotorama",
         "Asta Nielsen, Valdemar Psilander, Gunnar Helsengreen, Emil Albes, Hugo Flink, Mary Hagen",
         "Two men of high rank are both wooing the beautiful and famous equestrian acrobat Stella. While Stella ignores the jeweler Hirsch, she accepts Count von Waldberg's offer to follow her home, ...",
         "05.sie",
         188,
         "0",
         null,
         null,
         null,
         5.0,
         2.0,
         [
          "Asta Nielsen",
          "Valdemar Psilander",
          "Gunnar Helsengreen",
          "Emil Albes",
          "Hugo Flink",
          "Mary Hagen"
         ],
         0.0,
         "1911",
         20.0,
         "Germany, Denmark"
        ],
        [
         "tt0002101",
         "Cleopatra",
         "Cleopatra",
         "1912",
         "13.11.1912",
         "Drama, History",
         100,
         "United States",
         "English",
         "Charles L. Gaskill",
         "Victorien Sardou",
         "Helen Gardner Picture Players",
         "Helen Gardner, Pearl Sindelar, Miss Fielding, Miss Robson, Helene Costello, Charles Sindelar, Mr. Howard, James R. Waite, Mr. Osborne, Harry Knowles, Mr. Paul, Mr. Brady, Mr. Corker",
         "The fabled queen of Egypt's affair with Roman general Marc Antony is ultimately disastrous for both of them.",
         "05.lut",
         446,
         "$ 45000",
         null,
         null,
         null,
         25.0,
         3.0,
         [
          "Helen Gardner",
          "Pearl Sindelar",
          "Miss Fielding",
          "Miss Robson",
          "Helene Costello",
          "Charles Sindelar",
          "Mr. Howard",
          "James R. Waite",
          "Mr. Osborne",
          "Harry Knowles",
          "Mr. Paul",
          "Mr. Brady",
          "Mr. Corker"
         ],
         45000.0,
         "1912",
         20.0,
         "USA"
        ],
        [
         "tt0002130",
         "L'Inferno",
         "L'Inferno",
         "1911",
         "06.03.1911",
         "Adventure, Drama, Fantasy",
         68,
         "Italy",
         "Italian",
         "Francesco Bertolini, Adolfo Padovan",
         "Dante Alighieri",
         "Milano Film",
         "Salvatore Papa, Arturo Pirovano, Giuseppe de Liguoro, Pier Delle Vigne, Augusto Milla, Attilio Motta, Emilise Beretta",
         "Loosely adapted from Dante's Divine Comedy and inspired by the illustrations of Gustav Doré the original silent film has been restored and has a new score by Tangerine Dream.",
         "7.0",
         2237,
         "0",
         null,
         null,
         null,
         31.0,
         14.0,
         [
          "Salvatore Papa",
          "Arturo Pirovano",
          "Giuseppe de Liguoro",
          "Pier Delle Vigne",
          "Augusto Milla",
          "Attilio Motta",
          "Emilise Beretta"
         ],
         0.0,
         "1911",
         20.0,
         "Italy"
        ],
        [
         "tt0002199",
         "From the Manger to the Cross or, Jesus of Nazareth",
         "From the Manger to the Cross or, Jesus of Nazareth",
         "1912",
         "1913",
         "Biography, Drama",
         60,
         "United States",
         "English",
         "Sidney Olcott",
         "Gene Gauntier",
         "Kalem Company",
         "R. Henderson Bland, Percy Dyer, Gene Gauntier, Alice Hollister, Samuel Morgan, James D. Ainsley, Robert G. Vignola, George Kellog, J.P. McGowan",
         "An account of the life of Jesus Christ, based on the books of the New Testament: After Jesus' birth is foretold to his parents, he is born in Bethlehem, and is visited by shepherds and wise...",
         "05.lip",
         484,
         "0",
         null,
         null,
         null,
         13.0,
         5.0,
         [
          "R. Henderson Bland",
          "Percy Dyer",
          "Gene Gauntier",
          "Alice Hollister",
          "Samuel Morgan",
          "James D. Ainsley",
          "Robert G. Vignola",
          "George Kellog",
          "J.P. McGowan"
         ],
         0.0,
         "1913",
         20.0,
         "USA"
        ],
        [
         "tt0002423",
         "Madame DuBarry",
         "Madame DuBarry",
         "1919",
         "26.11.1919",
         "Biography, Drama, Romance",
         85,
         "Germany",
         "German",
         "Ernst Lubitsch",
         "Norbert Falk, Hanns Kräly",
         "Projektions-AG Union (PAGU)",
         "Pola Negri, Emil Jannings, Harry Liedtke, Eduard von Winterstein, Reinhold Schünzel, Else Berna, Fred Immler, Gustav Czimeg, Karl Platen, Bernhard Goetzke, Magnus Stifter, Paul Biensfeldt, Willy Kaiser-Heyl, Alexander Ekert, Robert Sortsch-Pla",
         "The story of Madame DuBarry, the mistress of Louis XV of France, and her loves in the time of the French revolution.",
         "06.sie",
         753,
         "0",
         null,
         null,
         null,
         12.0,
         9.0,
         [
          "Pola Negri",
          "Emil Jannings",
          "Harry Liedtke",
          "Eduard von Winterstein",
          "Reinhold Schünzel",
          "Else Berna",
          "Fred Immler",
          "Gustav Czimeg",
          "Karl Platen",
          "Bernhard Goetzke",
          "Magnus Stifter",
          "Paul Biensfeldt",
          "Willy Kaiser-Heyl",
          "Alexander Ekert",
          "Robert Sortsch-Pla"
         ],
         0.0,
         "1919",
         20.0,
         "Germany"
        ],
        [
         "tt0002445",
         "Quo Vadis?",
         "Quo Vadis?",
         "1913",
         "01.03.1913",
         "Drama, History",
         120,
         "Italy",
         "Italian",
         "Enrico Guazzoni",
         "Henryk Sienkiewicz, Enrico Guazzoni",
         "Società Italiana Cines",
         "Amleto Novelli, Gustavo Serena, Carlo Cattaneo, Amelia Cattaneo, Lea Giunchi, Bruto Castellani, Augusto Mastripietri, Cesare Moltini, Olga Brandini, Ignazio Lupi, Giovanni Gizzi, Lia Orlandini, Matilde Guillaume, Ida Carloni Talli, Giuseppe Gambardella",
         "An epic Italian film Quo Vadis influenced many of the later movies.",
         "06.lut",
         273,
         "ITL 45000",
         null,
         null,
         null,
         7.0,
         5.0,
         [
          "Amleto Novelli",
          "Gustavo Serena",
          "Carlo Cattaneo",
          "Amelia Cattaneo",
          "Lea Giunchi",
          "Bruto Castellani",
          "Augusto Mastripietri",
          "Cesare Moltini",
          "Olga Brandini",
          "Ignazio Lupi",
          "Giovanni Gizzi",
          "Lia Orlandini",
          "Matilde Guillaume",
          "Ida Carloni Talli",
          "Giuseppe Gambardella"
         ],
         null,
         "1913",
         20.0,
         "Italy"
        ],
        [
         "tt0002452",
         "Independenta Romaniei",
         "Independenta Romaniei",
         "1912",
         "01.09.1912",
         "History, War",
         120,
         "Romania",
         null,
         "Aristide Demetriade, Grigore Brezeanu",
         "Aristide Demetriade, Petre Liciu",
         "Societatea Filmului de Arta Leon Popescu",
         "Aristide Demetriade, Constanta Demetriade, Constantin Nottara, Pepi Machauer, Aurel Athanasescu, Jeny Metaxa-Doro, Nicolae Soreanu, Vasile Toneanu, Aristita Romanescu, Elvire Popesco, M. Vîrgolici, C. Nedelcovici, Mihail Tancovici-Cosmin, Ion Dumitrescu, Gheorghe Meliseanu",
         "The movie depicts the Romanian War of Independence (1877-1878).",
         "06.lip",
         198,
         "ROL 400000",
         null,
         null,
         null,
         4.0,
         1.0,
         [
          "Aristide Demetriade",
          "Constanta Demetriade",
          "Constantin Nottara",
          "Pepi Machauer",
          "Aurel Athanasescu",
          "Jeny Metaxa-Doro",
          "Nicolae Soreanu",
          "Vasile Toneanu",
          "Aristita Romanescu",
          "Elvire Popesco",
          "M. Vîrgolici",
          "C. Nedelcovici",
          "Mihail Tancovici-Cosmin",
          "Ion Dumitrescu",
          "Gheorghe Meliseanu"
         ],
         null,
         "1912",
         20.0,
         "Romania"
        ],
        [
         "tt0002461",
         "Richard III",
         "Richard III",
         "1912",
         "15.10.1912",
         "Drama",
         55,
         "France, USA",
         "English",
         "André Calmettes, James Keane",
         "James Keane, William Shakespeare",
         "Le Film d'Art",
         "Robert Gemp, Frederick Warde, Albert Gardner, James Keane, George Moss, Howard Stuart, Virginia Rankin, Violet Stuart, Carey Lee, Carlotta De Felice",
         "Richard of Gloucester uses manipulation and murder to gain the English throne.",
         "05.maj",
         225,
         "$ 30000",
         null,
         null,
         null,
         8.0,
         1.0,
         [
          "Robert Gemp",
          "Frederick Warde",
          "Albert Gardner",
          "James Keane",
          "George Moss",
          "Howard Stuart",
          "Virginia Rankin",
          "Violet Stuart",
          "Carey Lee",
          "Carlotta De Felice"
         ],
         30000.0,
         "1912",
         20.0,
         "France, USA"
        ]
       ],
       "datasetInfos": [],
       "dbfsResultPath": null,
       "isJsonSchema": true,
       "metadata": {},
       "overflow": false,
       "plotOptions": {
        "customPlotOptions": {},
        "displayType": "table",
        "pivotAggregation": null,
        "pivotColumns": null,
        "xColumns": null,
        "yColumns": null
       },
       "removedWidgets": [],
       "schema": [
        {
         "metadata": "{}",
         "name": "imdb_title_id",
         "type": "\"string\""
        },
        {
         "metadata": "{}",
         "name": "title",
         "type": "\"string\""
        },
        {
         "metadata": "{}",
         "name": "original_title",
         "type": "\"string\""
        },
        {
         "metadata": "{}",
         "name": "year",
         "type": "\"string\""
        },
        {
         "metadata": "{}",
         "name": "date_published",
         "type": "\"string\""
        },
        {
         "metadata": "{}",
         "name": "genre",
         "type": "\"string\""
        },
        {
         "metadata": "{}",
         "name": "duration",
         "type": "\"integer\""
        },
        {
         "metadata": "{}",
         "name": "country",
         "type": "\"string\""
        },
        {
         "metadata": "{}",
         "name": "language",
         "type": "\"string\""
        },
        {
         "metadata": "{}",
         "name": "director",
         "type": "\"string\""
        },
        {
         "metadata": "{}",
         "name": "writer",
         "type": "\"string\""
        },
        {
         "metadata": "{}",
         "name": "production_company",
         "type": "\"string\""
        },
        {
         "metadata": "{}",
         "name": "actors",
         "type": "\"string\""
        },
        {
         "metadata": "{}",
         "name": "description",
         "type": "\"string\""
        },
        {
         "metadata": "{}",
         "name": "avg_vote",
         "type": "\"string\""
        },
        {
         "metadata": "{}",
         "name": "votes",
         "type": "\"integer\""
        },
        {
         "metadata": "{}",
         "name": "budget",
         "type": "\"string\""
        },
        {
         "metadata": "{}",
         "name": "usa_gross_income",
         "type": "\"string\""
        },
        {
         "metadata": "{}",
         "name": "worlwide_gross_income",
         "type": "\"string\""
        },
        {
         "metadata": "{}",
         "name": "metascore",
         "type": "\"double\""
        },
        {
         "metadata": "{}",
         "name": "reviews_from_users",
         "type": "\"double\""
        },
        {
         "metadata": "{}",
         "name": "reviews_from_critics",
         "type": "\"double\""
        },
        {
         "metadata": "{}",
         "name": "actor_list",
         "type": "{\"type\":\"array\",\"elementType\":\"string\",\"containsNull\":false}"
        },
        {
         "metadata": "{}",
         "name": "clean_budget",
         "type": "\"double\""
        },
        {
         "metadata": "{}",
         "name": "published_year",
         "type": "\"string\""
        },
        {
         "metadata": "{}",
         "name": "metascore_fallback",
         "type": "\"double\""
        },
        {
         "metadata": "{}",
         "name": "nullIfTest",
         "type": "\"string\""
        }
       ],
       "type": "table"
      }
     },
     "output_type": "display_data"
    }
   ],
   "source": [
    "#replace zamienia usa na united states\n",
    "moviesDf = moviesDf.replace({\"USA\": \"United States\"}, subset=[\"country\"])\n",
    "\n",
    "display(moviesDf.limit(10))"
   ]
  },
  {
   "cell_type": "code",
   "execution_count": 0,
   "metadata": {
    "application/vnd.databricks.v1+cell": {
     "cellMetadata": {
      "byteLimit": 2048000,
      "rowLimit": 10000
     },
     "inputWidgets": {},
     "nuid": "807f2d8b-0b7d-49a8-bcce-d17099f1f57a",
     "showTitle": false,
     "tableResultSettingsMap": {},
     "title": ""
    }
   },
   "outputs": [
    {
     "output_type": "display_data",
     "data": {
      "text/html": [
       "<style scoped>\n",
       "  .table-result-container {\n",
       "    max-height: 300px;\n",
       "    overflow: auto;\n",
       "  }\n",
       "  table, th, td {\n",
       "    border: 1px solid black;\n",
       "    border-collapse: collapse;\n",
       "  }\n",
       "  th, td {\n",
       "    padding: 5px;\n",
       "  }\n",
       "  th {\n",
       "    text-align: left;\n",
       "  }\n",
       "</style><div class='table-result-container'><table class='table-result'><thead style='background-color: white'><tr><th>imdb_title_id</th><th>title</th><th>original_title</th><th>year</th><th>date_published</th><th>genre</th><th>duration</th><th>country</th><th>language</th><th>director</th><th>writer</th><th>production_company</th><th>actors</th><th>description</th><th>avg_vote</th><th>votes</th><th>budget</th><th>usa_gross_income</th><th>worlwide_gross_income</th><th>metascore</th><th>reviews_from_users</th><th>reviews_from_critics</th><th>actor_list</th><th>actor</th><th>has_Leonardo</th></tr></thead><tbody><tr><td>tt0000009</td><td>Miss Jerry</td><td>Miss Jerry</td><td>1894</td><td>1894-10-09</td><td>Romance</td><td>45</td><td>USA</td><td>None</td><td>Alexander Black</td><td>Alexander Black</td><td>Alexander Black Photoplays</td><td>Blanche Bayliss, William Courtenay, Chauncey Depew</td><td>The adventures of a female reporter in the 1890s.</td><td>05.wrz</td><td>154</td><td>0</td><td>null</td><td>null</td><td>null</td><td>1.0</td><td>2.0</td><td>List(Blanche Bayliss, William Courtenay, Chauncey Depew)</td><td>Blanche Bayliss</td><td>false</td></tr><tr><td>tt0000009</td><td>Miss Jerry</td><td>Miss Jerry</td><td>1894</td><td>1894-10-09</td><td>Romance</td><td>45</td><td>USA</td><td>None</td><td>Alexander Black</td><td>Alexander Black</td><td>Alexander Black Photoplays</td><td>Blanche Bayliss, William Courtenay, Chauncey Depew</td><td>The adventures of a female reporter in the 1890s.</td><td>05.wrz</td><td>154</td><td>0</td><td>null</td><td>null</td><td>null</td><td>1.0</td><td>2.0</td><td>List(Blanche Bayliss, William Courtenay, Chauncey Depew)</td><td>William Courtenay</td><td>false</td></tr><tr><td>tt0000009</td><td>Miss Jerry</td><td>Miss Jerry</td><td>1894</td><td>1894-10-09</td><td>Romance</td><td>45</td><td>USA</td><td>None</td><td>Alexander Black</td><td>Alexander Black</td><td>Alexander Black Photoplays</td><td>Blanche Bayliss, William Courtenay, Chauncey Depew</td><td>The adventures of a female reporter in the 1890s.</td><td>05.wrz</td><td>154</td><td>0</td><td>null</td><td>null</td><td>null</td><td>1.0</td><td>2.0</td><td>List(Blanche Bayliss, William Courtenay, Chauncey Depew)</td><td>Chauncey Depew</td><td>false</td></tr><tr><td>tt0000574</td><td>The Story of the Kelly Gang</td><td>The Story of the Kelly Gang</td><td>1906</td><td>26.12.1906</td><td>Biography, Crime, Drama</td><td>70</td><td>Australia</td><td>None</td><td>Charles Tait</td><td>Charles Tait</td><td>J. and N. Tait</td><td>Elizabeth Tait, John Tait, Norman Campbell, Bella Cola, Will Coyne, Sam Crewes, Jack Ennis, John Forde, Vera Linden, Mr. Marshall, Mr. McKenzie, Frank Mills, Ollie Wilson</td><td>True story of notorious Australian outlaw Ned Kelly (1855-80).</td><td>06.sty</td><td>589</td><td>$ 2250</td><td>null</td><td>null</td><td>null</td><td>7.0</td><td>7.0</td><td>List(Elizabeth Tait, John Tait, Norman Campbell, Bella Cola, Will Coyne, Sam Crewes, Jack Ennis, John Forde, Vera Linden, Mr. Marshall, Mr. McKenzie, Frank Mills, Ollie Wilson)</td><td>Elizabeth Tait</td><td>false</td></tr><tr><td>tt0000574</td><td>The Story of the Kelly Gang</td><td>The Story of the Kelly Gang</td><td>1906</td><td>26.12.1906</td><td>Biography, Crime, Drama</td><td>70</td><td>Australia</td><td>None</td><td>Charles Tait</td><td>Charles Tait</td><td>J. and N. Tait</td><td>Elizabeth Tait, John Tait, Norman Campbell, Bella Cola, Will Coyne, Sam Crewes, Jack Ennis, John Forde, Vera Linden, Mr. Marshall, Mr. McKenzie, Frank Mills, Ollie Wilson</td><td>True story of notorious Australian outlaw Ned Kelly (1855-80).</td><td>06.sty</td><td>589</td><td>$ 2250</td><td>null</td><td>null</td><td>null</td><td>7.0</td><td>7.0</td><td>List(Elizabeth Tait, John Tait, Norman Campbell, Bella Cola, Will Coyne, Sam Crewes, Jack Ennis, John Forde, Vera Linden, Mr. Marshall, Mr. McKenzie, Frank Mills, Ollie Wilson)</td><td>John Tait</td><td>false</td></tr><tr><td>tt0000574</td><td>The Story of the Kelly Gang</td><td>The Story of the Kelly Gang</td><td>1906</td><td>26.12.1906</td><td>Biography, Crime, Drama</td><td>70</td><td>Australia</td><td>None</td><td>Charles Tait</td><td>Charles Tait</td><td>J. and N. Tait</td><td>Elizabeth Tait, John Tait, Norman Campbell, Bella Cola, Will Coyne, Sam Crewes, Jack Ennis, John Forde, Vera Linden, Mr. Marshall, Mr. McKenzie, Frank Mills, Ollie Wilson</td><td>True story of notorious Australian outlaw Ned Kelly (1855-80).</td><td>06.sty</td><td>589</td><td>$ 2250</td><td>null</td><td>null</td><td>null</td><td>7.0</td><td>7.0</td><td>List(Elizabeth Tait, John Tait, Norman Campbell, Bella Cola, Will Coyne, Sam Crewes, Jack Ennis, John Forde, Vera Linden, Mr. Marshall, Mr. McKenzie, Frank Mills, Ollie Wilson)</td><td>Norman Campbell</td><td>false</td></tr><tr><td>tt0000574</td><td>The Story of the Kelly Gang</td><td>The Story of the Kelly Gang</td><td>1906</td><td>26.12.1906</td><td>Biography, Crime, Drama</td><td>70</td><td>Australia</td><td>None</td><td>Charles Tait</td><td>Charles Tait</td><td>J. and N. Tait</td><td>Elizabeth Tait, John Tait, Norman Campbell, Bella Cola, Will Coyne, Sam Crewes, Jack Ennis, John Forde, Vera Linden, Mr. Marshall, Mr. McKenzie, Frank Mills, Ollie Wilson</td><td>True story of notorious Australian outlaw Ned Kelly (1855-80).</td><td>06.sty</td><td>589</td><td>$ 2250</td><td>null</td><td>null</td><td>null</td><td>7.0</td><td>7.0</td><td>List(Elizabeth Tait, John Tait, Norman Campbell, Bella Cola, Will Coyne, Sam Crewes, Jack Ennis, John Forde, Vera Linden, Mr. Marshall, Mr. McKenzie, Frank Mills, Ollie Wilson)</td><td>Bella Cola</td><td>false</td></tr><tr><td>tt0000574</td><td>The Story of the Kelly Gang</td><td>The Story of the Kelly Gang</td><td>1906</td><td>26.12.1906</td><td>Biography, Crime, Drama</td><td>70</td><td>Australia</td><td>None</td><td>Charles Tait</td><td>Charles Tait</td><td>J. and N. Tait</td><td>Elizabeth Tait, John Tait, Norman Campbell, Bella Cola, Will Coyne, Sam Crewes, Jack Ennis, John Forde, Vera Linden, Mr. Marshall, Mr. McKenzie, Frank Mills, Ollie Wilson</td><td>True story of notorious Australian outlaw Ned Kelly (1855-80).</td><td>06.sty</td><td>589</td><td>$ 2250</td><td>null</td><td>null</td><td>null</td><td>7.0</td><td>7.0</td><td>List(Elizabeth Tait, John Tait, Norman Campbell, Bella Cola, Will Coyne, Sam Crewes, Jack Ennis, John Forde, Vera Linden, Mr. Marshall, Mr. McKenzie, Frank Mills, Ollie Wilson)</td><td>Will Coyne</td><td>false</td></tr><tr><td>tt0000574</td><td>The Story of the Kelly Gang</td><td>The Story of the Kelly Gang</td><td>1906</td><td>26.12.1906</td><td>Biography, Crime, Drama</td><td>70</td><td>Australia</td><td>None</td><td>Charles Tait</td><td>Charles Tait</td><td>J. and N. Tait</td><td>Elizabeth Tait, John Tait, Norman Campbell, Bella Cola, Will Coyne, Sam Crewes, Jack Ennis, John Forde, Vera Linden, Mr. Marshall, Mr. McKenzie, Frank Mills, Ollie Wilson</td><td>True story of notorious Australian outlaw Ned Kelly (1855-80).</td><td>06.sty</td><td>589</td><td>$ 2250</td><td>null</td><td>null</td><td>null</td><td>7.0</td><td>7.0</td><td>List(Elizabeth Tait, John Tait, Norman Campbell, Bella Cola, Will Coyne, Sam Crewes, Jack Ennis, John Forde, Vera Linden, Mr. Marshall, Mr. McKenzie, Frank Mills, Ollie Wilson)</td><td>Sam Crewes</td><td>false</td></tr><tr><td>tt0000574</td><td>The Story of the Kelly Gang</td><td>The Story of the Kelly Gang</td><td>1906</td><td>26.12.1906</td><td>Biography, Crime, Drama</td><td>70</td><td>Australia</td><td>None</td><td>Charles Tait</td><td>Charles Tait</td><td>J. and N. Tait</td><td>Elizabeth Tait, John Tait, Norman Campbell, Bella Cola, Will Coyne, Sam Crewes, Jack Ennis, John Forde, Vera Linden, Mr. Marshall, Mr. McKenzie, Frank Mills, Ollie Wilson</td><td>True story of notorious Australian outlaw Ned Kelly (1855-80).</td><td>06.sty</td><td>589</td><td>$ 2250</td><td>null</td><td>null</td><td>null</td><td>7.0</td><td>7.0</td><td>List(Elizabeth Tait, John Tait, Norman Campbell, Bella Cola, Will Coyne, Sam Crewes, Jack Ennis, John Forde, Vera Linden, Mr. Marshall, Mr. McKenzie, Frank Mills, Ollie Wilson)</td><td>Jack Ennis</td><td>false</td></tr></tbody></table></div>"
      ]
     },
     "metadata": {
      "application/vnd.databricks.v1+output": {
       "addedWidgets": {},
       "aggData": [],
       "aggError": "",
       "aggOverflow": false,
       "aggSchema": [],
       "aggSeriesLimitReached": false,
       "aggType": "",
       "arguments": {},
       "columnCustomDisplayInfos": {},
       "data": [
        [
         "tt0000009",
         "Miss Jerry",
         "Miss Jerry",
         "1894",
         "1894-10-09",
         "Romance",
         45,
         "USA",
         "None",
         "Alexander Black",
         "Alexander Black",
         "Alexander Black Photoplays",
         "Blanche Bayliss, William Courtenay, Chauncey Depew",
         "The adventures of a female reporter in the 1890s.",
         "05.wrz",
         154,
         "0",
         null,
         null,
         null,
         1.0,
         2.0,
         [
          "Blanche Bayliss",
          "William Courtenay",
          "Chauncey Depew"
         ],
         "Blanche Bayliss",
         false
        ],
        [
         "tt0000009",
         "Miss Jerry",
         "Miss Jerry",
         "1894",
         "1894-10-09",
         "Romance",
         45,
         "USA",
         "None",
         "Alexander Black",
         "Alexander Black",
         "Alexander Black Photoplays",
         "Blanche Bayliss, William Courtenay, Chauncey Depew",
         "The adventures of a female reporter in the 1890s.",
         "05.wrz",
         154,
         "0",
         null,
         null,
         null,
         1.0,
         2.0,
         [
          "Blanche Bayliss",
          "William Courtenay",
          "Chauncey Depew"
         ],
         "William Courtenay",
         false
        ],
        [
         "tt0000009",
         "Miss Jerry",
         "Miss Jerry",
         "1894",
         "1894-10-09",
         "Romance",
         45,
         "USA",
         "None",
         "Alexander Black",
         "Alexander Black",
         "Alexander Black Photoplays",
         "Blanche Bayliss, William Courtenay, Chauncey Depew",
         "The adventures of a female reporter in the 1890s.",
         "05.wrz",
         154,
         "0",
         null,
         null,
         null,
         1.0,
         2.0,
         [
          "Blanche Bayliss",
          "William Courtenay",
          "Chauncey Depew"
         ],
         "Chauncey Depew",
         false
        ],
        [
         "tt0000574",
         "The Story of the Kelly Gang",
         "The Story of the Kelly Gang",
         "1906",
         "26.12.1906",
         "Biography, Crime, Drama",
         70,
         "Australia",
         "None",
         "Charles Tait",
         "Charles Tait",
         "J. and N. Tait",
         "Elizabeth Tait, John Tait, Norman Campbell, Bella Cola, Will Coyne, Sam Crewes, Jack Ennis, John Forde, Vera Linden, Mr. Marshall, Mr. McKenzie, Frank Mills, Ollie Wilson",
         "True story of notorious Australian outlaw Ned Kelly (1855-80).",
         "06.sty",
         589,
         "$ 2250",
         null,
         null,
         null,
         7.0,
         7.0,
         [
          "Elizabeth Tait",
          "John Tait",
          "Norman Campbell",
          "Bella Cola",
          "Will Coyne",
          "Sam Crewes",
          "Jack Ennis",
          "John Forde",
          "Vera Linden",
          "Mr. Marshall",
          "Mr. McKenzie",
          "Frank Mills",
          "Ollie Wilson"
         ],
         "Elizabeth Tait",
         false
        ],
        [
         "tt0000574",
         "The Story of the Kelly Gang",
         "The Story of the Kelly Gang",
         "1906",
         "26.12.1906",
         "Biography, Crime, Drama",
         70,
         "Australia",
         "None",
         "Charles Tait",
         "Charles Tait",
         "J. and N. Tait",
         "Elizabeth Tait, John Tait, Norman Campbell, Bella Cola, Will Coyne, Sam Crewes, Jack Ennis, John Forde, Vera Linden, Mr. Marshall, Mr. McKenzie, Frank Mills, Ollie Wilson",
         "True story of notorious Australian outlaw Ned Kelly (1855-80).",
         "06.sty",
         589,
         "$ 2250",
         null,
         null,
         null,
         7.0,
         7.0,
         [
          "Elizabeth Tait",
          "John Tait",
          "Norman Campbell",
          "Bella Cola",
          "Will Coyne",
          "Sam Crewes",
          "Jack Ennis",
          "John Forde",
          "Vera Linden",
          "Mr. Marshall",
          "Mr. McKenzie",
          "Frank Mills",
          "Ollie Wilson"
         ],
         "John Tait",
         false
        ],
        [
         "tt0000574",
         "The Story of the Kelly Gang",
         "The Story of the Kelly Gang",
         "1906",
         "26.12.1906",
         "Biography, Crime, Drama",
         70,
         "Australia",
         "None",
         "Charles Tait",
         "Charles Tait",
         "J. and N. Tait",
         "Elizabeth Tait, John Tait, Norman Campbell, Bella Cola, Will Coyne, Sam Crewes, Jack Ennis, John Forde, Vera Linden, Mr. Marshall, Mr. McKenzie, Frank Mills, Ollie Wilson",
         "True story of notorious Australian outlaw Ned Kelly (1855-80).",
         "06.sty",
         589,
         "$ 2250",
         null,
         null,
         null,
         7.0,
         7.0,
         [
          "Elizabeth Tait",
          "John Tait",
          "Norman Campbell",
          "Bella Cola",
          "Will Coyne",
          "Sam Crewes",
          "Jack Ennis",
          "John Forde",
          "Vera Linden",
          "Mr. Marshall",
          "Mr. McKenzie",
          "Frank Mills",
          "Ollie Wilson"
         ],
         "Norman Campbell",
         false
        ],
        [
         "tt0000574",
         "The Story of the Kelly Gang",
         "The Story of the Kelly Gang",
         "1906",
         "26.12.1906",
         "Biography, Crime, Drama",
         70,
         "Australia",
         "None",
         "Charles Tait",
         "Charles Tait",
         "J. and N. Tait",
         "Elizabeth Tait, John Tait, Norman Campbell, Bella Cola, Will Coyne, Sam Crewes, Jack Ennis, John Forde, Vera Linden, Mr. Marshall, Mr. McKenzie, Frank Mills, Ollie Wilson",
         "True story of notorious Australian outlaw Ned Kelly (1855-80).",
         "06.sty",
         589,
         "$ 2250",
         null,
         null,
         null,
         7.0,
         7.0,
         [
          "Elizabeth Tait",
          "John Tait",
          "Norman Campbell",
          "Bella Cola",
          "Will Coyne",
          "Sam Crewes",
          "Jack Ennis",
          "John Forde",
          "Vera Linden",
          "Mr. Marshall",
          "Mr. McKenzie",
          "Frank Mills",
          "Ollie Wilson"
         ],
         "Bella Cola",
         false
        ],
        [
         "tt0000574",
         "The Story of the Kelly Gang",
         "The Story of the Kelly Gang",
         "1906",
         "26.12.1906",
         "Biography, Crime, Drama",
         70,
         "Australia",
         "None",
         "Charles Tait",
         "Charles Tait",
         "J. and N. Tait",
         "Elizabeth Tait, John Tait, Norman Campbell, Bella Cola, Will Coyne, Sam Crewes, Jack Ennis, John Forde, Vera Linden, Mr. Marshall, Mr. McKenzie, Frank Mills, Ollie Wilson",
         "True story of notorious Australian outlaw Ned Kelly (1855-80).",
         "06.sty",
         589,
         "$ 2250",
         null,
         null,
         null,
         7.0,
         7.0,
         [
          "Elizabeth Tait",
          "John Tait",
          "Norman Campbell",
          "Bella Cola",
          "Will Coyne",
          "Sam Crewes",
          "Jack Ennis",
          "John Forde",
          "Vera Linden",
          "Mr. Marshall",
          "Mr. McKenzie",
          "Frank Mills",
          "Ollie Wilson"
         ],
         "Will Coyne",
         false
        ],
        [
         "tt0000574",
         "The Story of the Kelly Gang",
         "The Story of the Kelly Gang",
         "1906",
         "26.12.1906",
         "Biography, Crime, Drama",
         70,
         "Australia",
         "None",
         "Charles Tait",
         "Charles Tait",
         "J. and N. Tait",
         "Elizabeth Tait, John Tait, Norman Campbell, Bella Cola, Will Coyne, Sam Crewes, Jack Ennis, John Forde, Vera Linden, Mr. Marshall, Mr. McKenzie, Frank Mills, Ollie Wilson",
         "True story of notorious Australian outlaw Ned Kelly (1855-80).",
         "06.sty",
         589,
         "$ 2250",
         null,
         null,
         null,
         7.0,
         7.0,
         [
          "Elizabeth Tait",
          "John Tait",
          "Norman Campbell",
          "Bella Cola",
          "Will Coyne",
          "Sam Crewes",
          "Jack Ennis",
          "John Forde",
          "Vera Linden",
          "Mr. Marshall",
          "Mr. McKenzie",
          "Frank Mills",
          "Ollie Wilson"
         ],
         "Sam Crewes",
         false
        ],
        [
         "tt0000574",
         "The Story of the Kelly Gang",
         "The Story of the Kelly Gang",
         "1906",
         "26.12.1906",
         "Biography, Crime, Drama",
         70,
         "Australia",
         "None",
         "Charles Tait",
         "Charles Tait",
         "J. and N. Tait",
         "Elizabeth Tait, John Tait, Norman Campbell, Bella Cola, Will Coyne, Sam Crewes, Jack Ennis, John Forde, Vera Linden, Mr. Marshall, Mr. McKenzie, Frank Mills, Ollie Wilson",
         "True story of notorious Australian outlaw Ned Kelly (1855-80).",
         "06.sty",
         589,
         "$ 2250",
         null,
         null,
         null,
         7.0,
         7.0,
         [
          "Elizabeth Tait",
          "John Tait",
          "Norman Campbell",
          "Bella Cola",
          "Will Coyne",
          "Sam Crewes",
          "Jack Ennis",
          "John Forde",
          "Vera Linden",
          "Mr. Marshall",
          "Mr. McKenzie",
          "Frank Mills",
          "Ollie Wilson"
         ],
         "Jack Ennis",
         false
        ]
       ],
       "datasetInfos": [],
       "dbfsResultPath": null,
       "isJsonSchema": true,
       "metadata": {},
       "overflow": false,
       "plotOptions": {
        "customPlotOptions": {},
        "displayType": "table",
        "pivotAggregation": null,
        "pivotColumns": null,
        "xColumns": null,
        "yColumns": null
       },
       "removedWidgets": [],
       "schema": [
        {
         "metadata": "{}",
         "name": "imdb_title_id",
         "type": "\"string\""
        },
        {
         "metadata": "{}",
         "name": "title",
         "type": "\"string\""
        },
        {
         "metadata": "{}",
         "name": "original_title",
         "type": "\"string\""
        },
        {
         "metadata": "{}",
         "name": "year",
         "type": "\"string\""
        },
        {
         "metadata": "{}",
         "name": "date_published",
         "type": "\"string\""
        },
        {
         "metadata": "{}",
         "name": "genre",
         "type": "\"string\""
        },
        {
         "metadata": "{}",
         "name": "duration",
         "type": "\"integer\""
        },
        {
         "metadata": "{}",
         "name": "country",
         "type": "\"string\""
        },
        {
         "metadata": "{}",
         "name": "language",
         "type": "\"string\""
        },
        {
         "metadata": "{}",
         "name": "director",
         "type": "\"string\""
        },
        {
         "metadata": "{}",
         "name": "writer",
         "type": "\"string\""
        },
        {
         "metadata": "{}",
         "name": "production_company",
         "type": "\"string\""
        },
        {
         "metadata": "{}",
         "name": "actors",
         "type": "\"string\""
        },
        {
         "metadata": "{}",
         "name": "description",
         "type": "\"string\""
        },
        {
         "metadata": "{}",
         "name": "avg_vote",
         "type": "\"string\""
        },
        {
         "metadata": "{}",
         "name": "votes",
         "type": "\"integer\""
        },
        {
         "metadata": "{}",
         "name": "budget",
         "type": "\"string\""
        },
        {
         "metadata": "{}",
         "name": "usa_gross_income",
         "type": "\"string\""
        },
        {
         "metadata": "{}",
         "name": "worlwide_gross_income",
         "type": "\"string\""
        },
        {
         "metadata": "{}",
         "name": "metascore",
         "type": "\"double\""
        },
        {
         "metadata": "{}",
         "name": "reviews_from_users",
         "type": "\"double\""
        },
        {
         "metadata": "{}",
         "name": "reviews_from_critics",
         "type": "\"double\""
        },
        {
         "metadata": "{}",
         "name": "actor_list",
         "type": "{\"type\":\"array\",\"elementType\":\"string\",\"containsNull\":false}"
        },
        {
         "metadata": "{}",
         "name": "actor",
         "type": "\"string\""
        },
        {
         "metadata": "{}",
         "name": "has_Leonardo",
         "type": "\"boolean\""
        }
       ],
       "type": "table"
      }
     },
     "output_type": "display_data"
    }
   ],
   "source": [
    "#array_contains szuka dicaprio wsrod aktorow\n",
    "moviesExploded = moviesExploded.withColumn(\"has_Leonardo\", array_contains(col(\"actor_list\"), \"Leonardo DiCaprio\"))\n",
    "\n",
    "display(moviesExploded.limit(10))"
   ]
  },
  {
   "cell_type": "code",
   "execution_count": 0,
   "metadata": {
    "application/vnd.databricks.v1+cell": {
     "cellMetadata": {
      "byteLimit": 2048000,
      "rowLimit": 10000
     },
     "inputWidgets": {},
     "nuid": "fb53d3f7-e3e7-491c-9b46-5f97b43b3846",
     "showTitle": false,
     "tableResultSettingsMap": {},
     "title": ""
    }
   },
   "outputs": [
    {
     "output_type": "display_data",
     "data": {
      "text/html": [
       "<style scoped>\n",
       "  .table-result-container {\n",
       "    max-height: 300px;\n",
       "    overflow: auto;\n",
       "  }\n",
       "  table, th, td {\n",
       "    border: 1px solid black;\n",
       "    border-collapse: collapse;\n",
       "  }\n",
       "  th, td {\n",
       "    padding: 5px;\n",
       "  }\n",
       "  th {\n",
       "    text-align: left;\n",
       "  }\n",
       "</style><div class='table-result-container'><table class='table-result'><thead style='background-color: white'><tr><th>country</th><th>film_count</th></tr></thead><tbody><tr><td>UK, Spain</td><td>27</td></tr><tr><td>India, Germany</td><td>3</td></tr><tr><td>USA, France, UK</td><td>6</td></tr><tr><td>Russia</td><td>802</td></tr><tr><td>UK, France</td><td>89</td></tr><tr><td>West Germany, USA</td><td>24</td></tr><tr><td>France, Italy, East Germany</td><td>1</td></tr><tr><td>Greece, France, USA</td><td>1</td></tr><tr><td>USA, Japan</td><td>92</td></tr><tr><td>Italy, France, Germany</td><td>10</td></tr></tbody></table></div>"
      ]
     },
     "metadata": {
      "application/vnd.databricks.v1+output": {
       "addedWidgets": {},
       "aggData": [],
       "aggError": "",
       "aggOverflow": false,
       "aggSchema": [],
       "aggSeriesLimitReached": false,
       "aggType": "",
       "arguments": {},
       "columnCustomDisplayInfos": {},
       "data": [
        [
         "UK, Spain",
         27
        ],
        [
         "India, Germany",
         3
        ],
        [
         "USA, France, UK",
         6
        ],
        [
         "Russia",
         802
        ],
        [
         "UK, France",
         89
        ],
        [
         "West Germany, USA",
         24
        ],
        [
         "France, Italy, East Germany",
         1
        ],
        [
         "Greece, France, USA",
         1
        ],
        [
         "USA, Japan",
         92
        ],
        [
         "Italy, France, Germany",
         10
        ]
       ],
       "datasetInfos": [],
       "dbfsResultPath": null,
       "isJsonSchema": true,
       "metadata": {},
       "overflow": false,
       "plotOptions": {
        "customPlotOptions": {},
        "displayType": "table",
        "pivotAggregation": null,
        "pivotColumns": null,
        "xColumns": null,
        "yColumns": null
       },
       "removedWidgets": [],
       "schema": [
        {
         "metadata": "{}",
         "name": "country",
         "type": "\"string\""
        },
        {
         "metadata": "{}",
         "name": "film_count",
         "type": "\"long\""
        }
       ],
       "type": "table"
      }
     },
     "output_type": "display_data"
    }
   ],
   "source": [
    "#count\n",
    "countDf = moviesDf.groupBy(\"country\").agg(count(\"*\").alias(\"film_count\"))\n",
    "\n",
    "display(countDf.limit(10))\n"
   ]
  },
  {
   "cell_type": "code",
   "execution_count": 0,
   "metadata": {
    "application/vnd.databricks.v1+cell": {
     "cellMetadata": {
      "byteLimit": 2048000,
      "rowLimit": 10000
     },
     "inputWidgets": {},
     "nuid": "12c8587b-b797-458d-afcc-f8a92dac2ad1",
     "showTitle": false,
     "tableResultSettingsMap": {},
     "title": ""
    }
   },
   "outputs": [
    {
     "output_type": "display_data",
     "data": {
      "text/html": [
       "<style scoped>\n",
       "  .table-result-container {\n",
       "    max-height: 300px;\n",
       "    overflow: auto;\n",
       "  }\n",
       "  table, th, td {\n",
       "    border: 1px solid black;\n",
       "    border-collapse: collapse;\n",
       "  }\n",
       "  th, td {\n",
       "    padding: 5px;\n",
       "  }\n",
       "  th {\n",
       "    text-align: left;\n",
       "  }\n",
       "</style><div class='table-result-container'><table class='table-result'><thead style='background-color: white'><tr><th>country</th><th>total_budget</th></tr></thead><tbody><tr><td>UK, Spain</td><td>4.23E7</td></tr><tr><td>India, Germany</td><td>1.67E7</td></tr><tr><td>USA, France, UK</td><td>3.7E7</td></tr><tr><td>Russia</td><td>1.181942086E9</td></tr><tr><td>UK, France</td><td>3.00765E8</td></tr><tr><td>West Germany, USA</td><td>4.87E7</td></tr><tr><td>France, Italy, East Germany</td><td>0.0</td></tr><tr><td>Greece, France, USA</td><td>0.0</td></tr><tr><td>USA, Japan</td><td>1.860272E9</td></tr><tr><td>Italy, France, Germany</td><td>4000000.0</td></tr></tbody></table></div>"
      ]
     },
     "metadata": {
      "application/vnd.databricks.v1+output": {
       "addedWidgets": {},
       "aggData": [],
       "aggError": "",
       "aggOverflow": false,
       "aggSchema": [],
       "aggSeriesLimitReached": false,
       "aggType": "",
       "arguments": {},
       "columnCustomDisplayInfos": {},
       "data": [
        [
         "UK, Spain",
         4.23E7
        ],
        [
         "India, Germany",
         1.67E7
        ],
        [
         "USA, France, UK",
         3.7E7
        ],
        [
         "Russia",
         1.181942086E9
        ],
        [
         "UK, France",
         3.00765E8
        ],
        [
         "West Germany, USA",
         4.87E7
        ],
        [
         "France, Italy, East Germany",
         0.0
        ],
        [
         "Greece, France, USA",
         0.0
        ],
        [
         "USA, Japan",
         1.860272E9
        ],
        [
         "Italy, France, Germany",
         4000000.0
        ]
       ],
       "datasetInfos": [],
       "dbfsResultPath": null,
       "isJsonSchema": true,
       "metadata": {},
       "overflow": false,
       "plotOptions": {
        "customPlotOptions": {},
        "displayType": "table",
        "pivotAggregation": null,
        "pivotColumns": null,
        "xColumns": null,
        "yColumns": null
       },
       "removedWidgets": [],
       "schema": [
        {
         "metadata": "{}",
         "name": "country",
         "type": "\"string\""
        },
        {
         "metadata": "{}",
         "name": "total_budget",
         "type": "\"double\""
        }
       ],
       "type": "table"
      }
     },
     "output_type": "display_data"
    }
   ],
   "source": [
    "#sum\n",
    "sumDf = moviesDf.groupBy(\"country\").agg(sum(\"clean_budget\").alias(\"total_budget\"))\n",
    "\n",
    "display(sumDf.limit(10))"
   ]
  },
  {
   "cell_type": "code",
   "execution_count": 0,
   "metadata": {
    "application/vnd.databricks.v1+cell": {
     "cellMetadata": {
      "byteLimit": 2048000,
      "rowLimit": 10000
     },
     "inputWidgets": {},
     "nuid": "0c45f384-f678-4826-bd8b-afaa13b5d790",
     "showTitle": false,
     "tableResultSettingsMap": {},
     "title": ""
    }
   },
   "outputs": [
    {
     "output_type": "display_data",
     "data": {
      "text/html": [
       "<style scoped>\n",
       "  .table-result-container {\n",
       "    max-height: 300px;\n",
       "    overflow: auto;\n",
       "  }\n",
       "  table, th, td {\n",
       "    border: 1px solid black;\n",
       "    border-collapse: collapse;\n",
       "  }\n",
       "  th, td {\n",
       "    padding: 5px;\n",
       "  }\n",
       "  th {\n",
       "    text-align: left;\n",
       "  }\n",
       "</style><div class='table-result-container'><table class='table-result'><thead style='background-color: white'><tr><th>country</th><th>avg_duration</th></tr></thead><tbody><tr><td>UK, Spain</td><td>96.25925925925925</td></tr><tr><td>India, Germany</td><td>120.0</td></tr><tr><td>USA, France, UK</td><td>103.83333333333333</td></tr><tr><td>Russia</td><td>99.45386533665835</td></tr><tr><td>UK, France</td><td>103.64044943820225</td></tr><tr><td>West Germany, USA</td><td>100.83333333333333</td></tr><tr><td>France, Italy, East Germany</td><td>210.0</td></tr><tr><td>Greece, France, USA</td><td>115.0</td></tr><tr><td>USA, Japan</td><td>102.80434782608695</td></tr><tr><td>Italy, France, Germany</td><td>104.1</td></tr></tbody></table></div>"
      ]
     },
     "metadata": {
      "application/vnd.databricks.v1+output": {
       "addedWidgets": {},
       "aggData": [],
       "aggError": "",
       "aggOverflow": false,
       "aggSchema": [],
       "aggSeriesLimitReached": false,
       "aggType": "",
       "arguments": {},
       "columnCustomDisplayInfos": {},
       "data": [
        [
         "UK, Spain",
         96.25925925925925
        ],
        [
         "India, Germany",
         120.0
        ],
        [
         "USA, France, UK",
         103.83333333333333
        ],
        [
         "Russia",
         99.45386533665835
        ],
        [
         "UK, France",
         103.64044943820225
        ],
        [
         "West Germany, USA",
         100.83333333333333
        ],
        [
         "France, Italy, East Germany",
         210.0
        ],
        [
         "Greece, France, USA",
         115.0
        ],
        [
         "USA, Japan",
         102.80434782608695
        ],
        [
         "Italy, France, Germany",
         104.1
        ]
       ],
       "datasetInfos": [],
       "dbfsResultPath": null,
       "isJsonSchema": true,
       "metadata": {},
       "overflow": false,
       "plotOptions": {
        "customPlotOptions": {},
        "displayType": "table",
        "pivotAggregation": null,
        "pivotColumns": null,
        "xColumns": null,
        "yColumns": null
       },
       "removedWidgets": [],
       "schema": [
        {
         "metadata": "{}",
         "name": "country",
         "type": "\"string\""
        },
        {
         "metadata": "{}",
         "name": "avg_duration",
         "type": "\"double\""
        }
       ],
       "type": "table"
      }
     },
     "output_type": "display_data"
    }
   ],
   "source": [
    "#avg\n",
    "avgDf = moviesDf.groupBy(\"country\").agg(avg(\"duration\").alias(\"avg_duration\"))\n",
    "\n",
    "display(avgDf.limit(10))"
   ]
  },
  {
   "cell_type": "markdown",
   "metadata": {
    "application/vnd.databricks.v1+cell": {
     "cellMetadata": {
      "byteLimit": 2048000,
      "rowLimit": 10000
     },
     "inputWidgets": {},
     "nuid": "ebc21bea-08e6-4f93-a33f-b9ae6965269a",
     "showTitle": false,
     "tableResultSettingsMap": {},
     "title": ""
    }
   },
   "source": [
    "## Zadanie 2\n",
    "Stwórz 2 funkcje UDF do wybranego zestawu danych, wymyśl co mają robić w kontekście wybranych danych. \n",
    "- Jedna funkcja z dekoratorem @pandas_udf druga standardowa. \n",
    "- Jedna funkcja działające na typach liczbowych: int, double  \n",
    "- Jedna funkcja na string "
   ]
  },
  {
   "cell_type": "code",
   "execution_count": 0,
   "metadata": {
    "application/vnd.databricks.v1+cell": {
     "cellMetadata": {
      "byteLimit": 2048000,
      "rowLimit": 10000
     },
     "inputWidgets": {},
     "nuid": "cef945b8-a599-438b-a465-ea14b749a2b4",
     "showTitle": false,
     "tableResultSettingsMap": {},
     "title": ""
    }
   },
   "outputs": [
    {
     "output_type": "display_data",
     "data": {
      "text/html": [
       "<style scoped>\n",
       "  .table-result-container {\n",
       "    max-height: 300px;\n",
       "    overflow: auto;\n",
       "  }\n",
       "  table, th, td {\n",
       "    border: 1px solid black;\n",
       "    border-collapse: collapse;\n",
       "  }\n",
       "  th, td {\n",
       "    padding: 5px;\n",
       "  }\n",
       "  th {\n",
       "    text-align: left;\n",
       "  }\n",
       "</style><div class='table-result-container'><table class='table-result'><thead style='background-color: white'><tr><th>title</th><th>clean_budget</th><th>budget_category</th></tr></thead><tbody><tr><td>Miss Jerry</td><td>0.0</td><td>Low</td></tr><tr><td>The Story of the Kelly Gang</td><td>2250.0</td><td>Medium</td></tr><tr><td>Den sorte drøm</td><td>0.0</td><td>Low</td></tr><tr><td>Cleopatra</td><td>45000.0</td><td>High</td></tr><tr><td>L'Inferno</td><td>0.0</td><td>Low</td></tr><tr><td>From the Manger to the Cross or, Jesus of Nazareth</td><td>0.0</td><td>Low</td></tr><tr><td>Madame DuBarry</td><td>0.0</td><td>Low</td></tr><tr><td>Quo Vadis?</td><td>null</td><td>Unknown</td></tr><tr><td>Independenta Romaniei</td><td>null</td><td>Unknown</td></tr><tr><td>Richard III</td><td>30000.0</td><td>High</td></tr></tbody></table></div>"
      ]
     },
     "metadata": {
      "application/vnd.databricks.v1+output": {
       "addedWidgets": {},
       "aggData": [],
       "aggError": "",
       "aggOverflow": false,
       "aggSchema": [],
       "aggSeriesLimitReached": false,
       "aggType": "",
       "arguments": {},
       "columnCustomDisplayInfos": {},
       "data": [
        [
         "Miss Jerry",
         0.0,
         "Low"
        ],
        [
         "The Story of the Kelly Gang",
         2250.0,
         "Medium"
        ],
        [
         "Den sorte drøm",
         0.0,
         "Low"
        ],
        [
         "Cleopatra",
         45000.0,
         "High"
        ],
        [
         "L'Inferno",
         0.0,
         "Low"
        ],
        [
         "From the Manger to the Cross or, Jesus of Nazareth",
         0.0,
         "Low"
        ],
        [
         "Madame DuBarry",
         0.0,
         "Low"
        ],
        [
         "Quo Vadis?",
         null,
         "Unknown"
        ],
        [
         "Independenta Romaniei",
         null,
         "Unknown"
        ],
        [
         "Richard III",
         30000.0,
         "High"
        ]
       ],
       "datasetInfos": [],
       "dbfsResultPath": null,
       "isJsonSchema": true,
       "metadata": {},
       "overflow": false,
       "plotOptions": {
        "customPlotOptions": {},
        "displayType": "table",
        "pivotAggregation": null,
        "pivotColumns": null,
        "xColumns": null,
        "yColumns": null
       },
       "removedWidgets": [],
       "schema": [
        {
         "metadata": "{}",
         "name": "title",
         "type": "\"string\""
        },
        {
         "metadata": "{}",
         "name": "clean_budget",
         "type": "\"double\""
        },
        {
         "metadata": "{}",
         "name": "budget_category",
         "type": "\"string\""
        }
       ],
       "type": "table"
      }
     },
     "output_type": "display_data"
    }
   ],
   "source": [
    "#funkcja czy budzet filmu przekracza 10k\n",
    "from pyspark.sql.functions import udf\n",
    "from pyspark.sql.types import StringType\n",
    "\n",
    "#działa na double (budget) i zwraca tekst\n",
    "def budget_category(budget):\n",
    "    if budget is None:\n",
    "        return \"Unknown\"\n",
    "    elif budget > 10_000:\n",
    "        return \"High\"\n",
    "    elif budget > 2_000:\n",
    "        return \"Medium\"\n",
    "    else:\n",
    "        return \"Low\"\n",
    "\n",
    "budget_category_udf = udf(budget_category, StringType())\n",
    "\n",
    "moviesDf = moviesDf.withColumn(\"budget_category\", budget_category_udf(col(\"clean_budget\")))\n",
    "display(moviesDf.select(\"title\", \"clean_budget\", \"budget_category\").limit(10))"
   ]
  },
  {
   "cell_type": "code",
   "execution_count": 0,
   "metadata": {
    "application/vnd.databricks.v1+cell": {
     "cellMetadata": {
      "byteLimit": 2048000,
      "rowLimit": 10000
     },
     "inputWidgets": {},
     "nuid": "907220dc-9147-4d73-b693-c3c8be17a04c",
     "showTitle": false,
     "tableResultSettingsMap": {},
     "title": ""
    }
   },
   "outputs": [
    {
     "output_type": "display_data",
     "data": {
      "application/vnd.databricks.v1+bamboolib_hint": "{\"pd.DataFrames\": [], \"version\": \"0.0.1\"}",
      "text/plain": []
     },
     "metadata": {},
     "output_type": "display_data"
    },
    {
     "output_type": "display_data",
     "data": {
      "text/html": [
       "<style scoped>\n",
       "  .table-result-container {\n",
       "    max-height: 300px;\n",
       "    overflow: auto;\n",
       "  }\n",
       "  table, th, td {\n",
       "    border: 1px solid black;\n",
       "    border-collapse: collapse;\n",
       "  }\n",
       "  th, td {\n",
       "    padding: 5px;\n",
       "  }\n",
       "  th {\n",
       "    text-align: left;\n",
       "  }\n",
       "</style><div class='table-result-container'><table class='table-result'><thead style='background-color: white'><tr><th>title</th><th>title_length</th></tr></thead><tbody><tr><td>Miss Jerry</td><td>10</td></tr><tr><td>The Story of the Kelly Gang</td><td>27</td></tr><tr><td>Den sorte drøm</td><td>14</td></tr><tr><td>Cleopatra</td><td>9</td></tr><tr><td>L'Inferno</td><td>9</td></tr><tr><td>From the Manger to the Cross or, Jesus of Nazareth</td><td>50</td></tr><tr><td>Madame DuBarry</td><td>14</td></tr><tr><td>Quo Vadis?</td><td>10</td></tr><tr><td>Independenta Romaniei</td><td>21</td></tr><tr><td>Richard III</td><td>11</td></tr></tbody></table></div>"
      ]
     },
     "metadata": {
      "application/vnd.databricks.v1+output": {
       "addedWidgets": {},
       "aggData": [],
       "aggError": "",
       "aggOverflow": false,
       "aggSchema": [],
       "aggSeriesLimitReached": false,
       "aggType": "",
       "arguments": {},
       "columnCustomDisplayInfos": {},
       "data": [
        [
         "Miss Jerry",
         10
        ],
        [
         "The Story of the Kelly Gang",
         27
        ],
        [
         "Den sorte drøm",
         14
        ],
        [
         "Cleopatra",
         9
        ],
        [
         "L'Inferno",
         9
        ],
        [
         "From the Manger to the Cross or, Jesus of Nazareth",
         50
        ],
        [
         "Madame DuBarry",
         14
        ],
        [
         "Quo Vadis?",
         10
        ],
        [
         "Independenta Romaniei",
         21
        ],
        [
         "Richard III",
         11
        ]
       ],
       "datasetInfos": [],
       "dbfsResultPath": null,
       "isJsonSchema": true,
       "metadata": {},
       "overflow": false,
       "plotOptions": {
        "customPlotOptions": {},
        "displayType": "table",
        "pivotAggregation": null,
        "pivotColumns": null,
        "xColumns": null,
        "yColumns": null
       },
       "removedWidgets": [],
       "schema": [
        {
         "metadata": "{}",
         "name": "title",
         "type": "\"string\""
        },
        {
         "metadata": "{}",
         "name": "title_length",
         "type": "\"integer\""
        }
       ],
       "type": "table"
      }
     },
     "output_type": "display_data"
    }
   ],
   "source": [
    "from pyspark.sql.functions import pandas_udf\n",
    "from pyspark.sql.types import IntegerType\n",
    "import pandas as pd\n",
    "\n",
    "#działa na stringach i zwraca int (długość tytułu)\n",
    "@pandas_udf(IntegerType())\n",
    "def title_length(title_col: pd.Series) -> pd.Series:\n",
    "    return title_col.str.len()\n",
    "\n",
    "moviesDf = moviesDf.withColumn(\"title_length\", title_length(col(\"title\")))\n",
    "display(moviesDf.select(\"title\", \"title_length\").limit(10))\n"
   ]
  }
 ],
 "metadata": {
  "application/vnd.databricks.v1+notebook": {
   "computePreferences": null,
   "dashboards": [],
   "environmentMetadata": {
    "base_environment": "",
    "environment_version": "1"
   },
   "inputWidgetPreferences": null,
   "language": "python",
   "notebookMetadata": {
    "pythonIndentUnit": 4
   },
   "notebookName": "Cwiczenia 4",
   "widgets": {}
  }
 },
 "nbformat": 4,
 "nbformat_minor": 0
}